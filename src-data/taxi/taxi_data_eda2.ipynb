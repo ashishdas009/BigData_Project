{
 "cells": [
  {
   "cell_type": "code",
   "execution_count": 1,
   "metadata": {},
   "outputs": [
    {
     "data": {
      "text/html": [
       "<style>.container { width:100% !important; }</style>"
      ],
      "text/plain": [
       "<IPython.core.display.HTML object>"
      ]
     },
     "metadata": {},
     "output_type": "display_data"
    }
   ],
   "source": [
    "from IPython.core.display import display, HTML\n",
    "display(HTML(\"<style>.container { width:100% !important; }</style>\"))"
   ]
  },
  {
   "cell_type": "code",
   "execution_count": 100,
   "metadata": {},
   "outputs": [],
   "source": [
    "from pyspark.sql.functions import mean as _mean, stddev as _stddev, col\n",
    "from pyspark.sql.types import DateType, StringType\n",
    "from pyspark.sql import SparkSession\n",
    "import pyspark.sql.functions as F\n",
    "from pyspark_dist_explore import hist\n",
    "\n",
    "import pandas as pd\n",
    "import numpy as np\n",
    "import matplotlib.pyplot as plt"
   ]
  },
  {
   "cell_type": "code",
   "execution_count": 6,
   "metadata": {},
   "outputs": [],
   "source": [
    "spark = SparkSession.builder.appName('test').getOrCreate()"
   ]
  },
  {
   "cell_type": "code",
   "execution_count": 7,
   "metadata": {},
   "outputs": [
    {
     "data": {
      "text/html": [
       "\n",
       "            <div>\n",
       "                <p><b>SparkSession - in-memory</b></p>\n",
       "                \n",
       "        <div>\n",
       "            <p><b>SparkContext</b></p>\n",
       "\n",
       "            <p><a href=\"http://192.168.0.15:4040\">Spark UI</a></p>\n",
       "\n",
       "            <dl>\n",
       "              <dt>Version</dt>\n",
       "                <dd><code>v3.0.0</code></dd>\n",
       "              <dt>Master</dt>\n",
       "                <dd><code>local[*]</code></dd>\n",
       "              <dt>AppName</dt>\n",
       "                <dd><code>test</code></dd>\n",
       "            </dl>\n",
       "        </div>\n",
       "        \n",
       "            </div>\n",
       "        "
      ],
      "text/plain": [
       "<pyspark.sql.session.SparkSession at 0x7fbfb1ec7610>"
      ]
     },
     "execution_count": 7,
     "metadata": {},
     "output_type": "execute_result"
    }
   ],
   "source": [
    "spark"
   ]
  },
  {
   "cell_type": "code",
   "execution_count": 36,
   "metadata": {},
   "outputs": [],
   "source": [
    "taxi = spark.read.csv('financial-data/2020_Yellow_Taxi_Trip_Data__January_-_June_.csv',\n",
    "                      header = True, inferSchema = True)"
   ]
  },
  {
   "cell_type": "code",
   "execution_count": 37,
   "metadata": {},
   "outputs": [
    {
     "name": "stdout",
     "output_type": "stream",
     "text": [
      "+--------+----------------------+----------------------+---------------+-------------+----------+------------------+------------+------------+------------+-----------+-----+-------+----------+------------+---------------------+------------+--------------------+\n",
      "|VendorID|tpep_pickup_datetime  |tpep_dropoff_datetime |passenger_count|trip_distance|RatecodeID|store_and_fwd_flag|PULocationID|DOLocationID|payment_type|fare_amount|extra|mta_tax|tip_amount|tolls_amount|improvement_surcharge|total_amount|congestion_surcharge|\n",
      "+--------+----------------------+----------------------+---------------+-------------+----------+------------------+------------+------------+------------+-----------+-----+-------+----------+------------+---------------------+------------+--------------------+\n",
      "|1       |01/01/2020 12:28:15 AM|01/01/2020 12:33:03 AM|1              |1.2          |1         |N                 |238         |239         |1           |6.0        |3.0  |0.5    |1.47      |0.0         |0.3                  |11.27       |2.5                 |\n",
      "|1       |01/01/2020 12:35:39 AM|01/01/2020 12:43:04 AM|1              |1.2          |1         |N                 |239         |238         |1           |7.0        |3.0  |0.5    |1.5       |0.0         |0.3                  |12.3        |2.5                 |\n",
      "|1       |01/01/2020 12:47:41 AM|01/01/2020 12:53:52 AM|1              |0.6          |1         |N                 |238         |238         |1           |6.0        |3.0  |0.5    |1.0       |0.0         |0.3                  |10.8        |2.5                 |\n",
      "|1       |01/01/2020 12:55:23 AM|01/01/2020 01:00:14 AM|1              |0.8          |1         |N                 |238         |151         |1           |5.5        |0.5  |0.5    |1.36      |0.0         |0.3                  |8.16        |0.0                 |\n",
      "|2       |01/01/2020 12:01:58 AM|01/01/2020 12:04:16 AM|1              |0.0          |1         |N                 |193         |193         |2           |3.5        |0.5  |0.5    |0.0       |0.0         |0.3                  |4.8         |0.0                 |\n",
      "|2       |01/01/2020 12:09:44 AM|01/01/2020 12:10:37 AM|1              |0.03         |1         |N                 |7           |193         |2           |2.5        |0.5  |0.5    |0.0       |0.0         |0.3                  |3.8         |0.0                 |\n",
      "|2       |01/01/2020 12:39:25 AM|01/01/2020 12:39:29 AM|1              |0.0          |1         |N                 |193         |193         |1           |2.5        |0.5  |0.5    |0.01      |0.0         |0.3                  |3.81        |0.0                 |\n",
      "|2       |12/18/2019 03:27:49 PM|12/18/2019 03:28:59 PM|1              |0.0          |5         |N                 |193         |193         |1           |0.01       |0.0  |0.0    |0.0       |0.0         |0.3                  |2.81        |2.5                 |\n",
      "|2       |12/18/2019 03:30:35 PM|12/18/2019 03:31:35 PM|4              |0.0          |1         |N                 |193         |193         |1           |2.5        |0.5  |0.5    |0.0       |0.0         |0.3                  |6.3         |2.5                 |\n",
      "|1       |01/01/2020 12:29:01 AM|01/01/2020 12:40:28 AM|2              |0.7          |1         |N                 |246         |48          |1           |8.0        |3.0  |0.5    |2.35      |0.0         |0.3                  |14.15       |2.5                 |\n",
      "+--------+----------------------+----------------------+---------------+-------------+----------+------------------+------------+------------+------------+-----------+-----+-------+----------+------------+---------------------+------------+--------------------+\n",
      "only showing top 10 rows\n",
      "\n"
     ]
    }
   ],
   "source": [
    "taxi.show(10, False)"
   ]
  },
  {
   "cell_type": "code",
   "execution_count": 40,
   "metadata": {},
   "outputs": [],
   "source": [
    "taxi = taxi.withColumn('tpep_pickup_datetime', F.split(F.col('tpep_pickup_datetime'), ' ').getItem(0))\n",
    "taxi = taxi.withColumn('tpep_dropoff_datetime', F.split(F.col('tpep_dropoff_datetime'), ' ').getItem(0))"
   ]
  },
  {
   "cell_type": "code",
   "execution_count": 44,
   "metadata": {},
   "outputs": [],
   "source": [
    "taxi = taxi.withColumn('tpep_pickup_datetime', F.to_date(F.col('tpep_pickup_datetime'), 'MM/dd/yyyy'))\n",
    "taxi = taxi.withColumn('tpep_dropoff_datetime', F.to_date(F.col('tpep_dropoff_datetime'), 'MM/dd/yyyy'))"
   ]
  },
  {
   "cell_type": "code",
   "execution_count": 45,
   "metadata": {},
   "outputs": [
    {
     "name": "stdout",
     "output_type": "stream",
     "text": [
      "+--------+--------------------+---------------------+---------------+-------------+----------+------------------+------------+------------+------------+-----------+-----+-------+----------+------------+---------------------+------------+--------------------+\n",
      "|VendorID|tpep_pickup_datetime|tpep_dropoff_datetime|passenger_count|trip_distance|RatecodeID|store_and_fwd_flag|PULocationID|DOLocationID|payment_type|fare_amount|extra|mta_tax|tip_amount|tolls_amount|improvement_surcharge|total_amount|congestion_surcharge|\n",
      "+--------+--------------------+---------------------+---------------+-------------+----------+------------------+------------+------------+------------+-----------+-----+-------+----------+------------+---------------------+------------+--------------------+\n",
      "|       1|          2020-01-01|           2020-01-01|              1|          1.2|         1|                 N|         238|         239|           1|        6.0|  3.0|    0.5|      1.47|         0.0|                  0.3|       11.27|                 2.5|\n",
      "|       1|          2020-01-01|           2020-01-01|              1|          1.2|         1|                 N|         239|         238|           1|        7.0|  3.0|    0.5|       1.5|         0.0|                  0.3|        12.3|                 2.5|\n",
      "+--------+--------------------+---------------------+---------------+-------------+----------+------------------+------------+------------+------------+-----------+-----+-------+----------+------------+---------------------+------------+--------------------+\n",
      "only showing top 2 rows\n",
      "\n"
     ]
    }
   ],
   "source": [
    "taxi.show(2)"
   ]
  },
  {
   "cell_type": "code",
   "execution_count": 76,
   "metadata": {},
   "outputs": [],
   "source": [
    "df_stats = taxi.select(\n",
    "    _mean(col('trip_distance')).alias('mean'),\n",
    "    _stddev(col('trip_distance')).alias('std')\n",
    ").collect()\n",
    "\n",
    "mean = df_stats[0]['mean']\n",
    "std = df_stats[0]['std']\n",
    "\n",
    "taxi = taxi.filter(F.col('trip_distance') > mean - 3*std).filter(F.col('trip_distance') < mean + 3*std)"
   ]
  },
  {
   "cell_type": "code",
   "execution_count": 78,
   "metadata": {},
   "outputs": [],
   "source": [
    "df_stats = taxi.select(\n",
    "    _mean(col('fare_amount')).alias('mean'),\n",
    "    _stddev(col('fare_amount')).alias('std')\n",
    ").collect()\n",
    "\n",
    "mean = df_stats[0]['mean']\n",
    "std = df_stats[0]['std']\n",
    "\n",
    "taxi = taxi.filter(F.col('fare_amount') > mean - 3*std).filter(F.col('fare_amount') < mean + 3*std)"
   ]
  },
  {
   "cell_type": "code",
   "execution_count": 81,
   "metadata": {},
   "outputs": [],
   "source": [
    "df_stats = taxi.select(\n",
    "    _mean(col('tolls_amount')).alias('mean'),\n",
    "    _stddev(col('tolls_amount')).alias('std')\n",
    ").collect()\n",
    "\n",
    "mean = df_stats[0]['mean']\n",
    "std = df_stats[0]['std']\n",
    "\n",
    "taxi = taxi.filter(F.col('tolls_amount') > mean - 3*std).filter(F.col('tolls_amount') < mean + 3*std)"
   ]
  },
  {
   "cell_type": "code",
   "execution_count": 84,
   "metadata": {},
   "outputs": [],
   "source": [
    "covid_cutoff = '2020-03-07'\n",
    "taxi_before_lockdown = taxi.filter(F.col('tpep_pickup_datetime') < covid_cutoff)\n",
    "taxi_after_lockdown = taxi.join(taxi_before_lockdown, taxi.tpep_pickup_datetime == taxi_before_lockdown.tpep_pickup_datetime, 'leftanti')"
   ]
  },
  {
   "cell_type": "code",
   "execution_count": 85,
   "metadata": {},
   "outputs": [
    {
     "name": "stdout",
     "output_type": "stream",
     "text": [
      "+--------+--------------------+---------------------+---------------+-------------+----------+------------------+------------+------------+------------+-----------+-----+-------+----------+------------+---------------------+------------+--------------------+\n",
      "|VendorID|tpep_pickup_datetime|tpep_dropoff_datetime|passenger_count|trip_distance|RatecodeID|store_and_fwd_flag|PULocationID|DOLocationID|payment_type|fare_amount|extra|mta_tax|tip_amount|tolls_amount|improvement_surcharge|total_amount|congestion_surcharge|\n",
      "+--------+--------------------+---------------------+---------------+-------------+----------+------------------+------------+------------+------------+-----------+-----+-------+----------+------------+---------------------+------------+--------------------+\n",
      "|       1|          2020-01-01|           2020-01-01|              1|          1.2|         1|                 N|         238|         239|           1|        6.0|  3.0|    0.5|      1.47|         0.0|                  0.3|       11.27|                 2.5|\n",
      "|       1|          2020-01-01|           2020-01-01|              1|          1.2|         1|                 N|         239|         238|           1|        7.0|  3.0|    0.5|       1.5|         0.0|                  0.3|        12.3|                 2.5|\n",
      "+--------+--------------------+---------------------+---------------+-------------+----------+------------------+------------+------------+------------+-----------+-----+-------+----------+------------+---------------------+------------+--------------------+\n",
      "only showing top 2 rows\n",
      "\n"
     ]
    }
   ],
   "source": [
    "taxi_before_lockdown.cache()\n",
    "taxi_after_lockdown.cache()\n",
    "taxi_before_lockdown.show(2)"
   ]
  },
  {
   "cell_type": "code",
   "execution_count": 86,
   "metadata": {},
   "outputs": [],
   "source": [
    "# dropped 264407 from before\n",
    "taxi_before_lockdown = taxi_before_lockdown.filter(F.col('passenger_count') > 0)\n",
    "taxi_after_lockdown = taxi_after_lockdown.filter(F.col('passenger_count') > 0)"
   ]
  },
  {
   "cell_type": "code",
   "execution_count": 87,
   "metadata": {},
   "outputs": [
    {
     "name": "stdout",
     "output_type": "stream",
     "text": [
      "+-------------------+------------------+------------------+--------------------+------------------+\n",
      "|avg_passenger_count| avg_trip_distance|   avg_fare_amount|    avg_tolls_amount|  avg_total_amount|\n",
      "+-------------------+------------------+------------------+--------------------+------------------+\n",
      "|  1.534777428879881|2.3067274396525685|11.002172041137074|0.002206872256476069|16.404412946856556|\n",
      "+-------------------+------------------+------------------+--------------------+------------------+\n",
      "\n"
     ]
    }
   ],
   "source": [
    "taxi_before_lockdown.groupBy().avg().select(F.col('avg(passenger_count)').alias('avg_passenger_count'), F.col('avg(trip_distance)').alias('avg_trip_distance'), F.col('avg(fare_amount)').alias('avg_fare_amount'), F.col('avg(tolls_amount)').alias('avg_tolls_amount'),\n",
    "                                           F.col('avg(total_amount)').alias('avg_total_amount')).show()"
   ]
  },
  {
   "cell_type": "code",
   "execution_count": 88,
   "metadata": {},
   "outputs": [
    {
     "name": "stdout",
     "output_type": "stream",
     "text": [
      "+-------------------+-----------------+------------------+--------------------+------------------+\n",
      "|avg_passenger_count|avg_trip_distance|   avg_fare_amount|    avg_tolls_amount|  avg_total_amount|\n",
      "+-------------------+-----------------+------------------+--------------------+------------------+\n",
      "| 1.4330409551832726|2.461323592656568|10.781830462285697|0.002684621196303...|16.241029504157225|\n",
      "+-------------------+-----------------+------------------+--------------------+------------------+\n",
      "\n"
     ]
    }
   ],
   "source": [
    "taxi_after_lockdown.groupBy().avg().select(F.col('avg(passenger_count)').alias('avg_passenger_count'), F.col('avg(trip_distance)').alias('avg_trip_distance'), F.col('avg(fare_amount)').alias('avg_fare_amount'), F.col('avg(tolls_amount)').alias('avg_tolls_amount'),\n",
    "                                           F.col('avg(total_amount)').alias('avg_total_amount')).show()"
   ]
  },
  {
   "cell_type": "code",
   "execution_count": 89,
   "metadata": {},
   "outputs": [
    {
     "data": {
      "text/plain": [
       "(array([9.534550e+06, 0.000000e+00, 1.939091e+06, 0.000000e+00,\n",
       "        0.000000e+00, 5.120020e+05, 0.000000e+00, 2.469290e+05,\n",
       "        0.000000e+00, 0.000000e+00, 4.667240e+05, 0.000000e+00,\n",
       "        2.731950e+05, 0.000000e+00, 0.000000e+00, 5.300000e+01,\n",
       "        0.000000e+00, 2.800000e+01, 0.000000e+00, 2.300000e+01]),\n",
       " array([1. , 1.4, 1.8, 2.2, 2.6, 3. , 3.4, 3.8, 4.2, 4.6, 5. , 5.4, 5.8,\n",
       "        6.2, 6.6, 7. , 7.4, 7.8, 8.2, 8.6, 9. ]),\n",
       " <a list of 20 Patch objects>)"
      ]
     },
     "execution_count": 89,
     "metadata": {},
     "output_type": "execute_result"
    },
    {
     "data": {
      "image/png": "[encoded data removed]",
      "text/plain": [
       "<Figure size 432x288 with 1 Axes>"
      ]
     },
     "metadata": {
      "needs_background": "light"
     },
     "output_type": "display_data"
    }
   ],
   "source": [
    "fig, ax = plt.subplots()\n",
    "hist(ax, \n",
    "     taxi_before_lockdown.select('passenger_count'), \n",
    "     bins = 20, color=['red'])\n"
   ]
  },
  {
   "cell_type": "code",
   "execution_count": 90,
   "metadata": {},
   "outputs": [
    {
     "data": {
      "text/plain": [
       "(array([1.825521e+06, 0.000000e+00, 2.840540e+05, 0.000000e+00,\n",
       "        0.000000e+00, 7.291800e+04, 0.000000e+00, 3.031100e+04,\n",
       "        0.000000e+00, 0.000000e+00, 6.544500e+04, 0.000000e+00,\n",
       "        4.464200e+04, 0.000000e+00, 0.000000e+00, 4.000000e+00,\n",
       "        0.000000e+00, 4.000000e+00, 0.000000e+00, 6.000000e+00]),\n",
       " array([1. , 1.4, 1.8, 2.2, 2.6, 3. , 3.4, 3.8, 4.2, 4.6, 5. , 5.4, 5.8,\n",
       "        6.2, 6.6, 7. , 7.4, 7.8, 8.2, 8.6, 9. ]),\n",
       " <a list of 20 Patch objects>)"
      ]
     },
     "execution_count": 90,
     "metadata": {},
     "output_type": "execute_result"
    },
    {
     "data": {
      "image/png": "[encoded data removed]",
      "text/plain": [
       "<Figure size 432x288 with 1 Axes>"
      ]
     },
     "metadata": {
      "needs_background": "light"
     },
     "output_type": "display_data"
    }
   ],
   "source": [
    "# higher tendency to take trips alone\n",
    "fig, ax = plt.subplots()\n",
    "hist(ax, \n",
    "     taxi_after_lockdown.select('passenger_count'), \n",
    "     bins = 20, color=['red'])\n",
    "\n"
   ]
  },
  {
   "cell_type": "code",
   "execution_count": 98,
   "metadata": {},
   "outputs": [
    {
     "data": {
      "text/plain": [
       "(array([7.036491e+06, 3.684101e+06, 1.044004e+06, 4.821720e+05,\n",
       "        2.473090e+05, 1.290730e+05, 8.136100e+04, 5.480200e+04,\n",
       "        3.628200e+04, 3.679000e+04, 3.519700e+04, 2.976500e+04,\n",
       "        1.414300e+04, 4.698000e+03, 2.405000e+03, 2.819000e+03,\n",
       "        2.155000e+03, 7.150000e+02, 4.950000e+02, 2.750000e+02,\n",
       "        1.970000e+02, 1.550000e+02, 1.040000e+02, 1.080000e+02,\n",
       "        1.010000e+02, 5.700000e+01, 4.500000e+01, 4.900000e+01,\n",
       "        3.700000e+01, 3.700000e+01]),\n",
       " array([ 0.        ,  1.66466667,  3.32933333,  4.994     ,  6.65866667,\n",
       "         8.32333333,  9.988     , 11.65266667, 13.31733333, 14.982     ,\n",
       "        16.64666667, 18.31133333, 19.976     , 21.64066667, 23.30533333,\n",
       "        24.97      , 26.63466667, 28.29933333, 29.964     , 31.62866667,\n",
       "        33.29333333, 34.958     , 36.62266667, 38.28733333, 39.952     ,\n",
       "        41.61666667, 43.28133333, 44.946     , 46.61066667, 48.27533333,\n",
       "        49.94      ]),\n",
       " <a list of 30 Patch objects>)"
      ]
     },
     "execution_count": 98,
     "metadata": {},
     "output_type": "execute_result"
    },
    {
     "data": {
      "image/png": "[encoded data removed]",
      "text/plain": [
       "<Figure size 432x288 with 1 Axes>"
      ]
     },
     "metadata": {
      "needs_background": "light"
     },
     "output_type": "display_data"
    }
   ],
   "source": [
    "\n",
    "fig, ax = plt.subplots()\n",
    "hist(ax, \n",
    "     taxi_before_lockdown.select('trip_distance'), \n",
    "     bins = 30, color=['red'])\n",
    "\n"
   ]
  },
  {
   "cell_type": "code",
   "execution_count": 99,
   "metadata": {},
   "outputs": [
    {
     "data": {
      "text/plain": [
       "(array([1.17269e+06, 6.77116e+05, 2.17110e+05, 1.00858e+05, 5.33250e+04,\n",
       "        2.80370e+04, 1.87370e+04, 1.27520e+04, 7.62400e+03, 6.47300e+03,\n",
       "        5.90300e+03, 4.66200e+03, 2.24500e+03, 1.00000e+03, 5.42000e+02,\n",
       "        5.18000e+02, 3.41000e+02, 1.70000e+02, 9.50000e+01, 8.50000e+01,\n",
       "        7.50000e+01, 6.30000e+01, 4.00000e+01, 3.90000e+01, 4.50000e+01,\n",
       "        2.20000e+01, 1.70000e+01, 1.70000e+01, 1.80000e+01, 1.80000e+01]),\n",
       " array([ 0.        ,  1.66466667,  3.32933333,  4.994     ,  6.65866667,\n",
       "         8.32333333,  9.988     , 11.65266667, 13.31733333, 14.982     ,\n",
       "        16.64666667, 18.31133333, 19.976     , 21.64066667, 23.30533333,\n",
       "        24.97      , 26.63466667, 28.29933333, 29.964     , 31.62866667,\n",
       "        33.29333333, 34.958     , 36.62266667, 38.28733333, 39.952     ,\n",
       "        41.61666667, 43.28133333, 44.946     , 46.61066667, 48.27533333,\n",
       "        49.94      ]),\n",
       " <a list of 30 Patch objects>)"
      ]
     },
     "execution_count": 99,
     "metadata": {},
     "output_type": "execute_result"
    },
    {
     "data": {
      "image/png": "[encoded data removed]",
      "text/plain": [
       "<Figure size 432x288 with 1 Axes>"
      ]
     },
     "metadata": {
      "needs_background": "light"
     },
     "output_type": "display_data"
    }
   ],
   "source": [
    "# most trips are much shorter after the lockdown\n",
    "fig, ax = plt.subplots()\n",
    "hist(ax, \n",
    "     taxi_after_lockdown.select('trip_distance'), \n",
    "     bins = 30, color=['red'])"
   ]
  },
  {
   "cell_type": "code",
   "execution_count": 96,
   "metadata": {},
   "outputs": [
    {
     "data": {
      "text/plain": [
       "(array([2.133624e+06, 8.105661e+06, 1.881713e+06, 4.574190e+05,\n",
       "        1.408700e+05, 8.433300e+04, 6.942900e+04, 3.051100e+04,\n",
       "        1.175100e+04, 3.396000e+03, 1.813000e+03, 1.057000e+03,\n",
       "        9.130000e+02, 6.380000e+02, 5.400000e+02, 4.810000e+02,\n",
       "        3.420000e+02, 2.760000e+02, 2.670000e+02, 1.820000e+02,\n",
       "        2.380000e+02, 1.010000e+02, 1.230000e+02, 8.100000e+01,\n",
       "        9.400000e+01, 8.200000e+01, 4.200000e+01, 5.600000e+01,\n",
       "        5.300000e+01, 3.100000e+01]),\n",
       " array([1.00000e-02, 1.00030e+01, 1.99960e+01, 2.99890e+01, 3.99820e+01,\n",
       "        4.99750e+01, 5.99680e+01, 6.99610e+01, 7.99540e+01, 8.99470e+01,\n",
       "        9.99400e+01, 1.09933e+02, 1.19926e+02, 1.29919e+02, 1.39912e+02,\n",
       "        1.49905e+02, 1.59898e+02, 1.69891e+02, 1.79884e+02, 1.89877e+02,\n",
       "        1.99870e+02, 2.09863e+02, 2.19856e+02, 2.29849e+02, 2.39842e+02,\n",
       "        2.49835e+02, 2.59828e+02, 2.69821e+02, 2.79814e+02, 2.89807e+02,\n",
       "        2.99800e+02]),\n",
       " <a list of 30 Patch objects>)"
      ]
     },
     "execution_count": 96,
     "metadata": {},
     "output_type": "execute_result"
    },
    {
     "data": {
      "image/png": "[encoded data removed]",
      "text/plain": [
       "<Figure size 432x288 with 1 Axes>"
      ]
     },
     "metadata": {
      "needs_background": "light"
     },
     "output_type": "display_data"
    }
   ],
   "source": [
    "fig, ax = plt.subplots()\n",
    "hist(ax, \n",
    "     taxi_before_lockdown.select('total_amount'), \n",
    "     bins = 30, color=['red'])"
   ]
  },
  {
   "cell_type": "code",
   "execution_count": 97,
   "metadata": {},
   "outputs": [
    {
     "data": {
      "text/plain": [
       "(array([4.672010e+05, 1.386443e+06, 3.026180e+05, 8.955800e+04,\n",
       "        3.063600e+04, 1.576600e+04, 1.055500e+04, 4.446000e+03,\n",
       "        1.490000e+03, 5.480000e+02, 3.490000e+02, 2.090000e+02,\n",
       "        1.840000e+02, 1.140000e+02, 8.900000e+01, 9.500000e+01,\n",
       "        6.100000e+01, 6.300000e+01, 4.200000e+01, 3.100000e+01,\n",
       "        4.700000e+01, 2.800000e+01, 1.700000e+01, 1.800000e+01,\n",
       "        2.200000e+01, 2.100000e+01, 9.000000e+00, 1.000000e+01,\n",
       "        4.000000e+00, 1.100000e+01]),\n",
       " array([1.00000e-02, 9.90700e+00, 1.98040e+01, 2.97010e+01, 3.95980e+01,\n",
       "        4.94950e+01, 5.93920e+01, 6.92890e+01, 7.91860e+01, 8.90830e+01,\n",
       "        9.89800e+01, 1.08877e+02, 1.18774e+02, 1.28671e+02, 1.38568e+02,\n",
       "        1.48465e+02, 1.58362e+02, 1.68259e+02, 1.78156e+02, 1.88053e+02,\n",
       "        1.97950e+02, 2.07847e+02, 2.17744e+02, 2.27641e+02, 2.37538e+02,\n",
       "        2.47435e+02, 2.57332e+02, 2.67229e+02, 2.77126e+02, 2.87023e+02,\n",
       "        2.96920e+02]),\n",
       " <a list of 30 Patch objects>)"
      ]
     },
     "execution_count": 97,
     "metadata": {},
     "output_type": "execute_result"
    },
    {
     "data": {
      "image/png": "[encoded data removed]",
      "text/plain": [
       "<Figure size 432x288 with 1 Axes>"
      ]
     },
     "metadata": {
      "needs_background": "light"
     },
     "output_type": "display_data"
    }
   ],
   "source": [
    "fig, ax = plt.subplots()\n",
    "hist(ax, \n",
    "     taxi_after_lockdown.select('total_amount'), \n",
    "     bins = 30, color=['red'])"
   ]
  },
  {
   "cell_type": "code",
   "execution_count": 107,
   "metadata": {},
   "outputs": [
    {
     "data": {
      "text/plain": [
       "12925942"
      ]
     },
     "execution_count": 107,
     "metadata": {},
     "output_type": "execute_result"
    }
   ],
   "source": [
    "taxi_before_lockdown.count()"
   ]
  },
  {
   "cell_type": "code",
   "execution_count": 111,
   "metadata": {},
   "outputs": [],
   "source": [
    "taxi_before_lockdown_pd = taxi_before_lockdown.select('total_amount', 'trip_distance', 'passenger_count').sample(False, 0.05, seed=0).toPandas()"
   ]
  },
  {
   "cell_type": "code",
   "execution_count": 112,
   "metadata": {},
   "outputs": [
    {
     "data": {
      "text/plain": [
       "<matplotlib.axes._subplots.AxesSubplot at 0x7fbf5cb2b310>"
      ]
     },
     "execution_count": 112,
     "metadata": {},
     "output_type": "execute_result"
    },
    {
     "data": {
      "image/png": "[encoded data removed]",
      "text/plain": [
       "<Figure size 432x288 with 1 Axes>"
      ]
     },
     "metadata": {
      "needs_background": "light"
     },
     "output_type": "display_data"
    }
   ],
   "source": [
    "taxi_before_lockdown_pd.boxplot()"
   ]
  },
  {
   "cell_type": "code",
   "execution_count": 113,
   "metadata": {},
   "outputs": [],
   "source": [
    "taxi_after_lockdown_pd = taxi_after_lockdown.select('total_amount', 'trip_distance', 'passenger_count').sample(False, 0.1, seed=0).toPandas()"
   ]
  },
  {
   "cell_type": "code",
   "execution_count": 114,
   "metadata": {},
   "outputs": [
    {
     "data": {
      "text/plain": [
       "<matplotlib.axes._subplots.AxesSubplot at 0x7fbf5c282110>"
      ]
     },
     "execution_count": 114,
     "metadata": {},
     "output_type": "execute_result"
    },
    {
     "data": {
      "image/png": "[encoded data removed]",
      "text/plain": [
       "<Figure size 432x288 with 1 Axes>"
      ]
     },
     "metadata": {
      "needs_background": "light"
     },
     "output_type": "display_data"
    }
   ],
   "source": [
    "taxi_after_lockdown_pd.boxplot()"
   ]
  },
  {
   "cell_type": "code",
   "execution_count": null,
   "metadata": {},
   "outputs": [],
   "source": []
  }
 ],
 "metadata": {
  "kernelspec": {
   "display_name": "Python 3",
   "language": "python",
   "name": "python3"
  },
  "language_info": {
   "codemirror_mode": {
    "name": "ipython",
    "version": 3
   },
   "file_extension": ".py",
   "mimetype": "text/x-python",
   "name": "python",
   "nbconvert_exporter": "python",
   "pygments_lexer": "ipython3",
   "version": "3.7.6"
  }
 },
 "nbformat": 4,
 "nbformat_minor": 4
}
