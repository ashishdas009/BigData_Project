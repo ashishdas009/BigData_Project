{
 "cells": [
  {
   "cell_type": "code",
   "execution_count": 1,
   "metadata": {},
   "outputs": [],
   "source": [
    "import os\n",
    "import pandas as pd\n",
    "import time\n",
    "\n",
    "from tqdm import tqdm"
   ]
  },
  {
   "cell_type": "code",
   "execution_count": null,
   "metadata": {
    "scrolled": true
   },
   "outputs": [
    {
     "name": "stderr",
     "output_type": "stream",
     "text": [
      " 10%|█         | 329/3248 [44:55<10:54:47, 13.46s/it]"
     ]
    }
   ],
   "source": [
    "def write_dataframe(df, tickers: list, output_dir: str):\n",
    "    for ticker in tickers:\n",
    "        \n",
    "        \n",
    "        \n",
    "        company = df[df['Ticker'] == ticker]\n",
    "        \n",
    "        output_file = ticker + '.csv'\n",
    "        \n",
    "        # encoutered stock : NWS/A \n",
    "        if '/' in output_file:\n",
    "            output_file = output_file.replace('/', '_')\n",
    "            \n",
    "        if output_file in os.listdir(output_dir):\n",
    "            # only appends without loading file to avoid using excess memory\n",
    "            company.to_csv(os.path.join(output_dir, output_file), mode = 'a', header = False)\n",
    "        else:\n",
    "            company.to_csv(os.path.join(output_dir, output_file))\n",
    "        \n",
    "        company = None\n",
    "    df = None\n",
    "\n",
    "def create_output_dir(data_dir: str, output_folder: str, year: str):\n",
    "    folders = ['08', '09-10', '11-12', '13-14', '15-16', '17-18', '19-20']\n",
    "    \n",
    "    ret = data_dir.split('/')[:-1]\n",
    "    ret.append(output_folder)\n",
    "    year = [year_ranges for year_ranges in folders if year in year_ranges][0]\n",
    "    ret.append(year)\n",
    "    \n",
    "    return '/'.join(ret)\n",
    "\n",
    "def create_company_files(data_dir: str, output_folder: str): # output_folder is AS500-by-stock\n",
    "\n",
    "    sleep = 0\n",
    "    for file in tqdm(os.listdir(data_dir)):\n",
    "        sleep +=1\n",
    "        if sleep % 100 == 0:\n",
    "            time.sleep(120)\n",
    "        \n",
    "        # file info\n",
    "        year = file.split('.')[0][2:4]\n",
    "        output_dir = create_output_dir(data_dir, output_folder, year) # still needs filename(company)\n",
    "        \n",
    "        # load dataframe from original location\n",
    "        df = pd.read_csv(os.path.join(data_dir, file))\n",
    "        tickers = list(df.Ticker.unique())\n",
    "        \n",
    "        write_dataframe(df, tickers, output_dir)\n",
    "        \n",
    "        df = None # ensure we don't run out of memory\n",
    "        \n",
    "        \n",
    "data_dir = '/Volumes/Seagate-Backup/financial-data/AS500-all-data'\n",
    "output_folder = 'AS500-by-stock'\n",
    "create_company_files(data_dir, output_folder)"
   ]
  },
  {
   "cell_type": "code",
   "execution_count": null,
   "metadata": {},
   "outputs": [],
   "source": []
  },
  {
   "cell_type": "code",
   "execution_count": null,
   "metadata": {},
   "outputs": [],
   "source": []
  },
  {
   "cell_type": "code",
   "execution_count": null,
   "metadata": {},
   "outputs": [],
   "source": []
  },
  {
   "cell_type": "code",
   "execution_count": null,
   "metadata": {},
   "outputs": [],
   "source": []
  },
  {
   "cell_type": "code",
   "execution_count": null,
   "metadata": {},
   "outputs": [],
   "source": []
  }
 ],
 "metadata": {
  "kernelspec": {
   "display_name": "Python 3",
   "language": "python",
   "name": "python3"
  },
  "language_info": {
   "codemirror_mode": {
    "name": "ipython",
    "version": 3
   },
   "file_extension": ".py",
   "mimetype": "text/x-python",
   "name": "python",
   "nbconvert_exporter": "python",
   "pygments_lexer": "ipython3",
   "version": "3.7.6"
  }
 },
 "nbformat": 4,
 "nbformat_minor": 4
}
