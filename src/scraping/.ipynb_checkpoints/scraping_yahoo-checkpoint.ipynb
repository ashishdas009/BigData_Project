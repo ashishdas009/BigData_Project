{
 "cells": [
  {
   "cell_type": "code",
   "execution_count": 1,
   "metadata": {},
   "outputs": [],
   "source": [
    "import bs4\n",
    "import requests\n",
    "from bs4 import BeautifulSoup"
   ]
  },
  {
   "cell_type": "code",
   "execution_count": 22,
   "metadata": {},
   "outputs": [
    {
     "data": {
      "text/plain": [
       "<span class=\"Trsdu(0.3s) Fw(b) Fz(36px) Mb(-4px) D(ib)\" data-reactid=\"50\">277.81</span>"
      ]
     },
     "execution_count": 22,
     "metadata": {},
     "output_type": "execute_result"
    }
   ],
   "source": [
    "# start by scraping facebook data from yahoo finance\n",
    "facebook_url = 'https://finance.yahoo.com/quote/FB?p=FB'\n",
    "r = requests.get(facebook_url)\n",
    "soup = bs4.BeautifulSoup(r.text, 'lxml')\n",
    "\n",
    "soup.find_all('div', {'class':\"D(ib) Va(m) Maw(65%) Ov(h)\"} )[0].find('span')"
   ]
  },
  {
   "cell_type": "code",
   "execution_count": 23,
   "metadata": {},
   "outputs": [],
   "source": [
    "def parse_price():\n",
    "    r = requests.get(facebook_url)\n",
    "    soup = bs4.BeautifulSoup(r.text, 'lxml')\n",
    "\n",
    "    price = soup.find_all('div', {'class':\"D(ib) Va(m) Maw(65%) Ov(h)\"} )[0].find('span').text\n",
    "    return price\n",
    "    "
   ]
  },
  {
   "cell_type": "code",
   "execution_count": 26,
   "metadata": {},
   "outputs": [
    {
     "name": "stdout",
     "output_type": "stream",
     "text": [
      "Current Price:  277.81\n",
      "Current Price:  277.81\n",
      "Current Price:  277.81\n",
      "Current Price:  277.81\n",
      "Current Price:  277.81\n",
      "Current Price:  277.81\n",
      "Current Price:  277.81\n",
      "Current Price:  277.81\n",
      "Current Price:  277.81\n",
      "Current Price:  277.81\n"
     ]
    }
   ],
   "source": [
    "# stock market is closed right now\n",
    "for _ in range(10):\n",
    "    print(\"Current Price: \", str(parse_price()))"
   ]
  },
  {
   "cell_type": "code",
   "execution_count": null,
   "metadata": {},
   "outputs": [],
   "source": []
  },
  {
   "cell_type": "code",
   "execution_count": null,
   "metadata": {},
   "outputs": [],
   "source": []
  },
  {
   "cell_type": "code",
   "execution_count": null,
   "metadata": {},
   "outputs": [],
   "source": []
  },
  {
   "cell_type": "code",
   "execution_count": null,
   "metadata": {},
   "outputs": [],
   "source": []
  },
  {
   "cell_type": "code",
   "execution_count": null,
   "metadata": {},
   "outputs": [],
   "source": []
  },
  {
   "cell_type": "code",
   "execution_count": null,
   "metadata": {},
   "outputs": [],
   "source": []
  },
  {
   "cell_type": "code",
   "execution_count": null,
   "metadata": {},
   "outputs": [],
   "source": []
  }
 ],
 "metadata": {
  "kernelspec": {
   "display_name": "Python 3",
   "language": "python",
   "name": "python3"
  },
  "language_info": {
   "codemirror_mode": {
    "name": "ipython",
    "version": 3
   },
   "file_extension": ".py",
   "mimetype": "text/x-python",
   "name": "python",
   "nbconvert_exporter": "python",
   "pygments_lexer": "ipython3",
   "version": "3.7.6"
  }
 },
 "nbformat": 4,
 "nbformat_minor": 4
}
