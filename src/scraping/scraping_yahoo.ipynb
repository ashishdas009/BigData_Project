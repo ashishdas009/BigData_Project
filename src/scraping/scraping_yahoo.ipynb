{
 "cells": [
  {
   "cell_type": "code",
   "execution_count": 1,
   "metadata": {},
   "outputs": [],
   "source": [
    "import bs4\n",
    "import requests\n",
    "from bs4 import BeautifulSoup"
   ]
  },
  {
   "cell_type": "code",
   "execution_count": 22,
   "metadata": {},
   "outputs": [
    {
     "data": {
      "text/plain": [
       "<span class=\"Trsdu(0.3s) Fw(b) Fz(36px) Mb(-4px) D(ib)\" data-reactid=\"50\">277.81</span>"
      ]
     },
     "execution_count": 22,
     "metadata": {},
     "output_type": "execute_result"
    }
   ],
   "source": [
    "# start by scraping facebook data from yahoo finance\n",
    "facebook_url = 'https://finance.yahoo.com/quote/FB?p=FB'\n",
    "r = requests.get(facebook_url)\n",
    "soup = bs4.BeautifulSoup(r.text, 'lxml')\n",
    "\n",
    "soup.find_all('div', {'class':\"D(ib) Va(m) Maw(65%) Ov(h)\"} )[0].find('span')"
   ]
  },
  {
   "cell_type": "code",
   "execution_count": 23,
   "metadata": {},
   "outputs": [],
   "source": [
    "def parse_price():\n",
    "    r = requests.get(facebook_url)\n",
    "    soup = bs4.BeautifulSoup(r.text, 'lxml')\n",
    "\n",
    "    price = soup.find_all('div', {'class':\"D(ib) Va(m) Maw(65%) Ov(h)\"} )[0].find('span').text\n",
    "    return price\n",
    "    "
   ]
  },
  {
   "cell_type": "code",
   "execution_count": 35,
   "metadata": {},
   "outputs": [
    {
     "name": "stdout",
     "output_type": "stream",
     "text": [
      "Current Price:  277.81\n",
      "Current Price:  277.81\n",
      "Current Price:  277.81\n",
      "Current Price:  277.81\n",
      "Current Price:  277.81\n",
      "Current Price:  277.81\n",
      "Current Price:  277.81\n",
      "Current Price:  277.81\n",
      "Current Price:  277.81\n",
      "Current Price:  277.81\n",
      "Current Price:  277.81\n",
      "Current Price:  277.81\n",
      "Current Price:  277.81\n",
      "Current Price:  277.81\n",
      "Current Price:  277.81\n",
      "Current Price:  277.81\n",
      "Current Price:  277.81\n",
      "Current Price:  277.81\n",
      "Current Price:  277.81\n",
      "Current Price:  277.81\n",
      "Current Price:  277.81\n",
      "Current Price:  277.81\n",
      "Current Price:  277.81\n",
      "Current Price:  277.81\n",
      "Current Price:  277.81\n",
      "Current Price:  277.81\n",
      "Current Price:  277.81\n",
      "Current Price:  277.81\n",
      "Current Price:  277.81\n",
      "Current Price:  277.81\n",
      "Current Price:  277.81\n",
      "Current Price:  277.81\n",
      "Current Price:  277.81\n",
      "Current Price:  277.81\n",
      "Current Price:  277.81\n",
      "Current Price:  277.81\n",
      "Current Price:  277.81\n",
      "Current Price:  277.81\n",
      "Current Price:  277.81\n",
      "Current Price:  277.81\n",
      "Current Price:  277.81\n",
      "Current Price:  277.81\n",
      "Current Price:  277.81\n",
      "Current Price:  277.81\n",
      "Current Price:  277.81\n",
      "Current Price:  277.81\n",
      "Current Price:  277.81\n",
      "Current Price:  277.81\n",
      "Current Price:  277.81\n",
      "Current Price:  277.81\n",
      "Current Price:  277.81\n",
      "Current Price:  277.81\n",
      "Current Price:  277.81\n",
      "Current Price:  277.81\n",
      "Current Price:  277.81\n",
      "Current Price:  277.81\n",
      "Current Price:  277.81\n",
      "Current Price:  277.81\n",
      "Current Price:  277.81\n",
      "Current Price:  277.81\n",
      "Current Price:  277.81\n",
      "Current Price:  277.81\n",
      "Current Price:  277.81\n",
      "Current Price:  277.81\n",
      "Current Price:  277.81\n",
      "Current Price:  277.81\n",
      "Current Price:  277.81\n",
      "Current Price:  277.81\n",
      "Current Price:  277.81\n",
      "Current Price:  277.81\n",
      "Current Price:  277.81\n",
      "Current Price:  277.81\n",
      "Current Price:  277.81\n",
      "Current Price:  277.81\n",
      "Current Price:  277.81\n",
      "Current Price:  277.81\n",
      "Current Price:  277.81\n",
      "Current Price:  277.81\n",
      "Current Price:  277.81\n",
      "Current Price:  277.81\n",
      "Current Price:  277.81\n",
      "Current Price:  277.81\n",
      "Current Price:  277.81\n",
      "Current Price:  277.81\n",
      "Current Price:  277.81\n",
      "Current Price:  277.81\n",
      "Current Price:  277.81\n",
      "Current Price:  277.81\n",
      "Current Price:  277.81\n",
      "Current Price:  277.81\n",
      "Current Price:  277.81\n",
      "Current Price:  277.81\n",
      "Current Price:  277.81\n",
      "Current Price:  277.81\n",
      "Current Price:  277.81\n",
      "Current Price:  277.81\n",
      "Current Price:  277.81\n",
      "Current Price:  277.81\n",
      "Current Price:  277.81\n",
      "Current Price:  277.81\n"
     ]
    }
   ],
   "source": [
    "# stock market is closed right now\n",
    "for _ in range(100):\n",
    "    print(\"Current Price: \", str(parse_price()))"
   ]
  },
  {
   "cell_type": "code",
   "execution_count": 29,
   "metadata": {},
   "outputs": [
    {
     "data": {
      "text/plain": [
       "<span class=\"Trsdu(0.3s) Fw(b) Fz(36px) Mb(-4px) D(ib)\" data-reactid=\"50\">277.81</span>"
      ]
     },
     "execution_count": 29,
     "metadata": {},
     "output_type": "execute_result"
    }
   ],
   "source": [
    "soup.find_all('div', {'class':\"D(ib) Va(m) Maw(65%) Ov(h)\"} )[0].find('span')"
   ]
  },
  {
   "cell_type": "code",
   "execution_count": 30,
   "metadata": {},
   "outputs": [
    {
     "data": {
      "text/plain": [
       "bs4.element.Tag"
      ]
     },
     "execution_count": 30,
     "metadata": {},
     "output_type": "execute_result"
    }
   ],
   "source": [
    "type(soup.find_all('div', {'class':\"D(ib) Va(m) Maw(65%) Ov(h)\"} )[0])"
   ]
  },
  {
   "cell_type": "code",
   "execution_count": 31,
   "metadata": {},
   "outputs": [
    {
     "data": {
      "text/plain": [
       "<div class=\"D(ib) Va(m) Maw(65%) Ov(h)\" data-reactid=\"48\"><div class=\"D(ib) Mend(20px)\" data-reactid=\"49\"><span class=\"Trsdu(0.3s) Fw(b) Fz(36px) Mb(-4px) D(ib)\" data-reactid=\"50\">277.81</span><span class=\"Trsdu(0.3s) Fw(500) Pstart(10px) Fz(24px) C($positiveColor)\" data-reactid=\"51\">+2.22 (+0.81%)</span><div class=\"C($tertiaryColor) D(b) Fz(12px) Fw(n) Mstart(0)--mobpsm Mt(6px)--mobpsm\" data-reactid=\"52\" id=\"quote-market-notice\"><span data-reactid=\"53\">At close:  1:00PM EST</span></div></div><p class=\"Fz(12px) C($tertiaryColor) My(0px) D(ib) Va(b)\" data-reactid=\"54\"><span class=\"C($primaryColor) Fz(24px) Fw(b)\" data-reactid=\"55\">277.90</span><!-- react-text: 56 --> <!-- /react-text --><span class=\"Fw(500)\" data-reactid=\"57\"><span class=\"Trsdu(0.3s) Mstart(4px) D(ib) Fz(24px) C($positiveColor)\" data-reactid=\"58\">+0.09 (0.03%)</span></span><br data-reactid=\"59\"/><span class=\"C($tertiaryColor) Fz(12px) smartphone_Fz(xs)\" data-reactid=\"60\"><span data-reactid=\"61\">After hours:</span><!-- react-text: 62 --> <!-- /react-text --><!-- react-text: 63 -->4:49PM EST<!-- /react-text --></span></p></div>"
      ]
     },
     "execution_count": 31,
     "metadata": {},
     "output_type": "execute_result"
    }
   ],
   "source": [
    "soup.find_all('div', {'class':\"D(ib) Va(m) Maw(65%) Ov(h)\"} )[0]"
   ]
  },
  {
   "cell_type": "code",
   "execution_count": 32,
   "metadata": {},
   "outputs": [
    {
     "data": {
      "text/plain": [
       "<span class=\"Trsdu(0.3s) Fw(b) Fz(36px) Mb(-4px) D(ib)\" data-reactid=\"50\">277.81</span>"
      ]
     },
     "execution_count": 32,
     "metadata": {},
     "output_type": "execute_result"
    }
   ],
   "source": [
    "soup.find_all('div', {'class':\"D(ib) Va(m) Maw(65%) Ov(h)\"} )[0].find('span')"
   ]
  },
  {
   "cell_type": "code",
   "execution_count": null,
   "metadata": {},
   "outputs": [],
   "source": []
  },
  {
   "cell_type": "code",
   "execution_count": null,
   "metadata": {},
   "outputs": [],
   "source": []
  },
  {
   "cell_type": "code",
   "execution_count": null,
   "metadata": {},
   "outputs": [],
   "source": []
  }
 ],
 "metadata": {
  "kernelspec": {
   "display_name": "Python 3",
   "language": "python",
   "name": "python3"
  },
  "language_info": {
   "codemirror_mode": {
    "name": "ipython",
    "version": 3
   },
   "file_extension": ".py",
   "mimetype": "text/x-python",
   "name": "python",
   "nbconvert_exporter": "python",
   "pygments_lexer": "ipython3",
   "version": "3.7.6"
  }
 },
 "nbformat": 4,
 "nbformat_minor": 4
}
