{
  "nbformat": 4,
  "nbformat_minor": 0,
  "metadata": {
    "colab": {
      "name": "Taxi_analysis.ipynb",
      "provenance": [],
      "collapsed_sections": []
    },
    "kernelspec": {
      "name": "python3",
      "display_name": "Python 3"
    }
  },
  "cells": [
    {
      "cell_type": "code",
      "metadata": {
        "colab": {
          "base_uri": "https://localhost:8080/"
        },
        "id": "AmIUJ-SW03q-",
        "outputId": "7cea7856-a0f1-4335-9d42-69858362ad56"
      },
      "source": [
        "from google.colab import drive\n",
        "drive.mount('/content/drive')"
      ],
      "execution_count": 1,
      "outputs": [
        {
          "output_type": "stream",
          "text": [
            "Mounted at /content/drive\n"
          ],
          "name": "stdout"
        }
      ]
    },
    {
      "cell_type": "code",
      "metadata": {
        "colab": {
          "base_uri": "https://localhost:8080/"
        },
        "id": "r9TADq8L1XM7",
        "outputId": "2da89867-582a-46f0-db5a-d4dac6a50b4e"
      },
      "source": [
        "!pip install pyspark\r\n",
        "!pip install -U -q PyDrive\r\n",
        "!apt install openjdk-8-jdk-headless -qq\r\n",
        "import os\r\n",
        "os.environ[\"JAVA_HOME\"] = \"/usr/lib/jvm/java-8-openjdk-amd64\""
      ],
      "execution_count": 2,
      "outputs": [
        {
          "output_type": "stream",
          "text": [
            "Collecting pyspark\n",
            "\u001b[?25l  Downloading https://files.pythonhosted.org/packages/f0/26/198fc8c0b98580f617cb03cb298c6056587b8f0447e20fa40c5b634ced77/pyspark-3.0.1.tar.gz (204.2MB)\n",
            "\u001b[K     |████████████████████████████████| 204.2MB 71kB/s \n",
            "\u001b[?25hCollecting py4j==0.10.9\n",
            "\u001b[?25l  Downloading https://files.pythonhosted.org/packages/9e/b6/6a4fb90cd235dc8e265a6a2067f2a2c99f0d91787f06aca4bcf7c23f3f80/py4j-0.10.9-py2.py3-none-any.whl (198kB)\n",
            "\u001b[K     |████████████████████████████████| 204kB 23.7MB/s \n",
            "\u001b[?25hBuilding wheels for collected packages: pyspark\n",
            "  Building wheel for pyspark (setup.py) ... \u001b[?25l\u001b[?25hdone\n",
            "  Created wheel for pyspark: filename=pyspark-3.0.1-py2.py3-none-any.whl size=204612243 sha256=9fb83ef82cf414a0706a486207df70435c7d369a2efc8f6e97c7157ea9979c32\n",
            "  Stored in directory: /root/.cache/pip/wheels/5e/bd/07/031766ca628adec8435bb40f0bd83bb676ce65ff4007f8e73f\n",
            "Successfully built pyspark\n",
            "Installing collected packages: py4j, pyspark\n",
            "Successfully installed py4j-0.10.9 pyspark-3.0.1\n",
            "The following additional packages will be installed:\n",
            "  openjdk-8-jre-headless\n",
            "Suggested packages:\n",
            "  openjdk-8-demo openjdk-8-source libnss-mdns fonts-dejavu-extra\n",
            "  fonts-ipafont-gothic fonts-ipafont-mincho fonts-wqy-microhei\n",
            "  fonts-wqy-zenhei fonts-indic\n",
            "The following NEW packages will be installed:\n",
            "  openjdk-8-jdk-headless openjdk-8-jre-headless\n",
            "0 upgraded, 2 newly installed, 0 to remove and 14 not upgraded.\n",
            "Need to get 36.5 MB of archives.\n",
            "After this operation, 143 MB of additional disk space will be used.\n",
            "Selecting previously unselected package openjdk-8-jre-headless:amd64.\n",
            "(Reading database ... 144865 files and directories currently installed.)\n",
            "Preparing to unpack .../openjdk-8-jre-headless_8u275-b01-0ubuntu1~18.04_amd64.deb ...\n",
            "Unpacking openjdk-8-jre-headless:amd64 (8u275-b01-0ubuntu1~18.04) ...\n",
            "Selecting previously unselected package openjdk-8-jdk-headless:amd64.\n",
            "Preparing to unpack .../openjdk-8-jdk-headless_8u275-b01-0ubuntu1~18.04_amd64.deb ...\n",
            "Unpacking openjdk-8-jdk-headless:amd64 (8u275-b01-0ubuntu1~18.04) ...\n",
            "Setting up openjdk-8-jre-headless:amd64 (8u275-b01-0ubuntu1~18.04) ...\n",
            "update-alternatives: using /usr/lib/jvm/java-8-openjdk-amd64/jre/bin/orbd to provide /usr/bin/orbd (orbd) in auto mode\n",
            "update-alternatives: using /usr/lib/jvm/java-8-openjdk-amd64/jre/bin/servertool to provide /usr/bin/servertool (servertool) in auto mode\n",
            "update-alternatives: using /usr/lib/jvm/java-8-openjdk-amd64/jre/bin/tnameserv to provide /usr/bin/tnameserv (tnameserv) in auto mode\n",
            "Setting up openjdk-8-jdk-headless:amd64 (8u275-b01-0ubuntu1~18.04) ...\n",
            "update-alternatives: using /usr/lib/jvm/java-8-openjdk-amd64/bin/idlj to provide /usr/bin/idlj (idlj) in auto mode\n",
            "update-alternatives: using /usr/lib/jvm/java-8-openjdk-amd64/bin/wsimport to provide /usr/bin/wsimport (wsimport) in auto mode\n",
            "update-alternatives: using /usr/lib/jvm/java-8-openjdk-amd64/bin/jsadebugd to provide /usr/bin/jsadebugd (jsadebugd) in auto mode\n",
            "update-alternatives: using /usr/lib/jvm/java-8-openjdk-amd64/bin/native2ascii to provide /usr/bin/native2ascii (native2ascii) in auto mode\n",
            "update-alternatives: using /usr/lib/jvm/java-8-openjdk-amd64/bin/javah to provide /usr/bin/javah (javah) in auto mode\n",
            "update-alternatives: using /usr/lib/jvm/java-8-openjdk-amd64/bin/clhsdb to provide /usr/bin/clhsdb (clhsdb) in auto mode\n",
            "update-alternatives: using /usr/lib/jvm/java-8-openjdk-amd64/bin/xjc to provide /usr/bin/xjc (xjc) in auto mode\n",
            "update-alternatives: using /usr/lib/jvm/java-8-openjdk-amd64/bin/hsdb to provide /usr/bin/hsdb (hsdb) in auto mode\n",
            "update-alternatives: using /usr/lib/jvm/java-8-openjdk-amd64/bin/schemagen to provide /usr/bin/schemagen (schemagen) in auto mode\n",
            "update-alternatives: using /usr/lib/jvm/java-8-openjdk-amd64/bin/extcheck to provide /usr/bin/extcheck (extcheck) in auto mode\n",
            "update-alternatives: using /usr/lib/jvm/java-8-openjdk-amd64/bin/jhat to provide /usr/bin/jhat (jhat) in auto mode\n",
            "update-alternatives: using /usr/lib/jvm/java-8-openjdk-amd64/bin/wsgen to provide /usr/bin/wsgen (wsgen) in auto mode\n"
          ],
          "name": "stdout"
        }
      ]
    },
    {
      "cell_type": "code",
      "metadata": {
        "id": "-_bSIRHK1Ozf"
      },
      "source": [
        "# Let's import the libraries we will need\r\n",
        "import pandas as pd\r\n",
        "import numpy as np\r\n",
        "import matplotlib.pyplot as plt\r\n",
        "from scipy.signal import savgol_filter\r\n",
        "%matplotlib inline\r\n",
        "\r\n",
        "import pyspark\r\n",
        "from pyspark.sql import *\r\n",
        "from pyspark.sql.functions import *\r\n",
        "from pyspark import SparkContext, SparkConf"
      ],
      "execution_count": 3,
      "outputs": []
    },
    {
      "cell_type": "code",
      "metadata": {
        "id": "dVTggpn61PPk"
      },
      "source": [
        "# create the session\r\n",
        "conf = SparkConf().set(\"spark.ui.port\", \"4050\")\r\n",
        "\r\n",
        "# create the context\r\n",
        "sc = pyspark.SparkContext(conf=conf)\r\n",
        "spark = SparkSession.builder.getOrCreate()"
      ],
      "execution_count": 4,
      "outputs": []
    },
    {
      "cell_type": "code",
      "metadata": {
        "colab": {
          "base_uri": "https://localhost:8080/"
        },
        "id": "4yeA5kcM04nm",
        "outputId": "d996639f-081e-4040-a843-81bcc4d32901"
      },
      "source": [
        "df_taxi = spark.read.format(\"csv\").option(\"header\", \"true\").load('/content/drive/MyDrive/home_repo_big_data/2020_Yellow_Taxi_Trip_Data__January_-_June_.csv')\r\n",
        "print((df_taxi.count(), len(df_taxi.columns)))"
      ],
      "execution_count": 5,
      "outputs": [
        {
          "output_type": "stream",
          "text": [
            "(16847778, 18)\n"
          ],
          "name": "stdout"
        }
      ]
    },
    {
      "cell_type": "code",
      "metadata": {
        "colab": {
          "base_uri": "https://localhost:8080/"
        },
        "id": "1yJYg7cG04jG",
        "outputId": "7fb10adf-46ae-4063-9e3d-380476839cf2"
      },
      "source": [
        "df = df_taxi.withColumn('tpep_pickup_datetime_trim', df_taxi['tpep_pickup_datetime'].substr(1, 10))\r\n",
        "print((df.count(), len(df.columns)))"
      ],
      "execution_count": 6,
      "outputs": [
        {
          "output_type": "stream",
          "text": [
            "(16847778, 19)\n"
          ],
          "name": "stdout"
        }
      ]
    },
    {
      "cell_type": "markdown",
      "metadata": {
        "id": "5xy93tuNtWk9"
      },
      "source": [
        "<h2> Trip distance per day v/s covid cases"
      ]
    },
    {
      "cell_type": "code",
      "metadata": {
        "colab": {
          "base_uri": "https://localhost:8080/"
        },
        "id": "_y2jMEJ804bA",
        "outputId": "4f2db79b-922f-4ada-fe8d-d46e9c39298f"
      },
      "source": [
        "df = df.withColumn(\"trip_distance_int\", df[\"trip_distance\"].cast('float'))\r\n",
        "df.printSchema()"
      ],
      "execution_count": 7,
      "outputs": [
        {
          "output_type": "stream",
          "text": [
            "root\n",
            " |-- VendorID: string (nullable = true)\n",
            " |-- tpep_pickup_datetime: string (nullable = true)\n",
            " |-- tpep_dropoff_datetime: string (nullable = true)\n",
            " |-- passenger_count: string (nullable = true)\n",
            " |-- trip_distance: string (nullable = true)\n",
            " |-- RatecodeID: string (nullable = true)\n",
            " |-- store_and_fwd_flag: string (nullable = true)\n",
            " |-- PULocationID: string (nullable = true)\n",
            " |-- DOLocationID: string (nullable = true)\n",
            " |-- payment_type: string (nullable = true)\n",
            " |-- fare_amount: string (nullable = true)\n",
            " |-- extra: string (nullable = true)\n",
            " |-- mta_tax: string (nullable = true)\n",
            " |-- tip_amount: string (nullable = true)\n",
            " |-- tolls_amount: string (nullable = true)\n",
            " |-- improvement_surcharge: string (nullable = true)\n",
            " |-- total_amount: string (nullable = true)\n",
            " |-- congestion_surcharge: string (nullable = true)\n",
            " |-- tpep_pickup_datetime_trim: string (nullable = true)\n",
            " |-- trip_distance_int: float (nullable = true)\n",
            "\n"
          ],
          "name": "stdout"
        }
      ]
    },
    {
      "cell_type": "code",
      "metadata": {
        "id": "dL8SkyD804ds"
      },
      "source": [
        "df_distance_sum = df.groupBy(\"tpep_pickup_datetime_trim\").sum(\"trip_distance_int\")"
      ],
      "execution_count": 8,
      "outputs": []
    },
    {
      "cell_type": "code",
      "metadata": {
        "colab": {
          "base_uri": "https://localhost:8080/"
        },
        "id": "r7dP3GJNCeMa",
        "outputId": "41ac6d4c-7735-49b5-e045-88a26447fe9d"
      },
      "source": [
        "df_distance_sum.take(5)"
      ],
      "execution_count": 9,
      "outputs": [
        {
          "output_type": "execute_result",
          "data": {
            "text/plain": [
              "[Row(tpep_pickup_datetime_trim='02/28/2020', sum(trip_distance_int)=749583.5106227212),\n",
              " Row(tpep_pickup_datetime_trim='03/22/2020', sum(trip_distance_int)=36497.099980056286),\n",
              " Row(tpep_pickup_datetime_trim='04/12/2020', sum(trip_distance_int)=133401.89156166092),\n",
              " Row(tpep_pickup_datetime_trim='05/11/2020', sum(trip_distance_int)=263184.88374719955),\n",
              " Row(tpep_pickup_datetime_trim='02/11/2020', sum(trip_distance_int)=592990.3598562963)]"
            ]
          },
          "metadata": {
            "tags": []
          },
          "execution_count": 9
        }
      ]
    },
    {
      "cell_type": "code",
      "metadata": {
        "id": "_oeLFRuo04V9"
      },
      "source": [
        "df_distance_avg = df.groupBy(\"tpep_pickup_datetime_trim\").mean(\"trip_distance_int\")\r\n",
        "# print((df_distance_avg.count(), len(df_distance_avg.columns)))"
      ],
      "execution_count": 10,
      "outputs": []
    },
    {
      "cell_type": "code",
      "metadata": {
        "colab": {
          "base_uri": "https://localhost:8080/"
        },
        "id": "l_usoAMUCjWz",
        "outputId": "67ae302b-2b86-4fcb-ff1f-dc527318bb2d"
      },
      "source": [
        "df_distance_avg.take(5)"
      ],
      "execution_count": 11,
      "outputs": [
        {
          "output_type": "execute_result",
          "data": {
            "text/plain": [
              "[Row(tpep_pickup_datetime_trim='02/28/2020', avg(trip_distance_int)=2.988531658650511),\n",
              " Row(tpep_pickup_datetime_trim='03/22/2020', avg(trip_distance_int)=3.5297001914948054),\n",
              " Row(tpep_pickup_datetime_trim='04/12/2020', avg(trip_distance_int)=30.099704774742985),\n",
              " Row(tpep_pickup_datetime_trim='05/11/2020', avg(trip_distance_int)=22.144289755759324),\n",
              " Row(tpep_pickup_datetime_trim='02/11/2020', avg(trip_distance_int)=2.693757738916103)]"
            ]
          },
          "metadata": {
            "tags": []
          },
          "execution_count": 11
        }
      ]
    },
    {
      "cell_type": "code",
      "metadata": {
        "id": "zxurJ32pC3Ta"
      },
      "source": [
        "# from pyspark.ml.feature import MinMaxScaler\r\n",
        "# from pyspark.ml.linalg import Vectors\r\n",
        "# from pyspark.ml.feature import VectorAssembler\r\n",
        "# from pyspark.ml import Pipeline\r\n",
        "\r\n",
        "# assembler = VectorAssembler(inputCols=[\"sum(trip_distance_int)\"], outputCol=\"sum_vec\")\r\n",
        "# scaler = MinMaxScaler(inputCol=\"sum_vec\", outputCol=\"scaled_sum\", min=-1.0, max=1.0)\r\n",
        "# pipeline = Pipeline(stages=[assembler, scaler])\r\n",
        "# scalerModel = pipeline.fit(df_distance_sum)\r\n",
        "# df_distance_sum_scaled = scalerModel.transform(df_distance_sum)"
      ],
      "execution_count": 12,
      "outputs": []
    },
    {
      "cell_type": "code",
      "metadata": {
        "id": "g89d1lQqC3Ie"
      },
      "source": [
        "# df_distance_sum_scaled_pd = df_distance_sum_scaled.toPandas()\r\n",
        "# sum_scaled_arr = df_distance_sum_scaled_pd['scaled_sum']\r\n",
        "# sum_scaled = []\r\n",
        "# for i in sum_scaled_arr:\r\n",
        "#     sum_scaled.append(i[0])\r\n",
        "# plt.plot(sum_scaled)"
      ],
      "execution_count": 13,
      "outputs": []
    },
    {
      "cell_type": "code",
      "metadata": {
        "id": "BMCbQVqgGH4a"
      },
      "source": [
        "# assembler = VectorAssembler(inputCols=[\"avg(trip_distance_int)\"], outputCol=\"avg_vec\")\r\n",
        "# scaler = MinMaxScaler(inputCol=\"avg_vec\", outputCol=\"scaled_avg\", min=-1.0, max=1.0)\r\n",
        "# pipeline = Pipeline(stages=[assembler, scaler])\r\n",
        "# scalerModel = pipeline.fit(df_distance_avg)\r\n",
        "# df_distance_avg_scaled = scalerModel.transform(df_distance_avg)"
      ],
      "execution_count": 14,
      "outputs": []
    },
    {
      "cell_type": "code",
      "metadata": {
        "id": "kSCkrZ_4Hlj4"
      },
      "source": [
        "# df_distance_avg_scaled_pd = df_distance_avg_scaled.toPandas()\r\n",
        "# avg_scaled_arr = df_distance_avg_scaled_pd['scaled_avg']\r\n",
        "# avg_scaled = []\r\n",
        "# for i in avg_scaled_arr:\r\n",
        "#     avg_scaled.append(i[0])\r\n",
        "# plt.plot(avg_scaled)"
      ],
      "execution_count": 15,
      "outputs": []
    },
    {
      "cell_type": "code",
      "metadata": {
        "colab": {
          "base_uri": "https://localhost:8080/",
          "height": 225
        },
        "id": "ySl1EFcU-1Zx",
        "outputId": "4793baa6-6c0e-4220-ad59-9ee0d2aba47d"
      },
      "source": [
        "df_distance_sum_pd = df_distance_sum.toPandas()\r\n",
        "df_distance_sum_pd.head()\r\n",
        "\r\n",
        "df_distance_sum_pd['Date'] = pd.to_datetime(df_distance_sum_pd.tpep_pickup_datetime_trim)\r\n",
        "df_distance_sum_pd_sorted = df_distance_sum_pd.sort_values(by = 'Date')\r\n",
        "df_distance_sum_pd_sorted = df_distance_sum_pd_sorted[['Date', 'sum(trip_distance_int)']]\r\n",
        "df_distance_sum_pd_sorted = df_distance_sum_pd_sorted[5:187]\r\n",
        "\r\n",
        "df_distance_sum_pd_sorted = df_distance_sum_pd_sorted.set_index('Date')\r\n",
        "df_distance_sum_pd_sorted.head()"
      ],
      "execution_count": 16,
      "outputs": [
        {
          "output_type": "execute_result",
          "data": {
            "text/html": [
              "<div>\n",
              "<style scoped>\n",
              "    .dataframe tbody tr th:only-of-type {\n",
              "        vertical-align: middle;\n",
              "    }\n",
              "\n",
              "    .dataframe tbody tr th {\n",
              "        vertical-align: top;\n",
              "    }\n",
              "\n",
              "    .dataframe thead th {\n",
              "        text-align: right;\n",
              "    }\n",
              "</style>\n",
              "<table border=\"1\" class=\"dataframe\">\n",
              "  <thead>\n",
              "    <tr style=\"text-align: right;\">\n",
              "      <th></th>\n",
              "      <th>sum(trip_distance_int)</th>\n",
              "    </tr>\n",
              "    <tr>\n",
              "      <th>Date</th>\n",
              "      <th></th>\n",
              "    </tr>\n",
              "  </thead>\n",
              "  <tbody>\n",
              "    <tr>\n",
              "      <th>2020-01-01</th>\n",
              "      <td>591768.659974</td>\n",
              "    </tr>\n",
              "    <tr>\n",
              "      <th>2020-01-02</th>\n",
              "      <td>531202.779947</td>\n",
              "    </tr>\n",
              "    <tr>\n",
              "      <th>2020-01-03</th>\n",
              "      <td>545200.129854</td>\n",
              "    </tr>\n",
              "    <tr>\n",
              "      <th>2020-01-04</th>\n",
              "      <td>537076.039936</td>\n",
              "    </tr>\n",
              "    <tr>\n",
              "      <th>2020-01-05</th>\n",
              "      <td>543166.999883</td>\n",
              "    </tr>\n",
              "  </tbody>\n",
              "</table>\n",
              "</div>"
            ],
            "text/plain": [
              "            sum(trip_distance_int)\n",
              "Date                              \n",
              "2020-01-01           591768.659974\n",
              "2020-01-02           531202.779947\n",
              "2020-01-03           545200.129854\n",
              "2020-01-04           537076.039936\n",
              "2020-01-05           543166.999883"
            ]
          },
          "metadata": {
            "tags": []
          },
          "execution_count": 16
        }
      ]
    },
    {
      "cell_type": "code",
      "metadata": {
        "colab": {
          "base_uri": "https://localhost:8080/",
          "height": 225
        },
        "id": "NpyDgsHk-7Pl",
        "outputId": "3fbbf710-0322-4583-ce4f-bca2ef83246a"
      },
      "source": [
        "df_distance_avg_pd = df_distance_avg.toPandas()\r\n",
        "df_distance_avg_pd.head()\r\n",
        "\r\n",
        "df_distance_avg_pd = df_distance_avg.toPandas()\r\n",
        "df_distance_avg_pd.head()\r\n",
        "\r\n",
        "df_distance_avg_pd['Date'] = pd.to_datetime(df_distance_avg_pd.tpep_pickup_datetime_trim)\r\n",
        "df_distance_avg_pd_sorted = df_distance_avg_pd.sort_values(by = 'Date')\r\n",
        "df_distance_avg_pd_sorted = df_distance_avg_pd_sorted[['Date', 'avg(trip_distance_int)']]\r\n",
        "df_distance_avg_pd_sorted = df_distance_avg_pd_sorted[5:187]\r\n",
        "\r\n",
        "df_distance_avg_pd_sorted = df_distance_avg_pd_sorted.set_index('Date')\r\n",
        "df_distance_avg_pd_sorted.head()"
      ],
      "execution_count": 17,
      "outputs": [
        {
          "output_type": "execute_result",
          "data": {
            "text/html": [
              "<div>\n",
              "<style scoped>\n",
              "    .dataframe tbody tr th:only-of-type {\n",
              "        vertical-align: middle;\n",
              "    }\n",
              "\n",
              "    .dataframe tbody tr th {\n",
              "        vertical-align: top;\n",
              "    }\n",
              "\n",
              "    .dataframe thead th {\n",
              "        text-align: right;\n",
              "    }\n",
              "</style>\n",
              "<table border=\"1\" class=\"dataframe\">\n",
              "  <thead>\n",
              "    <tr style=\"text-align: right;\">\n",
              "      <th></th>\n",
              "      <th>avg(trip_distance_int)</th>\n",
              "    </tr>\n",
              "    <tr>\n",
              "      <th>Date</th>\n",
              "      <th></th>\n",
              "    </tr>\n",
              "  </thead>\n",
              "  <tbody>\n",
              "    <tr>\n",
              "      <th>2020-01-01</th>\n",
              "      <td>3.492559</td>\n",
              "    </tr>\n",
              "    <tr>\n",
              "      <th>2020-01-02</th>\n",
              "      <td>3.276178</td>\n",
              "    </tr>\n",
              "    <tr>\n",
              "      <th>2020-01-03</th>\n",
              "      <td>2.971490</td>\n",
              "    </tr>\n",
              "    <tr>\n",
              "      <th>2020-01-04</th>\n",
              "      <td>2.938824</td>\n",
              "    </tr>\n",
              "    <tr>\n",
              "      <th>2020-01-05</th>\n",
              "      <td>3.303956</td>\n",
              "    </tr>\n",
              "  </tbody>\n",
              "</table>\n",
              "</div>"
            ],
            "text/plain": [
              "            avg(trip_distance_int)\n",
              "Date                              \n",
              "2020-01-01                3.492559\n",
              "2020-01-02                3.276178\n",
              "2020-01-03                2.971490\n",
              "2020-01-04                2.938824\n",
              "2020-01-05                3.303956"
            ]
          },
          "metadata": {
            "tags": []
          },
          "execution_count": 17
        }
      ]
    },
    {
      "cell_type": "code",
      "metadata": {
        "colab": {
          "base_uri": "https://localhost:8080/",
          "height": 352
        },
        "id": "bE4ERa4uoDEq",
        "outputId": "2e2794b9-f4d9-4da8-af74-a290200b9fb3"
      },
      "source": [
        "fig = plt.figure(figsize = (10, 5))\r\n",
        "plt.plot(df_distance_sum_pd_sorted['sum(trip_distance_int)'], 'blue',linewidth=2)\r\n",
        "plt.xlabel(\"Days\")\r\n",
        "plt.ylabel(\"Distance in miles\",fontsize=16) \r\n",
        "plt.title(\"Total distance covered per day\",fontsize=16) \r\n",
        "plt.grid()\r\n",
        "plt.show() "
      ],
      "execution_count": 20,
      "outputs": [
        {
          "output_type": "display_data",
          "data": {
            "image/png": "[encoded data removed]",
            "text/plain": [
              "<Figure size 720x360 with 1 Axes>"
            ]
          },
          "metadata": {
            "tags": [],
            "needs_background": "light"
          }
        }
      ]
    },
    {
      "cell_type": "code",
      "metadata": {
        "colab": {
          "base_uri": "https://localhost:8080/",
          "height": 352
        },
        "id": "qyG3-X6D_jZd",
        "outputId": "c80434ab-cce9-4e49-a6ca-27c8ba5056ab"
      },
      "source": [
        "fig = plt.figure(figsize = (10, 5))\r\n",
        "plt.plot(df_distance_avg_pd_sorted['avg(trip_distance_int)'], 'orange',linewidth=2)\r\n",
        "plt.xlabel(\"Days\")\r\n",
        "plt.ylabel(\"Average distance in miles\",fontsize=16) \r\n",
        "plt.title(\"Average distance covered per day\",fontsize=16) \r\n",
        "plt.grid()\r\n",
        "plt.show() "
      ],
      "execution_count": 21,
      "outputs": [
        {
          "output_type": "display_data",
          "data": {
            "image/png": "[encoded data removed]",
            "text/plain": [
              "<Figure size 720x360 with 1 Axes>"
            ]
          },
          "metadata": {
            "tags": [],
            "needs_background": "light"
          }
        }
      ]
    },
    {
      "cell_type": "code",
      "metadata": {
        "colab": {
          "base_uri": "https://localhost:8080/"
        },
        "id": "M1weuWQ7Y45e",
        "outputId": "40e92645-3f71-4c05-a9a2-1326699e75f1"
      },
      "source": [
        "covid_df = pd.read_csv('/content/cleaned_covid19_confirmed_US.csv')\r\n",
        "covid_df.shape"
      ],
      "execution_count": 25,
      "outputs": [
        {
          "output_type": "execute_result",
          "data": {
            "text/plain": [
              "(307, 60)"
            ]
          },
          "metadata": {
            "tags": []
          },
          "execution_count": 25
        }
      ]
    },
    {
      "cell_type": "code",
      "metadata": {
        "id": "wnDw6qc4ee22"
      },
      "source": [
        "covid_df_req = covid_df[:161]"
      ],
      "execution_count": 26,
      "outputs": []
    },
    {
      "cell_type": "code",
      "metadata": {
        "colab": {
          "base_uri": "https://localhost:8080/"
        },
        "id": "1G3IrBFvY42x",
        "outputId": "16bc7e55-41db-495c-cf0a-8f99d3a9e9ba"
      },
      "source": [
        "covid_df_ny = covid_df_req['New York']\r\n",
        "covid_df_ny.shape"
      ],
      "execution_count": 27,
      "outputs": [
        {
          "output_type": "execute_result",
          "data": {
            "text/plain": [
              "(161,)"
            ]
          },
          "metadata": {
            "tags": []
          },
          "execution_count": 27
        }
      ]
    },
    {
      "cell_type": "code",
      "metadata": {
        "colab": {
          "base_uri": "https://localhost:8080/",
          "height": 352
        },
        "id": "WQ5urP15adGW",
        "outputId": "0889887f-7262-46fb-c290-ab6cca656fec"
      },
      "source": [
        "covid_df_ny_diff = covid_df_ny.diff().fillna(covid_df_ny)\r\n",
        "fig = plt.figure(figsize = (10, 5))\r\n",
        "plt.plot(covid_df_ny_diff, 'green',linewidth=2)\r\n",
        "plt.xlabel(\"Days\")\r\n",
        "plt.ylabel(\"Confimed cases per day\",fontsize=16) \r\n",
        "plt.title(\"Confirmed cases/day in NYC\",fontsize=16)\r\n",
        "plt.grid() \r\n",
        "plt.show() "
      ],
      "execution_count": 29,
      "outputs": [
        {
          "output_type": "display_data",
          "data": {
            "image/png": "[encoded data removed]",
            "text/plain": [
              "<Figure size 720x360 with 1 Axes>"
            ]
          },
          "metadata": {
            "tags": [],
            "needs_background": "light"
          }
        }
      ]
    },
    {
      "cell_type": "code",
      "metadata": {
        "id": "ZODla2qGcT84"
      },
      "source": [
        ""
      ],
      "execution_count": 29,
      "outputs": []
    },
    {
      "cell_type": "markdown",
      "metadata": {
        "id": "rZ6_0dkrtcDW"
      },
      "source": [
        "<h2>Number of passengers"
      ]
    },
    {
      "cell_type": "markdown",
      "metadata": {
        "id": "G0zNrry194jR"
      },
      "source": [
        "Distribution of passengers"
      ]
    },
    {
      "cell_type": "code",
      "metadata": {
        "colab": {
          "base_uri": "https://localhost:8080/"
        },
        "id": "JkjA4wESqiJ-",
        "outputId": "84542996-85d3-404a-c75d-93ea2d800fa6"
      },
      "source": [
        "df = df.withColumn(\"passenger_count_float\", df[\"passenger_count\"].cast('float'))\r\n",
        "df.printSchema()"
      ],
      "execution_count": 30,
      "outputs": [
        {
          "output_type": "stream",
          "text": [
            "root\n",
            " |-- VendorID: string (nullable = true)\n",
            " |-- tpep_pickup_datetime: string (nullable = true)\n",
            " |-- tpep_dropoff_datetime: string (nullable = true)\n",
            " |-- passenger_count: string (nullable = true)\n",
            " |-- trip_distance: string (nullable = true)\n",
            " |-- RatecodeID: string (nullable = true)\n",
            " |-- store_and_fwd_flag: string (nullable = true)\n",
            " |-- PULocationID: string (nullable = true)\n",
            " |-- DOLocationID: string (nullable = true)\n",
            " |-- payment_type: string (nullable = true)\n",
            " |-- fare_amount: string (nullable = true)\n",
            " |-- extra: string (nullable = true)\n",
            " |-- mta_tax: string (nullable = true)\n",
            " |-- tip_amount: string (nullable = true)\n",
            " |-- tolls_amount: string (nullable = true)\n",
            " |-- improvement_surcharge: string (nullable = true)\n",
            " |-- total_amount: string (nullable = true)\n",
            " |-- congestion_surcharge: string (nullable = true)\n",
            " |-- tpep_pickup_datetime_trim: string (nullable = true)\n",
            " |-- trip_distance_int: float (nullable = true)\n",
            " |-- passenger_count_float: float (nullable = true)\n",
            "\n"
          ],
          "name": "stdout"
        }
      ]
    },
    {
      "cell_type": "code",
      "metadata": {
        "id": "2vIEaeh24HQ9"
      },
      "source": [
        "df_passenger_count = df.groupBy(\"passenger_count\").count()\r\n",
        "# print((df_passenger_count.count(), len(df_passenger_count.columns)))"
      ],
      "execution_count": 31,
      "outputs": []
    },
    {
      "cell_type": "code",
      "metadata": {
        "colab": {
          "base_uri": "https://localhost:8080/"
        },
        "id": "JXYZcnmz4HMA",
        "outputId": "63fe7789-a4c8-4366-cc9d-a05b92aed78c"
      },
      "source": [
        "df_passenger_count.take(15)"
      ],
      "execution_count": 32,
      "outputs": [
        {
          "output_type": "execute_result",
          "data": {
            "text/plain": [
              "[Row(passenger_count='7', count=66),\n",
              " Row(passenger_count='3', count=624782),\n",
              " Row(passenger_count='8', count=42),\n",
              " Row(passenger_count='0', count=330810),\n",
              " Row(passenger_count=None, count=280883),\n",
              " Row(passenger_count='5', count=563588),\n",
              " Row(passenger_count='6', count=338163),\n",
              " Row(passenger_count='9', count=39),\n",
              " Row(passenger_count='1', count=12025880),\n",
              " Row(passenger_count='4', count=296741),\n",
              " Row(passenger_count='2', count=2386784)]"
            ]
          },
          "metadata": {
            "tags": []
          },
          "execution_count": 32
        }
      ]
    },
    {
      "cell_type": "code",
      "metadata": {
        "id": "qu5OZNYnKeoW"
      },
      "source": [
        "df_passenger_count_pd = df_passenger_count.toPandas()"
      ],
      "execution_count": 33,
      "outputs": []
    },
    {
      "cell_type": "code",
      "metadata": {
        "id": "yJs3oCnTLKZX"
      },
      "source": [
        "df_passenger_count_pd = df_passenger_count_pd.dropna()"
      ],
      "execution_count": 34,
      "outputs": []
    },
    {
      "cell_type": "code",
      "metadata": {
        "id": "pEOtcPygLF_e"
      },
      "source": [
        "df_passenger_count_pd = df_passenger_count_pd.set_index(['passenger_count'])"
      ],
      "execution_count": 35,
      "outputs": []
    },
    {
      "cell_type": "code",
      "metadata": {
        "colab": {
          "base_uri": "https://localhost:8080/",
          "height": 373
        },
        "id": "jByCHBM1MC6G",
        "outputId": "ae87309c-e778-46e1-a782-eff4a8dbc009"
      },
      "source": [
        "df_passenger_count_pd.head(10)"
      ],
      "execution_count": 36,
      "outputs": [
        {
          "output_type": "execute_result",
          "data": {
            "text/html": [
              "<div>\n",
              "<style scoped>\n",
              "    .dataframe tbody tr th:only-of-type {\n",
              "        vertical-align: middle;\n",
              "    }\n",
              "\n",
              "    .dataframe tbody tr th {\n",
              "        vertical-align: top;\n",
              "    }\n",
              "\n",
              "    .dataframe thead th {\n",
              "        text-align: right;\n",
              "    }\n",
              "</style>\n",
              "<table border=\"1\" class=\"dataframe\">\n",
              "  <thead>\n",
              "    <tr style=\"text-align: right;\">\n",
              "      <th></th>\n",
              "      <th>count</th>\n",
              "    </tr>\n",
              "    <tr>\n",
              "      <th>passenger_count</th>\n",
              "      <th></th>\n",
              "    </tr>\n",
              "  </thead>\n",
              "  <tbody>\n",
              "    <tr>\n",
              "      <th>7</th>\n",
              "      <td>66</td>\n",
              "    </tr>\n",
              "    <tr>\n",
              "      <th>3</th>\n",
              "      <td>624782</td>\n",
              "    </tr>\n",
              "    <tr>\n",
              "      <th>8</th>\n",
              "      <td>42</td>\n",
              "    </tr>\n",
              "    <tr>\n",
              "      <th>0</th>\n",
              "      <td>330810</td>\n",
              "    </tr>\n",
              "    <tr>\n",
              "      <th>5</th>\n",
              "      <td>563588</td>\n",
              "    </tr>\n",
              "    <tr>\n",
              "      <th>6</th>\n",
              "      <td>338163</td>\n",
              "    </tr>\n",
              "    <tr>\n",
              "      <th>9</th>\n",
              "      <td>39</td>\n",
              "    </tr>\n",
              "    <tr>\n",
              "      <th>1</th>\n",
              "      <td>12025880</td>\n",
              "    </tr>\n",
              "    <tr>\n",
              "      <th>4</th>\n",
              "      <td>296741</td>\n",
              "    </tr>\n",
              "    <tr>\n",
              "      <th>2</th>\n",
              "      <td>2386784</td>\n",
              "    </tr>\n",
              "  </tbody>\n",
              "</table>\n",
              "</div>"
            ],
            "text/plain": [
              "                    count\n",
              "passenger_count          \n",
              "7                      66\n",
              "3                  624782\n",
              "8                      42\n",
              "0                  330810\n",
              "5                  563588\n",
              "6                  338163\n",
              "9                      39\n",
              "1                12025880\n",
              "4                  296741\n",
              "2                 2386784"
            ]
          },
          "metadata": {
            "tags": []
          },
          "execution_count": 36
        }
      ]
    },
    {
      "cell_type": "code",
      "metadata": {
        "colab": {
          "base_uri": "https://localhost:8080/",
          "height": 352
        },
        "id": "UPHkrmolKecH",
        "outputId": "c2e0ead0-e884-4f9c-d130-7e9f222faaa2"
      },
      "source": [
        "fig = plt.figure(figsize = (10, 5))\r\n",
        "plt.plot(df_passenger_count_pd['count'], 'maroon',linewidth=2)\r\n",
        "plt.xlabel(\"Number of passengers\")\r\n",
        "plt.ylabel(\"passenger count\",fontsize=16) \r\n",
        "plt.title(\"Distribution of passengers\",fontsize=16) \r\n",
        "plt.show() "
      ],
      "execution_count": 40,
      "outputs": [
        {
          "output_type": "display_data",
          "data": {
            "image/png": "[encoded data removed]",
            "text/plain": [
              "<Figure size 720x360 with 1 Axes>"
            ]
          },
          "metadata": {
            "tags": [],
            "needs_background": "light"
          }
        }
      ]
    },
    {
      "cell_type": "code",
      "metadata": {
        "colab": {
          "base_uri": "https://localhost:8080/",
          "height": 352
        },
        "id": "vTGCc1daMZNy",
        "outputId": "f16d23f6-999e-448b-91d8-d177fc5b8ae5"
      },
      "source": [
        "fig = plt.figure(figsize = (10, 5)) \r\n",
        "plt.bar(df_passenger_count_pd.index, df_passenger_count_pd['count'], color ='blue', width = 0.4) \r\n",
        "  \r\n",
        "plt.xlabel(\"Number of passengers\")\r\n",
        "plt.ylabel(\"passenger count\",fontsize=16) \r\n",
        "plt.title(\"Distribution of passengers\",fontsize=16) \r\n",
        "axes = plt.gca()\r\n",
        "axes.yaxis.grid()\r\n",
        "plt.show() "
      ],
      "execution_count": 39,
      "outputs": [
        {
          "output_type": "display_data",
          "data": {
            "image/png": "[encoded data removed]",
            "text/plain": [
              "<Figure size 720x360 with 1 Axes>"
            ]
          },
          "metadata": {
            "tags": [],
            "needs_background": "light"
          }
        }
      ]
    },
    {
      "cell_type": "markdown",
      "metadata": {
        "id": "b231Oeb591yl"
      },
      "source": [
        "Sum of passenger counts"
      ]
    },
    {
      "cell_type": "code",
      "metadata": {
        "id": "A4ysk3fl4HJC"
      },
      "source": [
        "df_pc_sum = df.groupBy(\"tpep_pickup_datetime_trim\").sum(\"passenger_count_float\")\r\n",
        "# print((df_pc_sum.count(), len(df_pc_sum.columns)))"
      ],
      "execution_count": 41,
      "outputs": []
    },
    {
      "cell_type": "code",
      "metadata": {
        "colab": {
          "base_uri": "https://localhost:8080/",
          "height": 225
        },
        "id": "Y3NbSjkH5_QE",
        "outputId": "f4abb1dc-9023-4933-886e-7c4ce4fec45f"
      },
      "source": [
        "df_pc_pd = df_pc_sum.toPandas()\r\n",
        "df_pc_pd.head()\r\n",
        "\r\n",
        "df_pc_pd['Date'] = pd.to_datetime(df_pc_pd.tpep_pickup_datetime_trim)\r\n",
        "df_pc_pd_sorted = df_pc_pd.sort_values(by = 'Date')\r\n",
        "df_pc_pd_sorted = df_pc_pd_sorted[['Date', 'sum(passenger_count_float)']]\r\n",
        "df_pc_pd_sorted = df_pc_pd_sorted[5:187]\r\n",
        "\r\n",
        "df_pc_pd_sorted = df_pc_pd_sorted.set_index('Date')\r\n",
        "df_pc_pd_sorted.head()"
      ],
      "execution_count": 42,
      "outputs": [
        {
          "output_type": "execute_result",
          "data": {
            "text/html": [
              "<div>\n",
              "<style scoped>\n",
              "    .dataframe tbody tr th:only-of-type {\n",
              "        vertical-align: middle;\n",
              "    }\n",
              "\n",
              "    .dataframe tbody tr th {\n",
              "        vertical-align: top;\n",
              "    }\n",
              "\n",
              "    .dataframe thead th {\n",
              "        text-align: right;\n",
              "    }\n",
              "</style>\n",
              "<table border=\"1\" class=\"dataframe\">\n",
              "  <thead>\n",
              "    <tr style=\"text-align: right;\">\n",
              "      <th></th>\n",
              "      <th>sum(passenger_count_float)</th>\n",
              "    </tr>\n",
              "    <tr>\n",
              "      <th>Date</th>\n",
              "      <th></th>\n",
              "    </tr>\n",
              "  </thead>\n",
              "  <tbody>\n",
              "    <tr>\n",
              "      <th>2020-01-01</th>\n",
              "      <td>281825.0</td>\n",
              "    </tr>\n",
              "    <tr>\n",
              "      <th>2020-01-02</th>\n",
              "      <td>253419.0</td>\n",
              "    </tr>\n",
              "    <tr>\n",
              "      <th>2020-01-03</th>\n",
              "      <td>285181.0</td>\n",
              "    </tr>\n",
              "    <tr>\n",
              "      <th>2020-01-04</th>\n",
              "      <td>295810.0</td>\n",
              "    </tr>\n",
              "    <tr>\n",
              "      <th>2020-01-05</th>\n",
              "      <td>258618.0</td>\n",
              "    </tr>\n",
              "  </tbody>\n",
              "</table>\n",
              "</div>"
            ],
            "text/plain": [
              "            sum(passenger_count_float)\n",
              "Date                                  \n",
              "2020-01-01                    281825.0\n",
              "2020-01-02                    253419.0\n",
              "2020-01-03                    285181.0\n",
              "2020-01-04                    295810.0\n",
              "2020-01-05                    258618.0"
            ]
          },
          "metadata": {
            "tags": []
          },
          "execution_count": 42
        }
      ]
    },
    {
      "cell_type": "code",
      "metadata": {
        "colab": {
          "base_uri": "https://localhost:8080/",
          "height": 352
        },
        "id": "f2XNbOhW5_Ln",
        "outputId": "94216bfd-f874-4f0f-f843-255883349672"
      },
      "source": [
        "fig = plt.figure(figsize = (10, 5))\r\n",
        "plt.plot(df_pc_pd_sorted['sum(passenger_count_float)'], 'blue',linewidth=2)\r\n",
        "plt.xlabel(\"Days\")\r\n",
        "plt.ylabel(\"passenger count\",fontsize=16) \r\n",
        "plt.title(\"Total passenger count per day\",fontsize=16) \r\n",
        "plt.grid()\r\n",
        "plt.show() "
      ],
      "execution_count": 43,
      "outputs": [
        {
          "output_type": "display_data",
          "data": {
            "image/png": "[encoded data removed]",
            "text/plain": [
              "<Figure size 720x360 with 1 Axes>"
            ]
          },
          "metadata": {
            "tags": [],
            "needs_background": "light"
          }
        }
      ]
    },
    {
      "cell_type": "markdown",
      "metadata": {
        "id": "EdZXHTZG9_UV"
      },
      "source": [
        "Average of passenger count\r\n"
      ]
    },
    {
      "cell_type": "code",
      "metadata": {
        "id": "M29mgy6Z-k9B"
      },
      "source": [
        "df_pc_avg = df.groupBy(\"tpep_pickup_datetime_trim\").avg(\"passenger_count_float\")"
      ],
      "execution_count": 44,
      "outputs": []
    },
    {
      "cell_type": "code",
      "metadata": {
        "colab": {
          "base_uri": "https://localhost:8080/",
          "height": 225
        },
        "id": "q3X8a4Jd8tT0",
        "outputId": "04cbee7b-a015-4119-93bb-c793fe404675"
      },
      "source": [
        "df_pc_pd_avg = df_pc_avg.toPandas()\r\n",
        "df_pc_pd_avg.head()\r\n",
        "\r\n",
        "df_pc_pd_avg['Date'] = pd.to_datetime(df_pc_pd_avg.tpep_pickup_datetime_trim)\r\n",
        "df_pc_pd_sorted_avg = df_pc_pd_avg.sort_values(by = 'Date')\r\n",
        "df_pc_pd_sorted_avg = df_pc_pd_sorted_avg[['Date', 'avg(passenger_count_float)']]\r\n",
        "df_pc_pd_sorted_avg = df_pc_pd_sorted_avg[5:187]\r\n",
        "\r\n",
        "df_pc_pd_sorted_avg = df_pc_pd_sorted_avg.set_index('Date')\r\n",
        "df_pc_pd_sorted_avg.head()"
      ],
      "execution_count": 45,
      "outputs": [
        {
          "output_type": "execute_result",
          "data": {
            "text/html": [
              "<div>\n",
              "<style scoped>\n",
              "    .dataframe tbody tr th:only-of-type {\n",
              "        vertical-align: middle;\n",
              "    }\n",
              "\n",
              "    .dataframe tbody tr th {\n",
              "        vertical-align: top;\n",
              "    }\n",
              "\n",
              "    .dataframe thead th {\n",
              "        text-align: right;\n",
              "    }\n",
              "</style>\n",
              "<table border=\"1\" class=\"dataframe\">\n",
              "  <thead>\n",
              "    <tr style=\"text-align: right;\">\n",
              "      <th></th>\n",
              "      <th>avg(passenger_count_float)</th>\n",
              "    </tr>\n",
              "    <tr>\n",
              "      <th>Date</th>\n",
              "      <th></th>\n",
              "    </tr>\n",
              "  </thead>\n",
              "  <tbody>\n",
              "    <tr>\n",
              "      <th>2020-01-01</th>\n",
              "      <td>1.671778</td>\n",
              "    </tr>\n",
              "    <tr>\n",
              "      <th>2020-01-02</th>\n",
              "      <td>1.580993</td>\n",
              "    </tr>\n",
              "    <tr>\n",
              "      <th>2020-01-03</th>\n",
              "      <td>1.571072</td>\n",
              "    </tr>\n",
              "    <tr>\n",
              "      <th>2020-01-04</th>\n",
              "      <td>1.627959</td>\n",
              "    </tr>\n",
              "    <tr>\n",
              "      <th>2020-01-05</th>\n",
              "      <td>1.586244</td>\n",
              "    </tr>\n",
              "  </tbody>\n",
              "</table>\n",
              "</div>"
            ],
            "text/plain": [
              "            avg(passenger_count_float)\n",
              "Date                                  \n",
              "2020-01-01                    1.671778\n",
              "2020-01-02                    1.580993\n",
              "2020-01-03                    1.571072\n",
              "2020-01-04                    1.627959\n",
              "2020-01-05                    1.586244"
            ]
          },
          "metadata": {
            "tags": []
          },
          "execution_count": 45
        }
      ]
    },
    {
      "cell_type": "code",
      "metadata": {
        "colab": {
          "base_uri": "https://localhost:8080/",
          "height": 352
        },
        "id": "V4_rOXLh8tOV",
        "outputId": "9b9f3cc6-2b90-4f15-f0a9-5b1c0026ce7b"
      },
      "source": [
        "fig = plt.figure(figsize = (10, 5))\r\n",
        "plt.plot(df_pc_pd_sorted_avg['avg(passenger_count_float)'], 'green',linewidth=2)\r\n",
        "plt.xlabel(\"Days\")\r\n",
        "plt.ylabel(\"passenger count\",fontsize=16) \r\n",
        "plt.title(\"Average passenger count per day\",fontsize=16)\r\n",
        "plt.grid() \r\n",
        "plt.show() "
      ],
      "execution_count": 47,
      "outputs": [
        {
          "output_type": "display_data",
          "data": {
            "image/png": "[encoded data removed]",
            "text/plain": [
              "<Figure size 720x360 with 1 Axes>"
            ]
          },
          "metadata": {
            "tags": [],
            "needs_background": "light"
          }
        }
      ]
    },
    {
      "cell_type": "markdown",
      "metadata": {
        "id": "MygxB3vcBKML"
      },
      "source": [
        "Number of Trips per day"
      ]
    },
    {
      "cell_type": "markdown",
      "metadata": {
        "id": "dJPfxrwFFafU"
      },
      "source": [
        "Sum of Trips"
      ]
    },
    {
      "cell_type": "code",
      "metadata": {
        "id": "OJ4I4DmW8tLK"
      },
      "source": [
        "df_trips_sum = df.groupBy(\"tpep_pickup_datetime_trim\").count()"
      ],
      "execution_count": 48,
      "outputs": []
    },
    {
      "cell_type": "code",
      "metadata": {
        "colab": {
          "base_uri": "https://localhost:8080/",
          "height": 225
        },
        "id": "R04WwRvG-b_c",
        "outputId": "b4955941-7c71-4889-cd9f-72e1b6770586"
      },
      "source": [
        "df_trips_pd = df_trips_sum.toPandas()\r\n",
        "df_trips_pd.head()\r\n",
        "\r\n",
        "df_trips_pd['Date'] = pd.to_datetime(df_trips_pd.tpep_pickup_datetime_trim)\r\n",
        "df_trips_pd_sorted = df_trips_pd.sort_values(by = 'Date')\r\n",
        "df_trips_pd_sorted = df_trips_pd_sorted[['Date', 'count']]\r\n",
        "df_trips_pd_sorted = df_trips_pd_sorted[5:187]\r\n",
        "\r\n",
        "df_trips_pd_sorted = df_trips_pd_sorted.set_index('Date')\r\n",
        "df_trips_pd_sorted.head()"
      ],
      "execution_count": 49,
      "outputs": [
        {
          "output_type": "execute_result",
          "data": {
            "text/html": [
              "<div>\n",
              "<style scoped>\n",
              "    .dataframe tbody tr th:only-of-type {\n",
              "        vertical-align: middle;\n",
              "    }\n",
              "\n",
              "    .dataframe tbody tr th {\n",
              "        vertical-align: top;\n",
              "    }\n",
              "\n",
              "    .dataframe thead th {\n",
              "        text-align: right;\n",
              "    }\n",
              "</style>\n",
              "<table border=\"1\" class=\"dataframe\">\n",
              "  <thead>\n",
              "    <tr style=\"text-align: right;\">\n",
              "      <th></th>\n",
              "      <th>count</th>\n",
              "    </tr>\n",
              "    <tr>\n",
              "      <th>Date</th>\n",
              "      <th></th>\n",
              "    </tr>\n",
              "  </thead>\n",
              "  <tbody>\n",
              "    <tr>\n",
              "      <th>2020-01-01</th>\n",
              "      <td>169437</td>\n",
              "    </tr>\n",
              "    <tr>\n",
              "      <th>2020-01-02</th>\n",
              "      <td>162141</td>\n",
              "    </tr>\n",
              "    <tr>\n",
              "      <th>2020-01-03</th>\n",
              "      <td>183477</td>\n",
              "    </tr>\n",
              "    <tr>\n",
              "      <th>2020-01-04</th>\n",
              "      <td>182752</td>\n",
              "    </tr>\n",
              "    <tr>\n",
              "      <th>2020-01-05</th>\n",
              "      <td>164399</td>\n",
              "    </tr>\n",
              "  </tbody>\n",
              "</table>\n",
              "</div>"
            ],
            "text/plain": [
              "             count\n",
              "Date              \n",
              "2020-01-01  169437\n",
              "2020-01-02  162141\n",
              "2020-01-03  183477\n",
              "2020-01-04  182752\n",
              "2020-01-05  164399"
            ]
          },
          "metadata": {
            "tags": []
          },
          "execution_count": 49
        }
      ]
    },
    {
      "cell_type": "code",
      "metadata": {
        "colab": {
          "base_uri": "https://localhost:8080/",
          "height": 352
        },
        "id": "ifUwHNfD-b8C",
        "outputId": "91d32e0b-cd4f-407d-b63b-d464553a15d3"
      },
      "source": [
        "fig = plt.figure(figsize = (10, 5))\r\n",
        "plt.plot(df_trips_pd_sorted['count'], 'blue',linewidth=2)\r\n",
        "plt.xlabel(\"Days\")\r\n",
        "plt.ylabel(\"Number of trips\",fontsize=16) \r\n",
        "plt.title(\"Total Number of trips per day\",fontsize=16) \r\n",
        "plt.grid()\r\n",
        "plt.show() "
      ],
      "execution_count": 50,
      "outputs": [
        {
          "output_type": "display_data",
          "data": {
            "image/png": "[encoded data removed]",
            "text/plain": [
              "<Figure size 720x360 with 1 Axes>"
            ]
          },
          "metadata": {
            "tags": [],
            "needs_background": "light"
          }
        }
      ]
    },
    {
      "cell_type": "markdown",
      "metadata": {
        "id": "fniBmNqUBNBh"
      },
      "source": [
        "Total amount per day"
      ]
    },
    {
      "cell_type": "code",
      "metadata": {
        "colab": {
          "base_uri": "https://localhost:8080/"
        },
        "id": "oG416mBJG3bA",
        "outputId": "89227df7-cb9b-48ef-b584-94735b3df698"
      },
      "source": [
        "df = df.withColumn(\"total_amount_float\", df[\"total_amount\"].cast('float'))\r\n",
        "df.printSchema()"
      ],
      "execution_count": 51,
      "outputs": [
        {
          "output_type": "stream",
          "text": [
            "root\n",
            " |-- VendorID: string (nullable = true)\n",
            " |-- tpep_pickup_datetime: string (nullable = true)\n",
            " |-- tpep_dropoff_datetime: string (nullable = true)\n",
            " |-- passenger_count: string (nullable = true)\n",
            " |-- trip_distance: string (nullable = true)\n",
            " |-- RatecodeID: string (nullable = true)\n",
            " |-- store_and_fwd_flag: string (nullable = true)\n",
            " |-- PULocationID: string (nullable = true)\n",
            " |-- DOLocationID: string (nullable = true)\n",
            " |-- payment_type: string (nullable = true)\n",
            " |-- fare_amount: string (nullable = true)\n",
            " |-- extra: string (nullable = true)\n",
            " |-- mta_tax: string (nullable = true)\n",
            " |-- tip_amount: string (nullable = true)\n",
            " |-- tolls_amount: string (nullable = true)\n",
            " |-- improvement_surcharge: string (nullable = true)\n",
            " |-- total_amount: string (nullable = true)\n",
            " |-- congestion_surcharge: string (nullable = true)\n",
            " |-- tpep_pickup_datetime_trim: string (nullable = true)\n",
            " |-- trip_distance_int: float (nullable = true)\n",
            " |-- passenger_count_float: float (nullable = true)\n",
            " |-- total_amount_float: float (nullable = true)\n",
            "\n"
          ],
          "name": "stdout"
        }
      ]
    },
    {
      "cell_type": "code",
      "metadata": {
        "id": "pDCKoPE-BNa3"
      },
      "source": [
        "df_amount_sum = df.groupBy(\"tpep_pickup_datetime_trim\").sum(\"total_amount_float\")"
      ],
      "execution_count": 52,
      "outputs": []
    },
    {
      "cell_type": "code",
      "metadata": {
        "colab": {
          "base_uri": "https://localhost:8080/",
          "height": 225
        },
        "id": "6sZna3MGBN0S",
        "outputId": "48cf5b19-3d48-4c49-c727-e6870bb35fcf"
      },
      "source": [
        "df_amount_pd = df_amount_sum.toPandas()\r\n",
        "df_amount_pd.head()\r\n",
        "\r\n",
        "df_amount_pd['Date'] = pd.to_datetime(df_amount_pd.tpep_pickup_datetime_trim)\r\n",
        "df_amount_pd_sorted = df_amount_pd.sort_values(by = 'Date')\r\n",
        "df_amount_pd_sorted = df_amount_pd_sorted[['Date', 'sum(total_amount_float)']]\r\n",
        "df_amount_pd_sorted = df_amount_pd_sorted[5:187]\r\n",
        "\r\n",
        "df_amount_pd_sorted = df_amount_pd_sorted.set_index('Date')\r\n",
        "df_amount_pd_sorted.head()"
      ],
      "execution_count": 53,
      "outputs": [
        {
          "output_type": "execute_result",
          "data": {
            "text/html": [
              "<div>\n",
              "<style scoped>\n",
              "    .dataframe tbody tr th:only-of-type {\n",
              "        vertical-align: middle;\n",
              "    }\n",
              "\n",
              "    .dataframe tbody tr th {\n",
              "        vertical-align: top;\n",
              "    }\n",
              "\n",
              "    .dataframe thead th {\n",
              "        text-align: right;\n",
              "    }\n",
              "</style>\n",
              "<table border=\"1\" class=\"dataframe\">\n",
              "  <thead>\n",
              "    <tr style=\"text-align: right;\">\n",
              "      <th></th>\n",
              "      <th>sum(total_amount_float)</th>\n",
              "    </tr>\n",
              "    <tr>\n",
              "      <th>Date</th>\n",
              "      <th></th>\n",
              "    </tr>\n",
              "  </thead>\n",
              "  <tbody>\n",
              "    <tr>\n",
              "      <th>2020-01-01</th>\n",
              "      <td>3.339325e+06</td>\n",
              "    </tr>\n",
              "    <tr>\n",
              "      <th>2020-01-02</th>\n",
              "      <td>3.156269e+06</td>\n",
              "    </tr>\n",
              "    <tr>\n",
              "      <th>2020-01-03</th>\n",
              "      <td>3.396079e+06</td>\n",
              "    </tr>\n",
              "    <tr>\n",
              "      <th>2020-01-04</th>\n",
              "      <td>3.275097e+06</td>\n",
              "    </tr>\n",
              "    <tr>\n",
              "      <th>2020-01-05</th>\n",
              "      <td>3.130069e+06</td>\n",
              "    </tr>\n",
              "  </tbody>\n",
              "</table>\n",
              "</div>"
            ],
            "text/plain": [
              "            sum(total_amount_float)\n",
              "Date                               \n",
              "2020-01-01             3.339325e+06\n",
              "2020-01-02             3.156269e+06\n",
              "2020-01-03             3.396079e+06\n",
              "2020-01-04             3.275097e+06\n",
              "2020-01-05             3.130069e+06"
            ]
          },
          "metadata": {
            "tags": []
          },
          "execution_count": 53
        }
      ]
    },
    {
      "cell_type": "code",
      "metadata": {
        "colab": {
          "base_uri": "https://localhost:8080/",
          "height": 352
        },
        "id": "N4Mhtu49BOXW",
        "outputId": "acced7a5-face-423b-e068-f22e1675b323"
      },
      "source": [
        "fig = plt.figure(figsize = (10, 5))\r\n",
        "plt.plot(df_amount_pd_sorted['sum(total_amount_float)'], 'blue',linewidth=2)\r\n",
        "plt.xlabel(\"Days\")\r\n",
        "plt.ylabel(\"Total amount\",fontsize=16) \r\n",
        "plt.title(\"Total amount collected per day\",fontsize=16) \r\n",
        "plt.grid()\r\n",
        "plt.show() "
      ],
      "execution_count": 54,
      "outputs": [
        {
          "output_type": "display_data",
          "data": {
            "image/png": "[encoded data removed]",
            "text/plain": [
              "<Figure size 720x360 with 1 Axes>"
            ]
          },
          "metadata": {
            "tags": [],
            "needs_background": "light"
          }
        }
      ]
    },
    {
      "cell_type": "markdown",
      "metadata": {
        "id": "rZ7NA3hWH5Em"
      },
      "source": [
        "Average amount per day"
      ]
    },
    {
      "cell_type": "code",
      "metadata": {
        "id": "jYMyoidDBOSy"
      },
      "source": [
        "df_amount_avg = df.groupBy(\"tpep_pickup_datetime_trim\").avg(\"total_amount_float\")"
      ],
      "execution_count": 55,
      "outputs": []
    },
    {
      "cell_type": "code",
      "metadata": {
        "colab": {
          "base_uri": "https://localhost:8080/",
          "height": 225
        },
        "id": "xKFTzp6TH8B4",
        "outputId": "5bdb9287-9e3d-4960-e24e-2298dabca82d"
      },
      "source": [
        "df_amount_pd_avg = df_amount_avg.toPandas()\r\n",
        "df_amount_pd_avg.head()\r\n",
        "\r\n",
        "df_amount_pd_avg['Date'] = pd.to_datetime(df_amount_pd_avg.tpep_pickup_datetime_trim)\r\n",
        "df_amount_pd_sorted_avg = df_amount_pd_avg.sort_values(by = 'Date')\r\n",
        "df_amount_pd_sorted_avg = df_amount_pd_sorted_avg[['Date', 'avg(total_amount_float)']]\r\n",
        "df_amount_pd_sorted_avg = df_amount_pd_sorted_avg[5:187]\r\n",
        "\r\n",
        "df_amount_pd_sorted_avg = df_amount_pd_sorted_avg.set_index('Date')\r\n",
        "df_amount_pd_sorted_avg.head()"
      ],
      "execution_count": 56,
      "outputs": [
        {
          "output_type": "execute_result",
          "data": {
            "text/html": [
              "<div>\n",
              "<style scoped>\n",
              "    .dataframe tbody tr th:only-of-type {\n",
              "        vertical-align: middle;\n",
              "    }\n",
              "\n",
              "    .dataframe tbody tr th {\n",
              "        vertical-align: top;\n",
              "    }\n",
              "\n",
              "    .dataframe thead th {\n",
              "        text-align: right;\n",
              "    }\n",
              "</style>\n",
              "<table border=\"1\" class=\"dataframe\">\n",
              "  <thead>\n",
              "    <tr style=\"text-align: right;\">\n",
              "      <th></th>\n",
              "      <th>avg(total_amount_float)</th>\n",
              "    </tr>\n",
              "    <tr>\n",
              "      <th>Date</th>\n",
              "      <th></th>\n",
              "    </tr>\n",
              "  </thead>\n",
              "  <tbody>\n",
              "    <tr>\n",
              "      <th>2020-01-01</th>\n",
              "      <td>19.708359</td>\n",
              "    </tr>\n",
              "    <tr>\n",
              "      <th>2020-01-02</th>\n",
              "      <td>19.466199</td>\n",
              "    </tr>\n",
              "    <tr>\n",
              "      <th>2020-01-03</th>\n",
              "      <td>18.509565</td>\n",
              "    </tr>\n",
              "    <tr>\n",
              "      <th>2020-01-04</th>\n",
              "      <td>17.920994</td>\n",
              "    </tr>\n",
              "    <tr>\n",
              "      <th>2020-01-05</th>\n",
              "      <td>19.039467</td>\n",
              "    </tr>\n",
              "  </tbody>\n",
              "</table>\n",
              "</div>"
            ],
            "text/plain": [
              "            avg(total_amount_float)\n",
              "Date                               \n",
              "2020-01-01                19.708359\n",
              "2020-01-02                19.466199\n",
              "2020-01-03                18.509565\n",
              "2020-01-04                17.920994\n",
              "2020-01-05                19.039467"
            ]
          },
          "metadata": {
            "tags": []
          },
          "execution_count": 56
        }
      ]
    },
    {
      "cell_type": "code",
      "metadata": {
        "colab": {
          "base_uri": "https://localhost:8080/",
          "height": 352
        },
        "id": "JMbeGDw7H76w",
        "outputId": "139b6519-ee5c-46dc-b671-6ae69a9e44e0"
      },
      "source": [
        "fig = plt.figure(figsize = (10, 5))\r\n",
        "plt.plot(df_amount_pd_sorted_avg['avg(total_amount_float)'], 'green',linewidth=2)\r\n",
        "plt.xlabel(\"Days\")\r\n",
        "plt.ylabel(\"Average amount\",fontsize=16) \r\n",
        "plt.title(\"Average amount collected per day\",fontsize=16) \r\n",
        "plt.grid()\r\n",
        "plt.show() "
      ],
      "execution_count": 57,
      "outputs": [
        {
          "output_type": "display_data",
          "data": {
            "image/png": "[encoded data removed]",
            "text/plain": [
              "<Figure size 720x360 with 1 Axes>"
            ]
          },
          "metadata": {
            "tags": [],
            "needs_background": "light"
          }
        }
      ]
    },
    {
      "cell_type": "code",
      "metadata": {
        "id": "R7rrxPbWH71j"
      },
      "source": [
        ""
      ],
      "execution_count": 42,
      "outputs": []
    }
  ]
}