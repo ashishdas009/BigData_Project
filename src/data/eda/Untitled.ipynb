{
 "cells": [
  {
   "cell_type": "code",
   "execution_count": 76,
   "metadata": {},
   "outputs": [],
   "source": [
    "import pandas as pd\n",
    "import numpy as np\n",
    "import matplotlib.pyplot as plot\n",
    "\n",
    "\n",
    "import os"
   ]
  },
  {
   "cell_type": "code",
   "execution_count": 4,
   "metadata": {},
   "outputs": [],
   "source": [
    "data_dir = '/Volumes/Seagate-Backup/financial-data/AS500-by-stock/19-20'\n"
   ]
  },
  {
   "cell_type": "code",
   "execution_count": 35,
   "metadata": {},
   "outputs": [],
   "source": [
    "data_dir = '/Volumes/Seagate-Backup/financial-data/AS500-by-stock/17-18'\n",
    "apple_test = pd.read_csv(os.path.join(data_dir, 'AAPL.csv'))"
   ]
  },
  {
   "cell_type": "code",
   "execution_count": 37,
   "metadata": {},
   "outputs": [],
   "source": [
    "data_dir = '/Volumes/Seagate-Backup/financial-data/AS500-by-stock/15-16'\n",
    "apple_test1 = pd.read_csv(os.path.join(data_dir, 'AAPL.csv'))"
   ]
  },
  {
   "cell_type": "code",
   "execution_count": 42,
   "metadata": {},
   "outputs": [],
   "source": [
    "data_dir = '/Volumes/Seagate-Backup/financial-data/AS500-by-stock/13-14'\n",
    "apple_test2 = pd.read_csv(os.path.join(data_dir, 'AAPL.csv'))"
   ]
  },
  {
   "cell_type": "code",
   "execution_count": 38,
   "metadata": {},
   "outputs": [
    {
     "data": {
      "text/plain": [
       "((196458, 11), (195319, 11), (187402, 10))"
      ]
     },
     "execution_count": 38,
     "metadata": {},
     "output_type": "execute_result"
    }
   ],
   "source": [
    "apple_test1.shape, apple_test.shape, apple_raw.shape"
   ]
  },
  {
   "cell_type": "code",
   "execution_count": 43,
   "metadata": {},
   "outputs": [
    {
     "data": {
      "text/html": [
       "<div>\n",
       "<style scoped>\n",
       "    .dataframe tbody tr th:only-of-type {\n",
       "        vertical-align: middle;\n",
       "    }\n",
       "\n",
       "    .dataframe tbody tr th {\n",
       "        vertical-align: top;\n",
       "    }\n",
       "\n",
       "    .dataframe thead th {\n",
       "        text-align: right;\n",
       "    }\n",
       "</style>\n",
       "<table border=\"1\" class=\"dataframe\">\n",
       "  <thead>\n",
       "    <tr style=\"text-align: right;\">\n",
       "      <th></th>\n",
       "      <th>Unnamed: 0</th>\n",
       "      <th>Date</th>\n",
       "      <th>Timestamp</th>\n",
       "      <th>Ticker</th>\n",
       "      <th>OpenPrice</th>\n",
       "      <th>HighPrice</th>\n",
       "      <th>LowPrice</th>\n",
       "      <th>ClosePrice</th>\n",
       "      <th>TotalVolume</th>\n",
       "      <th>TotalQuantity</th>\n",
       "      <th>TotalTradeCount</th>\n",
       "    </tr>\n",
       "  </thead>\n",
       "  <tbody>\n",
       "    <tr>\n",
       "      <th>0</th>\n",
       "      <td>194931</td>\n",
       "      <td>20130102</td>\n",
       "      <td>09:31:00</td>\n",
       "      <td>AAPL</td>\n",
       "      <td>553.82</td>\n",
       "      <td>554.62</td>\n",
       "      <td>552.96</td>\n",
       "      <td>552.97</td>\n",
       "      <td>2.471286e+08</td>\n",
       "      <td>446339</td>\n",
       "      <td>2974</td>\n",
       "    </tr>\n",
       "    <tr>\n",
       "      <th>1</th>\n",
       "      <td>194932</td>\n",
       "      <td>20130102</td>\n",
       "      <td>09:32:00</td>\n",
       "      <td>AAPL</td>\n",
       "      <td>553.01</td>\n",
       "      <td>553.22</td>\n",
       "      <td>550.80</td>\n",
       "      <td>551.09</td>\n",
       "      <td>1.682818e+08</td>\n",
       "      <td>304940</td>\n",
       "      <td>1781</td>\n",
       "    </tr>\n",
       "    <tr>\n",
       "      <th>2</th>\n",
       "      <td>194933</td>\n",
       "      <td>20130102</td>\n",
       "      <td>09:33:00</td>\n",
       "      <td>AAPL</td>\n",
       "      <td>551.09</td>\n",
       "      <td>552.05</td>\n",
       "      <td>550.61</td>\n",
       "      <td>551.60</td>\n",
       "      <td>9.662124e+07</td>\n",
       "      <td>175266</td>\n",
       "      <td>1042</td>\n",
       "    </tr>\n",
       "    <tr>\n",
       "      <th>3</th>\n",
       "      <td>194934</td>\n",
       "      <td>20130102</td>\n",
       "      <td>09:34:00</td>\n",
       "      <td>AAPL</td>\n",
       "      <td>551.53</td>\n",
       "      <td>552.56</td>\n",
       "      <td>550.66</td>\n",
       "      <td>552.07</td>\n",
       "      <td>8.255482e+07</td>\n",
       "      <td>149650</td>\n",
       "      <td>931</td>\n",
       "    </tr>\n",
       "    <tr>\n",
       "      <th>4</th>\n",
       "      <td>194935</td>\n",
       "      <td>20130102</td>\n",
       "      <td>09:35:00</td>\n",
       "      <td>AAPL</td>\n",
       "      <td>552.07</td>\n",
       "      <td>553.64</td>\n",
       "      <td>552.07</td>\n",
       "      <td>553.50</td>\n",
       "      <td>1.053679e+08</td>\n",
       "      <td>190594</td>\n",
       "      <td>1190</td>\n",
       "    </tr>\n",
       "  </tbody>\n",
       "</table>\n",
       "</div>"
      ],
      "text/plain": [
       "   Unnamed: 0      Date Timestamp Ticker  OpenPrice  HighPrice  LowPrice  \\\n",
       "0      194931  20130102  09:31:00   AAPL     553.82     554.62    552.96   \n",
       "1      194932  20130102  09:32:00   AAPL     553.01     553.22    550.80   \n",
       "2      194933  20130102  09:33:00   AAPL     551.09     552.05    550.61   \n",
       "3      194934  20130102  09:34:00   AAPL     551.53     552.56    550.66   \n",
       "4      194935  20130102  09:35:00   AAPL     552.07     553.64    552.07   \n",
       "\n",
       "   ClosePrice   TotalVolume  TotalQuantity  TotalTradeCount  \n",
       "0      552.97  2.471286e+08         446339             2974  \n",
       "1      551.09  1.682818e+08         304940             1781  \n",
       "2      551.60  9.662124e+07         175266             1042  \n",
       "3      552.07  8.255482e+07         149650              931  \n",
       "4      553.50  1.053679e+08         190594             1190  "
      ]
     },
     "execution_count": 43,
     "metadata": {},
     "output_type": "execute_result"
    }
   ],
   "source": [
    "apple_test2.head()"
   ]
  },
  {
   "cell_type": "code",
   "execution_count": 57,
   "metadata": {},
   "outputs": [
    {
     "data": {
      "text/html": [
       "<div>\n",
       "<style scoped>\n",
       "    .dataframe tbody tr th:only-of-type {\n",
       "        vertical-align: middle;\n",
       "    }\n",
       "\n",
       "    .dataframe tbody tr th {\n",
       "        vertical-align: top;\n",
       "    }\n",
       "\n",
       "    .dataframe thead th {\n",
       "        text-align: right;\n",
       "    }\n",
       "</style>\n",
       "<table border=\"1\" class=\"dataframe\">\n",
       "  <thead>\n",
       "    <tr style=\"text-align: right;\">\n",
       "      <th></th>\n",
       "      <th>Unnamed: 0</th>\n",
       "      <th>Date</th>\n",
       "      <th>Timestamp</th>\n",
       "      <th>Ticker</th>\n",
       "      <th>OpenPrice</th>\n",
       "      <th>HighPrice</th>\n",
       "      <th>LowPrice</th>\n",
       "      <th>ClosePrice</th>\n",
       "      <th>TotalVolume</th>\n",
       "      <th>TotalQuantity</th>\n",
       "      <th>TotalTradeCount</th>\n",
       "    </tr>\n",
       "  </thead>\n",
       "  <tbody>\n",
       "    <tr>\n",
       "      <th>97009</th>\n",
       "      <td>13911</td>\n",
       "      <td>20151228</td>\n",
       "      <td>15:54:00</td>\n",
       "      <td>AAPL</td>\n",
       "      <td>106.64</td>\n",
       "      <td>106.70</td>\n",
       "      <td>106.63</td>\n",
       "      <td>106.69</td>\n",
       "      <td>5863919.62</td>\n",
       "      <td>54977</td>\n",
       "      <td>293</td>\n",
       "    </tr>\n",
       "    <tr>\n",
       "      <th>97010</th>\n",
       "      <td>13912</td>\n",
       "      <td>20151228</td>\n",
       "      <td>15:55:00</td>\n",
       "      <td>AAPL</td>\n",
       "      <td>106.70</td>\n",
       "      <td>106.74</td>\n",
       "      <td>106.69</td>\n",
       "      <td>106.71</td>\n",
       "      <td>12886875.63</td>\n",
       "      <td>120769</td>\n",
       "      <td>641</td>\n",
       "    </tr>\n",
       "    <tr>\n",
       "      <th>97011</th>\n",
       "      <td>13913</td>\n",
       "      <td>20151228</td>\n",
       "      <td>15:56:00</td>\n",
       "      <td>AAPL</td>\n",
       "      <td>106.71</td>\n",
       "      <td>106.72</td>\n",
       "      <td>106.67</td>\n",
       "      <td>106.72</td>\n",
       "      <td>16931339.03</td>\n",
       "      <td>158687</td>\n",
       "      <td>691</td>\n",
       "    </tr>\n",
       "    <tr>\n",
       "      <th>97012</th>\n",
       "      <td>13914</td>\n",
       "      <td>20151228</td>\n",
       "      <td>15:57:00</td>\n",
       "      <td>AAPL</td>\n",
       "      <td>106.72</td>\n",
       "      <td>106.73</td>\n",
       "      <td>106.69</td>\n",
       "      <td>106.73</td>\n",
       "      <td>9843012.99</td>\n",
       "      <td>92241</td>\n",
       "      <td>504</td>\n",
       "    </tr>\n",
       "    <tr>\n",
       "      <th>97013</th>\n",
       "      <td>13915</td>\n",
       "      <td>20151228</td>\n",
       "      <td>15:58:00</td>\n",
       "      <td>AAPL</td>\n",
       "      <td>106.73</td>\n",
       "      <td>106.75</td>\n",
       "      <td>106.71</td>\n",
       "      <td>106.72</td>\n",
       "      <td>10605746.63</td>\n",
       "      <td>99370</td>\n",
       "      <td>614</td>\n",
       "    </tr>\n",
       "    <tr>\n",
       "      <th>97014</th>\n",
       "      <td>13916</td>\n",
       "      <td>20151228</td>\n",
       "      <td>15:59:00</td>\n",
       "      <td>AAPL</td>\n",
       "      <td>106.73</td>\n",
       "      <td>106.73</td>\n",
       "      <td>106.64</td>\n",
       "      <td>106.66</td>\n",
       "      <td>13532091.99</td>\n",
       "      <td>126844</td>\n",
       "      <td>605</td>\n",
       "    </tr>\n",
       "    <tr>\n",
       "      <th>97015</th>\n",
       "      <td>13917</td>\n",
       "      <td>20151228</td>\n",
       "      <td>16:00:00</td>\n",
       "      <td>AAPL</td>\n",
       "      <td>106.66</td>\n",
       "      <td>106.83</td>\n",
       "      <td>106.65</td>\n",
       "      <td>106.82</td>\n",
       "      <td>36229423.81</td>\n",
       "      <td>339316</td>\n",
       "      <td>1437</td>\n",
       "    </tr>\n",
       "    <tr>\n",
       "      <th>97016</th>\n",
       "      <td>13918</td>\n",
       "      <td>20151228</td>\n",
       "      <td>16:01:00</td>\n",
       "      <td>AAPL</td>\n",
       "      <td>106.82</td>\n",
       "      <td>106.82</td>\n",
       "      <td>106.82</td>\n",
       "      <td>106.82</td>\n",
       "      <td>94856.16</td>\n",
       "      <td>888</td>\n",
       "      <td>1</td>\n",
       "    </tr>\n",
       "    <tr>\n",
       "      <th>97017</th>\n",
       "      <td>13919</td>\n",
       "      <td>20151228</td>\n",
       "      <td>16:04:00</td>\n",
       "      <td>AAPL</td>\n",
       "      <td>106.82</td>\n",
       "      <td>106.82</td>\n",
       "      <td>106.82</td>\n",
       "      <td>106.82</td>\n",
       "      <td>640920.00</td>\n",
       "      <td>6000</td>\n",
       "      <td>1</td>\n",
       "    </tr>\n",
       "    <tr>\n",
       "      <th>97018</th>\n",
       "      <td>13920</td>\n",
       "      <td>20151228</td>\n",
       "      <td>16:05:00</td>\n",
       "      <td>AAPL</td>\n",
       "      <td>106.73</td>\n",
       "      <td>106.73</td>\n",
       "      <td>106.73</td>\n",
       "      <td>106.73</td>\n",
       "      <td>640380.00</td>\n",
       "      <td>6000</td>\n",
       "      <td>1</td>\n",
       "    </tr>\n",
       "  </tbody>\n",
       "</table>\n",
       "</div>"
      ],
      "text/plain": [
       "       Unnamed: 0      Date Timestamp Ticker  OpenPrice  HighPrice  LowPrice  \\\n",
       "97009       13911  20151228  15:54:00   AAPL     106.64     106.70    106.63   \n",
       "97010       13912  20151228  15:55:00   AAPL     106.70     106.74    106.69   \n",
       "97011       13913  20151228  15:56:00   AAPL     106.71     106.72    106.67   \n",
       "97012       13914  20151228  15:57:00   AAPL     106.72     106.73    106.69   \n",
       "97013       13915  20151228  15:58:00   AAPL     106.73     106.75    106.71   \n",
       "97014       13916  20151228  15:59:00   AAPL     106.73     106.73    106.64   \n",
       "97015       13917  20151228  16:00:00   AAPL     106.66     106.83    106.65   \n",
       "97016       13918  20151228  16:01:00   AAPL     106.82     106.82    106.82   \n",
       "97017       13919  20151228  16:04:00   AAPL     106.82     106.82    106.82   \n",
       "97018       13920  20151228  16:05:00   AAPL     106.73     106.73    106.73   \n",
       "\n",
       "       ClosePrice  TotalVolume  TotalQuantity  TotalTradeCount  \n",
       "97009      106.69   5863919.62          54977              293  \n",
       "97010      106.71  12886875.63         120769              641  \n",
       "97011      106.72  16931339.03         158687              691  \n",
       "97012      106.73   9843012.99          92241              504  \n",
       "97013      106.72  10605746.63          99370              614  \n",
       "97014      106.66  13532091.99         126844              605  \n",
       "97015      106.82  36229423.81         339316             1437  \n",
       "97016      106.82     94856.16            888                1  \n",
       "97017      106.82    640920.00           6000                1  \n",
       "97018      106.73    640380.00           6000                1  "
      ]
     },
     "execution_count": 57,
     "metadata": {},
     "output_type": "execute_result"
    }
   ],
   "source": [
    "apple_test1[apple_test1.shape[0]//2-1220:apple_test1.shape[0]//2-1210]"
   ]
  },
  {
   "cell_type": "code",
   "execution_count": 40,
   "metadata": {},
   "outputs": [
    {
     "data": {
      "text/html": [
       "<div>\n",
       "<style scoped>\n",
       "    .dataframe tbody tr th:only-of-type {\n",
       "        vertical-align: middle;\n",
       "    }\n",
       "\n",
       "    .dataframe tbody tr th {\n",
       "        vertical-align: top;\n",
       "    }\n",
       "\n",
       "    .dataframe thead th {\n",
       "        text-align: right;\n",
       "    }\n",
       "</style>\n",
       "<table border=\"1\" class=\"dataframe\">\n",
       "  <thead>\n",
       "    <tr style=\"text-align: right;\">\n",
       "      <th></th>\n",
       "      <th>Unnamed: 0</th>\n",
       "      <th>Date</th>\n",
       "      <th>Timestamp</th>\n",
       "      <th>Ticker</th>\n",
       "      <th>OpenPrice</th>\n",
       "      <th>HighPrice</th>\n",
       "      <th>LowPrice</th>\n",
       "      <th>ClosePrice</th>\n",
       "      <th>TotalVolume</th>\n",
       "      <th>TotalQuantity</th>\n",
       "      <th>TotalTradeCount</th>\n",
       "    </tr>\n",
       "  </thead>\n",
       "  <tbody>\n",
       "    <tr>\n",
       "      <th>0</th>\n",
       "      <td>102955</td>\n",
       "      <td>20170103</td>\n",
       "      <td>09:31:00</td>\n",
       "      <td>AAPL</td>\n",
       "      <td>115.80</td>\n",
       "      <td>115.90</td>\n",
       "      <td>115.50</td>\n",
       "      <td>115.89</td>\n",
       "      <td>35393737.35</td>\n",
       "      <td>305883</td>\n",
       "      <td>1336</td>\n",
       "    </tr>\n",
       "    <tr>\n",
       "      <th>1</th>\n",
       "      <td>102956</td>\n",
       "      <td>20170103</td>\n",
       "      <td>09:32:00</td>\n",
       "      <td>AAPL</td>\n",
       "      <td>115.90</td>\n",
       "      <td>116.25</td>\n",
       "      <td>115.79</td>\n",
       "      <td>116.25</td>\n",
       "      <td>25959806.85</td>\n",
       "      <td>223684</td>\n",
       "      <td>696</td>\n",
       "    </tr>\n",
       "    <tr>\n",
       "      <th>2</th>\n",
       "      <td>102957</td>\n",
       "      <td>20170103</td>\n",
       "      <td>09:33:00</td>\n",
       "      <td>AAPL</td>\n",
       "      <td>116.25</td>\n",
       "      <td>116.33</td>\n",
       "      <td>116.23</td>\n",
       "      <td>116.30</td>\n",
       "      <td>18205959.53</td>\n",
       "      <td>156578</td>\n",
       "      <td>563</td>\n",
       "    </tr>\n",
       "    <tr>\n",
       "      <th>3</th>\n",
       "      <td>102958</td>\n",
       "      <td>20170103</td>\n",
       "      <td>09:34:00</td>\n",
       "      <td>AAPL</td>\n",
       "      <td>116.30</td>\n",
       "      <td>116.30</td>\n",
       "      <td>116.02</td>\n",
       "      <td>116.11</td>\n",
       "      <td>28362376.49</td>\n",
       "      <td>244264</td>\n",
       "      <td>864</td>\n",
       "    </tr>\n",
       "    <tr>\n",
       "      <th>4</th>\n",
       "      <td>102959</td>\n",
       "      <td>20170103</td>\n",
       "      <td>09:35:00</td>\n",
       "      <td>AAPL</td>\n",
       "      <td>116.11</td>\n",
       "      <td>116.24</td>\n",
       "      <td>116.11</td>\n",
       "      <td>116.15</td>\n",
       "      <td>18610372.50</td>\n",
       "      <td>160207</td>\n",
       "      <td>796</td>\n",
       "    </tr>\n",
       "  </tbody>\n",
       "</table>\n",
       "</div>"
      ],
      "text/plain": [
       "   Unnamed: 0      Date Timestamp Ticker  OpenPrice  HighPrice  LowPrice  \\\n",
       "0      102955  20170103  09:31:00   AAPL     115.80     115.90    115.50   \n",
       "1      102956  20170103  09:32:00   AAPL     115.90     116.25    115.79   \n",
       "2      102957  20170103  09:33:00   AAPL     116.25     116.33    116.23   \n",
       "3      102958  20170103  09:34:00   AAPL     116.30     116.30    116.02   \n",
       "4      102959  20170103  09:35:00   AAPL     116.11     116.24    116.11   \n",
       "\n",
       "   ClosePrice  TotalVolume  TotalQuantity  TotalTradeCount  \n",
       "0      115.89  35393737.35         305883             1336  \n",
       "1      116.25  25959806.85         223684              696  \n",
       "2      116.30  18205959.53         156578              563  \n",
       "3      116.11  28362376.49         244264              864  \n",
       "4      116.15  18610372.50         160207              796  "
      ]
     },
     "execution_count": 40,
     "metadata": {},
     "output_type": "execute_result"
    }
   ],
   "source": [
    "apple_test.head()"
   ]
  },
  {
   "cell_type": "code",
   "execution_count": 41,
   "metadata": {},
   "outputs": [
    {
     "data": {
      "text/html": [
       "<div>\n",
       "<style scoped>\n",
       "    .dataframe tbody tr th:only-of-type {\n",
       "        vertical-align: middle;\n",
       "    }\n",
       "\n",
       "    .dataframe tbody tr th {\n",
       "        vertical-align: top;\n",
       "    }\n",
       "\n",
       "    .dataframe thead th {\n",
       "        text-align: right;\n",
       "    }\n",
       "</style>\n",
       "<table border=\"1\" class=\"dataframe\">\n",
       "  <thead>\n",
       "    <tr style=\"text-align: right;\">\n",
       "      <th></th>\n",
       "      <th>Date</th>\n",
       "      <th>Timestamp</th>\n",
       "      <th>Ticker</th>\n",
       "      <th>OpenPrice</th>\n",
       "      <th>HighPrice</th>\n",
       "      <th>LowPrice</th>\n",
       "      <th>ClosePrice</th>\n",
       "      <th>TotalVolume</th>\n",
       "      <th>TotalQuantity</th>\n",
       "      <th>TotalTradeCount</th>\n",
       "    </tr>\n",
       "  </thead>\n",
       "  <tbody>\n",
       "    <tr>\n",
       "      <th>0</th>\n",
       "      <td>2019-01-02 09:31:00</td>\n",
       "      <td>09:31:00</td>\n",
       "      <td>AAPL</td>\n",
       "      <td>154.89</td>\n",
       "      <td>155.25</td>\n",
       "      <td>154.53</td>\n",
       "      <td>154.78</td>\n",
       "      <td>33646657.94</td>\n",
       "      <td>217411</td>\n",
       "      <td>1189</td>\n",
       "    </tr>\n",
       "    <tr>\n",
       "      <th>1</th>\n",
       "      <td>2019-01-02 09:32:00</td>\n",
       "      <td>09:32:00</td>\n",
       "      <td>AAPL</td>\n",
       "      <td>154.79</td>\n",
       "      <td>155.55</td>\n",
       "      <td>154.78</td>\n",
       "      <td>155.16</td>\n",
       "      <td>22625778.44</td>\n",
       "      <td>145750</td>\n",
       "      <td>624</td>\n",
       "    </tr>\n",
       "    <tr>\n",
       "      <th>2</th>\n",
       "      <td>2019-01-02 09:33:00</td>\n",
       "      <td>09:33:00</td>\n",
       "      <td>AAPL</td>\n",
       "      <td>155.18</td>\n",
       "      <td>155.30</td>\n",
       "      <td>154.77</td>\n",
       "      <td>154.81</td>\n",
       "      <td>21825180.18</td>\n",
       "      <td>140802</td>\n",
       "      <td>709</td>\n",
       "    </tr>\n",
       "    <tr>\n",
       "      <th>3</th>\n",
       "      <td>2019-01-02 09:34:00</td>\n",
       "      <td>09:34:00</td>\n",
       "      <td>AAPL</td>\n",
       "      <td>154.83</td>\n",
       "      <td>154.90</td>\n",
       "      <td>154.58</td>\n",
       "      <td>154.67</td>\n",
       "      <td>23962246.57</td>\n",
       "      <td>154889</td>\n",
       "      <td>803</td>\n",
       "    </tr>\n",
       "    <tr>\n",
       "      <th>4</th>\n",
       "      <td>2019-01-02 09:35:00</td>\n",
       "      <td>09:35:00</td>\n",
       "      <td>AAPL</td>\n",
       "      <td>154.63</td>\n",
       "      <td>155.00</td>\n",
       "      <td>154.62</td>\n",
       "      <td>154.75</td>\n",
       "      <td>20637571.95</td>\n",
       "      <td>133310</td>\n",
       "      <td>672</td>\n",
       "    </tr>\n",
       "  </tbody>\n",
       "</table>\n",
       "</div>"
      ],
      "text/plain": [
       "                 Date Timestamp Ticker  OpenPrice  HighPrice  LowPrice  \\\n",
       "0 2019-01-02 09:31:00  09:31:00   AAPL     154.89     155.25    154.53   \n",
       "1 2019-01-02 09:32:00  09:32:00   AAPL     154.79     155.55    154.78   \n",
       "2 2019-01-02 09:33:00  09:33:00   AAPL     155.18     155.30    154.77   \n",
       "3 2019-01-02 09:34:00  09:34:00   AAPL     154.83     154.90    154.58   \n",
       "4 2019-01-02 09:35:00  09:35:00   AAPL     154.63     155.00    154.62   \n",
       "\n",
       "   ClosePrice  TotalVolume  TotalQuantity  TotalTradeCount  \n",
       "0      154.78  33646657.94         217411             1189  \n",
       "1      155.16  22625778.44         145750              624  \n",
       "2      154.81  21825180.18         140802              709  \n",
       "3      154.67  23962246.57         154889              803  \n",
       "4      154.75  20637571.95         133310              672  "
      ]
     },
     "execution_count": 41,
     "metadata": {},
     "output_type": "execute_result"
    }
   ],
   "source": [
    "apple_raw.head()"
   ]
  },
  {
   "cell_type": "code",
   "execution_count": null,
   "metadata": {},
   "outputs": [],
   "source": []
  },
  {
   "cell_type": "code",
   "execution_count": 17,
   "metadata": {},
   "outputs": [],
   "source": [
    "apple_raw = pd.read_csv(os.path.join(data_dir, 'AAPL.csv'))"
   ]
  },
  {
   "cell_type": "code",
   "execution_count": 18,
   "metadata": {},
   "outputs": [
    {
     "data": {
      "text/html": [
       "<div>\n",
       "<style scoped>\n",
       "    .dataframe tbody tr th:only-of-type {\n",
       "        vertical-align: middle;\n",
       "    }\n",
       "\n",
       "    .dataframe tbody tr th {\n",
       "        vertical-align: top;\n",
       "    }\n",
       "\n",
       "    .dataframe thead th {\n",
       "        text-align: right;\n",
       "    }\n",
       "</style>\n",
       "<table border=\"1\" class=\"dataframe\">\n",
       "  <thead>\n",
       "    <tr style=\"text-align: right;\">\n",
       "      <th></th>\n",
       "      <th>Date</th>\n",
       "      <th>Timestamp</th>\n",
       "      <th>Ticker</th>\n",
       "      <th>OpenPrice</th>\n",
       "      <th>HighPrice</th>\n",
       "      <th>LowPrice</th>\n",
       "      <th>ClosePrice</th>\n",
       "      <th>TotalVolume</th>\n",
       "      <th>TotalQuantity</th>\n",
       "      <th>TotalTradeCount</th>\n",
       "    </tr>\n",
       "  </thead>\n",
       "  <tbody>\n",
       "    <tr>\n",
       "      <th>187397</th>\n",
       "      <td>20201125</td>\n",
       "      <td>15:56:00</td>\n",
       "      <td>AAPL</td>\n",
       "      <td>116.01</td>\n",
       "      <td>116.09</td>\n",
       "      <td>115.96</td>\n",
       "      <td>116.07</td>\n",
       "      <td>43789589.46</td>\n",
       "      <td>377391</td>\n",
       "      <td>1596</td>\n",
       "    </tr>\n",
       "    <tr>\n",
       "      <th>187398</th>\n",
       "      <td>20201125</td>\n",
       "      <td>15:57:00</td>\n",
       "      <td>AAPL</td>\n",
       "      <td>116.07</td>\n",
       "      <td>116.08</td>\n",
       "      <td>115.99</td>\n",
       "      <td>116.02</td>\n",
       "      <td>40058225.37</td>\n",
       "      <td>345257</td>\n",
       "      <td>1502</td>\n",
       "    </tr>\n",
       "    <tr>\n",
       "      <th>187399</th>\n",
       "      <td>20201125</td>\n",
       "      <td>15:58:00</td>\n",
       "      <td>AAPL</td>\n",
       "      <td>116.03</td>\n",
       "      <td>116.03</td>\n",
       "      <td>115.95</td>\n",
       "      <td>115.99</td>\n",
       "      <td>34008376.72</td>\n",
       "      <td>293198</td>\n",
       "      <td>1368</td>\n",
       "    </tr>\n",
       "    <tr>\n",
       "      <th>187400</th>\n",
       "      <td>20201125</td>\n",
       "      <td>15:59:00</td>\n",
       "      <td>AAPL</td>\n",
       "      <td>115.98</td>\n",
       "      <td>116.04</td>\n",
       "      <td>115.95</td>\n",
       "      <td>116.01</td>\n",
       "      <td>54670433.61</td>\n",
       "      <td>471351</td>\n",
       "      <td>2115</td>\n",
       "    </tr>\n",
       "    <tr>\n",
       "      <th>187401</th>\n",
       "      <td>20201125</td>\n",
       "      <td>16:00:00</td>\n",
       "      <td>AAPL</td>\n",
       "      <td>116.01</td>\n",
       "      <td>116.10</td>\n",
       "      <td>115.96</td>\n",
       "      <td>116.02</td>\n",
       "      <td>85469117.02</td>\n",
       "      <td>736568</td>\n",
       "      <td>2876</td>\n",
       "    </tr>\n",
       "  </tbody>\n",
       "</table>\n",
       "</div>"
      ],
      "text/plain": [
       "            Date Timestamp Ticker  OpenPrice  HighPrice  LowPrice  ClosePrice  \\\n",
       "187397  20201125  15:56:00   AAPL     116.01     116.09    115.96      116.07   \n",
       "187398  20201125  15:57:00   AAPL     116.07     116.08    115.99      116.02   \n",
       "187399  20201125  15:58:00   AAPL     116.03     116.03    115.95      115.99   \n",
       "187400  20201125  15:59:00   AAPL     115.98     116.04    115.95      116.01   \n",
       "187401  20201125  16:00:00   AAPL     116.01     116.10    115.96      116.02   \n",
       "\n",
       "        TotalVolume  TotalQuantity  TotalTradeCount  \n",
       "187397  43789589.46         377391             1596  \n",
       "187398  40058225.37         345257             1502  \n",
       "187399  34008376.72         293198             1368  \n",
       "187400  54670433.61         471351             2115  \n",
       "187401  85469117.02         736568             2876  "
      ]
     },
     "execution_count": 18,
     "metadata": {},
     "output_type": "execute_result"
    }
   ],
   "source": [
    "apple_raw.drop(columns={'Unnamed: 0'}, inplace=True)\n",
    "apple_raw.tail()"
   ]
  },
  {
   "cell_type": "code",
   "execution_count": 19,
   "metadata": {},
   "outputs": [
    {
     "data": {
      "text/html": [
       "<div>\n",
       "<style scoped>\n",
       "    .dataframe tbody tr th:only-of-type {\n",
       "        vertical-align: middle;\n",
       "    }\n",
       "\n",
       "    .dataframe tbody tr th {\n",
       "        vertical-align: top;\n",
       "    }\n",
       "\n",
       "    .dataframe thead th {\n",
       "        text-align: right;\n",
       "    }\n",
       "</style>\n",
       "<table border=\"1\" class=\"dataframe\">\n",
       "  <thead>\n",
       "    <tr style=\"text-align: right;\">\n",
       "      <th></th>\n",
       "      <th>Date</th>\n",
       "      <th>Timestamp</th>\n",
       "      <th>Ticker</th>\n",
       "      <th>OpenPrice</th>\n",
       "      <th>HighPrice</th>\n",
       "      <th>LowPrice</th>\n",
       "      <th>ClosePrice</th>\n",
       "      <th>TotalVolume</th>\n",
       "      <th>TotalQuantity</th>\n",
       "      <th>TotalTradeCount</th>\n",
       "    </tr>\n",
       "  </thead>\n",
       "  <tbody>\n",
       "    <tr>\n",
       "      <th>0</th>\n",
       "      <td>20190102</td>\n",
       "      <td>09:31:00</td>\n",
       "      <td>AAPL</td>\n",
       "      <td>154.89</td>\n",
       "      <td>155.25</td>\n",
       "      <td>154.53</td>\n",
       "      <td>154.78</td>\n",
       "      <td>33646657.94</td>\n",
       "      <td>217411</td>\n",
       "      <td>1189</td>\n",
       "    </tr>\n",
       "    <tr>\n",
       "      <th>1</th>\n",
       "      <td>20190102</td>\n",
       "      <td>09:32:00</td>\n",
       "      <td>AAPL</td>\n",
       "      <td>154.79</td>\n",
       "      <td>155.55</td>\n",
       "      <td>154.78</td>\n",
       "      <td>155.16</td>\n",
       "      <td>22625778.44</td>\n",
       "      <td>145750</td>\n",
       "      <td>624</td>\n",
       "    </tr>\n",
       "    <tr>\n",
       "      <th>2</th>\n",
       "      <td>20190102</td>\n",
       "      <td>09:33:00</td>\n",
       "      <td>AAPL</td>\n",
       "      <td>155.18</td>\n",
       "      <td>155.30</td>\n",
       "      <td>154.77</td>\n",
       "      <td>154.81</td>\n",
       "      <td>21825180.18</td>\n",
       "      <td>140802</td>\n",
       "      <td>709</td>\n",
       "    </tr>\n",
       "    <tr>\n",
       "      <th>3</th>\n",
       "      <td>20190102</td>\n",
       "      <td>09:34:00</td>\n",
       "      <td>AAPL</td>\n",
       "      <td>154.83</td>\n",
       "      <td>154.90</td>\n",
       "      <td>154.58</td>\n",
       "      <td>154.67</td>\n",
       "      <td>23962246.57</td>\n",
       "      <td>154889</td>\n",
       "      <td>803</td>\n",
       "    </tr>\n",
       "    <tr>\n",
       "      <th>4</th>\n",
       "      <td>20190102</td>\n",
       "      <td>09:35:00</td>\n",
       "      <td>AAPL</td>\n",
       "      <td>154.63</td>\n",
       "      <td>155.00</td>\n",
       "      <td>154.62</td>\n",
       "      <td>154.75</td>\n",
       "      <td>20637571.95</td>\n",
       "      <td>133310</td>\n",
       "      <td>672</td>\n",
       "    </tr>\n",
       "  </tbody>\n",
       "</table>\n",
       "</div>"
      ],
      "text/plain": [
       "       Date Timestamp Ticker  OpenPrice  HighPrice  LowPrice  ClosePrice  \\\n",
       "0  20190102  09:31:00   AAPL     154.89     155.25    154.53      154.78   \n",
       "1  20190102  09:32:00   AAPL     154.79     155.55    154.78      155.16   \n",
       "2  20190102  09:33:00   AAPL     155.18     155.30    154.77      154.81   \n",
       "3  20190102  09:34:00   AAPL     154.83     154.90    154.58      154.67   \n",
       "4  20190102  09:35:00   AAPL     154.63     155.00    154.62      154.75   \n",
       "\n",
       "   TotalVolume  TotalQuantity  TotalTradeCount  \n",
       "0  33646657.94         217411             1189  \n",
       "1  22625778.44         145750              624  \n",
       "2  21825180.18         140802              709  \n",
       "3  23962246.57         154889              803  \n",
       "4  20637571.95         133310              672  "
      ]
     },
     "execution_count": 19,
     "metadata": {},
     "output_type": "execute_result"
    }
   ],
   "source": [
    "apple_raw.head()"
   ]
  },
  {
   "cell_type": "code",
   "execution_count": 124,
   "metadata": {},
   "outputs": [],
   "source": [
    "# summary preprocess\n",
    "\n",
    "apple_test['Date'] = apple_test['Date'].apply(lambda x: str(x))\n",
    "\n",
    "apple_test['Date'] = apple_test['Date'].apply(lambda x : x[:4] + '-' + x[4:6] + '-' + x[6:])\n",
    "apple_test['Date'] = pd.to_datetime(apple_test['Date'] + ' ' + apple_test['Timestamp'])\n",
    "apple_test = apple_test[['Date', 'ClosePrice']]\n",
    "apple_test['Date'] = apple_test['Date'].apply(lambda x: pd.to_datetime(x))\n",
    "apple_test.set_index('Date', inplace=True)"
   ]
  },
  {
   "cell_type": "code",
   "execution_count": 125,
   "metadata": {},
   "outputs": [
    {
     "data": {
      "text/html": [
       "<div>\n",
       "<style scoped>\n",
       "    .dataframe tbody tr th:only-of-type {\n",
       "        vertical-align: middle;\n",
       "    }\n",
       "\n",
       "    .dataframe tbody tr th {\n",
       "        vertical-align: top;\n",
       "    }\n",
       "\n",
       "    .dataframe thead th {\n",
       "        text-align: right;\n",
       "    }\n",
       "</style>\n",
       "<table border=\"1\" class=\"dataframe\">\n",
       "  <thead>\n",
       "    <tr style=\"text-align: right;\">\n",
       "      <th></th>\n",
       "      <th>ClosePrice</th>\n",
       "    </tr>\n",
       "    <tr>\n",
       "      <th>Date</th>\n",
       "      <th></th>\n",
       "    </tr>\n",
       "  </thead>\n",
       "  <tbody>\n",
       "    <tr>\n",
       "      <th>2017-01-03 09:31:00</th>\n",
       "      <td>115.89</td>\n",
       "    </tr>\n",
       "    <tr>\n",
       "      <th>2017-01-03 09:32:00</th>\n",
       "      <td>116.25</td>\n",
       "    </tr>\n",
       "    <tr>\n",
       "      <th>2017-01-03 09:33:00</th>\n",
       "      <td>116.30</td>\n",
       "    </tr>\n",
       "  </tbody>\n",
       "</table>\n",
       "</div>"
      ],
      "text/plain": [
       "                     ClosePrice\n",
       "Date                           \n",
       "2017-01-03 09:31:00      115.89\n",
       "2017-01-03 09:32:00      116.25\n",
       "2017-01-03 09:33:00      116.30"
      ]
     },
     "execution_count": 125,
     "metadata": {},
     "output_type": "execute_result"
    }
   ],
   "source": [
    "apple_test.head(3)"
   ]
  },
  {
   "cell_type": "code",
   "execution_count": 20,
   "metadata": {},
   "outputs": [
    {
     "data": {
      "text/plain": [
       "Date               0\n",
       "Timestamp          0\n",
       "Ticker             0\n",
       "OpenPrice          0\n",
       "HighPrice          0\n",
       "LowPrice           0\n",
       "ClosePrice         0\n",
       "TotalVolume        0\n",
       "TotalQuantity      0\n",
       "TotalTradeCount    0\n",
       "dtype: int64"
      ]
     },
     "execution_count": 20,
     "metadata": {},
     "output_type": "execute_result"
    }
   ],
   "source": [
    "apple_raw.isna().sum()"
   ]
  },
  {
   "cell_type": "code",
   "execution_count": 21,
   "metadata": {},
   "outputs": [],
   "source": [
    "from datetime import datetime\n"
   ]
  },
  {
   "cell_type": "code",
   "execution_count": 23,
   "metadata": {},
   "outputs": [],
   "source": [
    "apple_raw['Date'] = apple_raw['Date'].apply(lambda x: str(x))\n",
    "apple_raw['Date'] = apple_raw['Date'].apply(lambda x : x[:4] + '-' + x[4:6] + '-' + x[6:])"
   ]
  },
  {
   "cell_type": "code",
   "execution_count": 24,
   "metadata": {},
   "outputs": [
    {
     "data": {
      "text/html": [
       "<div>\n",
       "<style scoped>\n",
       "    .dataframe tbody tr th:only-of-type {\n",
       "        vertical-align: middle;\n",
       "    }\n",
       "\n",
       "    .dataframe tbody tr th {\n",
       "        vertical-align: top;\n",
       "    }\n",
       "\n",
       "    .dataframe thead th {\n",
       "        text-align: right;\n",
       "    }\n",
       "</style>\n",
       "<table border=\"1\" class=\"dataframe\">\n",
       "  <thead>\n",
       "    <tr style=\"text-align: right;\">\n",
       "      <th></th>\n",
       "      <th>Date</th>\n",
       "      <th>Timestamp</th>\n",
       "      <th>Ticker</th>\n",
       "      <th>OpenPrice</th>\n",
       "      <th>HighPrice</th>\n",
       "      <th>LowPrice</th>\n",
       "      <th>ClosePrice</th>\n",
       "      <th>TotalVolume</th>\n",
       "      <th>TotalQuantity</th>\n",
       "      <th>TotalTradeCount</th>\n",
       "    </tr>\n",
       "  </thead>\n",
       "  <tbody>\n",
       "    <tr>\n",
       "      <th>0</th>\n",
       "      <td>2019-01-02</td>\n",
       "      <td>09:31:00</td>\n",
       "      <td>AAPL</td>\n",
       "      <td>154.89</td>\n",
       "      <td>155.25</td>\n",
       "      <td>154.53</td>\n",
       "      <td>154.78</td>\n",
       "      <td>33646657.94</td>\n",
       "      <td>217411</td>\n",
       "      <td>1189</td>\n",
       "    </tr>\n",
       "    <tr>\n",
       "      <th>1</th>\n",
       "      <td>2019-01-02</td>\n",
       "      <td>09:32:00</td>\n",
       "      <td>AAPL</td>\n",
       "      <td>154.79</td>\n",
       "      <td>155.55</td>\n",
       "      <td>154.78</td>\n",
       "      <td>155.16</td>\n",
       "      <td>22625778.44</td>\n",
       "      <td>145750</td>\n",
       "      <td>624</td>\n",
       "    </tr>\n",
       "  </tbody>\n",
       "</table>\n",
       "</div>"
      ],
      "text/plain": [
       "         Date Timestamp Ticker  OpenPrice  HighPrice  LowPrice  ClosePrice  \\\n",
       "0  2019-01-02  09:31:00   AAPL     154.89     155.25    154.53      154.78   \n",
       "1  2019-01-02  09:32:00   AAPL     154.79     155.55    154.78      155.16   \n",
       "\n",
       "   TotalVolume  TotalQuantity  TotalTradeCount  \n",
       "0  33646657.94         217411             1189  \n",
       "1  22625778.44         145750              624  "
      ]
     },
     "execution_count": 24,
     "metadata": {},
     "output_type": "execute_result"
    }
   ],
   "source": [
    "apple_raw.head(2)"
   ]
  },
  {
   "cell_type": "code",
   "execution_count": 29,
   "metadata": {},
   "outputs": [
    {
     "data": {
      "text/plain": [
       "False"
      ]
     },
     "execution_count": 29,
     "metadata": {},
     "output_type": "execute_result"
    }
   ],
   "source": [
    "True in list(apple_raw.duplicated().values)"
   ]
  },
  {
   "cell_type": "code",
   "execution_count": 30,
   "metadata": {},
   "outputs": [],
   "source": [
    "apple_raw['Date'] = pd.to_datetime(apple_raw['Date'] + ' ' + apple_raw['Timestamp'])"
   ]
  },
  {
   "cell_type": "code",
   "execution_count": 31,
   "metadata": {},
   "outputs": [
    {
     "data": {
      "text/html": [
       "<div>\n",
       "<style scoped>\n",
       "    .dataframe tbody tr th:only-of-type {\n",
       "        vertical-align: middle;\n",
       "    }\n",
       "\n",
       "    .dataframe tbody tr th {\n",
       "        vertical-align: top;\n",
       "    }\n",
       "\n",
       "    .dataframe thead th {\n",
       "        text-align: right;\n",
       "    }\n",
       "</style>\n",
       "<table border=\"1\" class=\"dataframe\">\n",
       "  <thead>\n",
       "    <tr style=\"text-align: right;\">\n",
       "      <th></th>\n",
       "      <th>Date</th>\n",
       "      <th>Timestamp</th>\n",
       "      <th>Ticker</th>\n",
       "      <th>OpenPrice</th>\n",
       "      <th>HighPrice</th>\n",
       "      <th>LowPrice</th>\n",
       "      <th>ClosePrice</th>\n",
       "      <th>TotalVolume</th>\n",
       "      <th>TotalQuantity</th>\n",
       "      <th>TotalTradeCount</th>\n",
       "    </tr>\n",
       "  </thead>\n",
       "  <tbody>\n",
       "    <tr>\n",
       "      <th>0</th>\n",
       "      <td>2019-01-02 09:31:00</td>\n",
       "      <td>09:31:00</td>\n",
       "      <td>AAPL</td>\n",
       "      <td>154.89</td>\n",
       "      <td>155.25</td>\n",
       "      <td>154.53</td>\n",
       "      <td>154.78</td>\n",
       "      <td>33646657.94</td>\n",
       "      <td>217411</td>\n",
       "      <td>1189</td>\n",
       "    </tr>\n",
       "    <tr>\n",
       "      <th>1</th>\n",
       "      <td>2019-01-02 09:32:00</td>\n",
       "      <td>09:32:00</td>\n",
       "      <td>AAPL</td>\n",
       "      <td>154.79</td>\n",
       "      <td>155.55</td>\n",
       "      <td>154.78</td>\n",
       "      <td>155.16</td>\n",
       "      <td>22625778.44</td>\n",
       "      <td>145750</td>\n",
       "      <td>624</td>\n",
       "    </tr>\n",
       "  </tbody>\n",
       "</table>\n",
       "</div>"
      ],
      "text/plain": [
       "                 Date Timestamp Ticker  OpenPrice  HighPrice  LowPrice  \\\n",
       "0 2019-01-02 09:31:00  09:31:00   AAPL     154.89     155.25    154.53   \n",
       "1 2019-01-02 09:32:00  09:32:00   AAPL     154.79     155.55    154.78   \n",
       "\n",
       "   ClosePrice  TotalVolume  TotalQuantity  TotalTradeCount  \n",
       "0      154.78  33646657.94         217411             1189  \n",
       "1      155.16  22625778.44         145750              624  "
      ]
     },
     "execution_count": 31,
     "metadata": {},
     "output_type": "execute_result"
    }
   ],
   "source": [
    "apple_raw.head(2)"
   ]
  },
  {
   "cell_type": "code",
   "execution_count": 34,
   "metadata": {},
   "outputs": [
    {
     "data": {
      "text/plain": [
       "True"
      ]
     },
     "execution_count": 34,
     "metadata": {},
     "output_type": "execute_result"
    }
   ],
   "source": [
    "# checking if there are any issues\n",
    "dates = list(apple_raw['Date'])\n",
    "dates2 = dates.copy()\n",
    "dates2.sort()\n",
    "dates == dates2"
   ]
  },
  {
   "cell_type": "code",
   "execution_count": 69,
   "metadata": {},
   "outputs": [
    {
     "data": {
      "text/html": [
       "<div>\n",
       "<style scoped>\n",
       "    .dataframe tbody tr th:only-of-type {\n",
       "        vertical-align: middle;\n",
       "    }\n",
       "\n",
       "    .dataframe tbody tr th {\n",
       "        vertical-align: top;\n",
       "    }\n",
       "\n",
       "    .dataframe thead th {\n",
       "        text-align: right;\n",
       "    }\n",
       "</style>\n",
       "<table border=\"1\" class=\"dataframe\">\n",
       "  <thead>\n",
       "    <tr style=\"text-align: right;\">\n",
       "      <th></th>\n",
       "      <th>Date</th>\n",
       "      <th>Timestamp</th>\n",
       "      <th>Ticker</th>\n",
       "      <th>OpenPrice</th>\n",
       "      <th>HighPrice</th>\n",
       "      <th>LowPrice</th>\n",
       "      <th>ClosePrice</th>\n",
       "      <th>TotalVolume</th>\n",
       "      <th>TotalQuantity</th>\n",
       "      <th>TotalTradeCount</th>\n",
       "    </tr>\n",
       "  </thead>\n",
       "  <tbody>\n",
       "    <tr>\n",
       "      <th>186616</th>\n",
       "      <td>2020-11-23 15:55:00</td>\n",
       "      <td>15:55:00</td>\n",
       "      <td>AAPL</td>\n",
       "      <td>113.91</td>\n",
       "      <td>113.93</td>\n",
       "      <td>113.87</td>\n",
       "      <td>113.87</td>\n",
       "      <td>4.608495e+07</td>\n",
       "      <td>404590</td>\n",
       "      <td>1674</td>\n",
       "    </tr>\n",
       "    <tr>\n",
       "      <th>186617</th>\n",
       "      <td>2020-11-23 15:56:00</td>\n",
       "      <td>15:56:00</td>\n",
       "      <td>AAPL</td>\n",
       "      <td>113.87</td>\n",
       "      <td>113.88</td>\n",
       "      <td>113.78</td>\n",
       "      <td>113.79</td>\n",
       "      <td>7.151454e+07</td>\n",
       "      <td>628311</td>\n",
       "      <td>2619</td>\n",
       "    </tr>\n",
       "    <tr>\n",
       "      <th>186618</th>\n",
       "      <td>2020-11-23 15:57:00</td>\n",
       "      <td>15:57:00</td>\n",
       "      <td>AAPL</td>\n",
       "      <td>113.78</td>\n",
       "      <td>113.85</td>\n",
       "      <td>113.76</td>\n",
       "      <td>113.77</td>\n",
       "      <td>6.099959e+07</td>\n",
       "      <td>536016</td>\n",
       "      <td>2165</td>\n",
       "    </tr>\n",
       "    <tr>\n",
       "      <th>186619</th>\n",
       "      <td>2020-11-23 15:58:00</td>\n",
       "      <td>15:58:00</td>\n",
       "      <td>AAPL</td>\n",
       "      <td>113.77</td>\n",
       "      <td>113.91</td>\n",
       "      <td>113.75</td>\n",
       "      <td>113.87</td>\n",
       "      <td>8.395030e+07</td>\n",
       "      <td>737547</td>\n",
       "      <td>2896</td>\n",
       "    </tr>\n",
       "    <tr>\n",
       "      <th>186620</th>\n",
       "      <td>2020-11-23 15:59:00</td>\n",
       "      <td>15:59:00</td>\n",
       "      <td>AAPL</td>\n",
       "      <td>113.87</td>\n",
       "      <td>113.98</td>\n",
       "      <td>113.81</td>\n",
       "      <td>113.94</td>\n",
       "      <td>9.329529e+07</td>\n",
       "      <td>819311</td>\n",
       "      <td>3446</td>\n",
       "    </tr>\n",
       "    <tr>\n",
       "      <th>186621</th>\n",
       "      <td>2020-11-23 16:00:00</td>\n",
       "      <td>16:00:00</td>\n",
       "      <td>AAPL</td>\n",
       "      <td>113.94</td>\n",
       "      <td>114.04</td>\n",
       "      <td>113.80</td>\n",
       "      <td>113.88</td>\n",
       "      <td>1.627802e+08</td>\n",
       "      <td>1428738</td>\n",
       "      <td>6351</td>\n",
       "    </tr>\n",
       "    <tr>\n",
       "      <th>186622</th>\n",
       "      <td>2020-11-24 09:31:00</td>\n",
       "      <td>09:31:00</td>\n",
       "      <td>AAPL</td>\n",
       "      <td>113.91</td>\n",
       "      <td>114.04</td>\n",
       "      <td>113.80</td>\n",
       "      <td>113.93</td>\n",
       "      <td>9.298035e+07</td>\n",
       "      <td>816272</td>\n",
       "      <td>3892</td>\n",
       "    </tr>\n",
       "    <tr>\n",
       "      <th>186623</th>\n",
       "      <td>2020-11-24 09:32:00</td>\n",
       "      <td>09:32:00</td>\n",
       "      <td>AAPL</td>\n",
       "      <td>113.93</td>\n",
       "      <td>114.03</td>\n",
       "      <td>113.80</td>\n",
       "      <td>113.89</td>\n",
       "      <td>8.845323e+07</td>\n",
       "      <td>776517</td>\n",
       "      <td>3015</td>\n",
       "    </tr>\n",
       "    <tr>\n",
       "      <th>186624</th>\n",
       "      <td>2020-11-24 09:33:00</td>\n",
       "      <td>09:33:00</td>\n",
       "      <td>AAPL</td>\n",
       "      <td>113.88</td>\n",
       "      <td>113.91</td>\n",
       "      <td>113.71</td>\n",
       "      <td>113.73</td>\n",
       "      <td>6.151097e+07</td>\n",
       "      <td>540427</td>\n",
       "      <td>2239</td>\n",
       "    </tr>\n",
       "    <tr>\n",
       "      <th>186625</th>\n",
       "      <td>2020-11-24 09:34:00</td>\n",
       "      <td>09:34:00</td>\n",
       "      <td>AAPL</td>\n",
       "      <td>113.73</td>\n",
       "      <td>113.81</td>\n",
       "      <td>113.28</td>\n",
       "      <td>113.30</td>\n",
       "      <td>9.306707e+07</td>\n",
       "      <td>819683</td>\n",
       "      <td>3161</td>\n",
       "    </tr>\n",
       "  </tbody>\n",
       "</table>\n",
       "</div>"
      ],
      "text/plain": [
       "                      Date Timestamp Ticker  OpenPrice  HighPrice  LowPrice  \\\n",
       "186616 2020-11-23 15:55:00  15:55:00   AAPL     113.91     113.93    113.87   \n",
       "186617 2020-11-23 15:56:00  15:56:00   AAPL     113.87     113.88    113.78   \n",
       "186618 2020-11-23 15:57:00  15:57:00   AAPL     113.78     113.85    113.76   \n",
       "186619 2020-11-23 15:58:00  15:58:00   AAPL     113.77     113.91    113.75   \n",
       "186620 2020-11-23 15:59:00  15:59:00   AAPL     113.87     113.98    113.81   \n",
       "186621 2020-11-23 16:00:00  16:00:00   AAPL     113.94     114.04    113.80   \n",
       "186622 2020-11-24 09:31:00  09:31:00   AAPL     113.91     114.04    113.80   \n",
       "186623 2020-11-24 09:32:00  09:32:00   AAPL     113.93     114.03    113.80   \n",
       "186624 2020-11-24 09:33:00  09:33:00   AAPL     113.88     113.91    113.71   \n",
       "186625 2020-11-24 09:34:00  09:34:00   AAPL     113.73     113.81    113.28   \n",
       "\n",
       "        ClosePrice   TotalVolume  TotalQuantity  TotalTradeCount  \n",
       "186616      113.87  4.608495e+07         404590             1674  \n",
       "186617      113.79  7.151454e+07         628311             2619  \n",
       "186618      113.77  6.099959e+07         536016             2165  \n",
       "186619      113.87  8.395030e+07         737547             2896  \n",
       "186620      113.94  9.329529e+07         819311             3446  \n",
       "186621      113.88  1.627802e+08        1428738             6351  \n",
       "186622      113.93  9.298035e+07         816272             3892  \n",
       "186623      113.89  8.845323e+07         776517             3015  \n",
       "186624      113.73  6.151097e+07         540427             2239  \n",
       "186625      113.30  9.306707e+07         819683             3161  "
      ]
     },
     "execution_count": 69,
     "metadata": {},
     "output_type": "execute_result"
    }
   ],
   "source": [
    "x = 786\n",
    "apple_raw[apple_raw.shape[0]-x:apple_raw.shape[0]-x+10]"
   ]
  },
  {
   "cell_type": "code",
   "execution_count": 70,
   "metadata": {},
   "outputs": [],
   "source": [
    "apple_raw['Date'] = apple_raw['Date'].apply(lambda x: pd.to_datetime(x))"
   ]
  },
  {
   "cell_type": "code",
   "execution_count": 71,
   "metadata": {},
   "outputs": [
    {
     "data": {
      "text/html": [
       "<div>\n",
       "<style scoped>\n",
       "    .dataframe tbody tr th:only-of-type {\n",
       "        vertical-align: middle;\n",
       "    }\n",
       "\n",
       "    .dataframe tbody tr th {\n",
       "        vertical-align: top;\n",
       "    }\n",
       "\n",
       "    .dataframe thead th {\n",
       "        text-align: right;\n",
       "    }\n",
       "</style>\n",
       "<table border=\"1\" class=\"dataframe\">\n",
       "  <thead>\n",
       "    <tr style=\"text-align: right;\">\n",
       "      <th></th>\n",
       "      <th>Date</th>\n",
       "      <th>Timestamp</th>\n",
       "      <th>Ticker</th>\n",
       "      <th>OpenPrice</th>\n",
       "      <th>HighPrice</th>\n",
       "      <th>LowPrice</th>\n",
       "      <th>ClosePrice</th>\n",
       "      <th>TotalVolume</th>\n",
       "      <th>TotalQuantity</th>\n",
       "      <th>TotalTradeCount</th>\n",
       "    </tr>\n",
       "  </thead>\n",
       "  <tbody>\n",
       "    <tr>\n",
       "      <th>0</th>\n",
       "      <td>2019-01-02 09:31:00</td>\n",
       "      <td>09:31:00</td>\n",
       "      <td>AAPL</td>\n",
       "      <td>154.89</td>\n",
       "      <td>155.25</td>\n",
       "      <td>154.53</td>\n",
       "      <td>154.78</td>\n",
       "      <td>33646657.94</td>\n",
       "      <td>217411</td>\n",
       "      <td>1189</td>\n",
       "    </tr>\n",
       "    <tr>\n",
       "      <th>1</th>\n",
       "      <td>2019-01-02 09:32:00</td>\n",
       "      <td>09:32:00</td>\n",
       "      <td>AAPL</td>\n",
       "      <td>154.79</td>\n",
       "      <td>155.55</td>\n",
       "      <td>154.78</td>\n",
       "      <td>155.16</td>\n",
       "      <td>22625778.44</td>\n",
       "      <td>145750</td>\n",
       "      <td>624</td>\n",
       "    </tr>\n",
       "    <tr>\n",
       "      <th>2</th>\n",
       "      <td>2019-01-02 09:33:00</td>\n",
       "      <td>09:33:00</td>\n",
       "      <td>AAPL</td>\n",
       "      <td>155.18</td>\n",
       "      <td>155.30</td>\n",
       "      <td>154.77</td>\n",
       "      <td>154.81</td>\n",
       "      <td>21825180.18</td>\n",
       "      <td>140802</td>\n",
       "      <td>709</td>\n",
       "    </tr>\n",
       "    <tr>\n",
       "      <th>3</th>\n",
       "      <td>2019-01-02 09:34:00</td>\n",
       "      <td>09:34:00</td>\n",
       "      <td>AAPL</td>\n",
       "      <td>154.83</td>\n",
       "      <td>154.90</td>\n",
       "      <td>154.58</td>\n",
       "      <td>154.67</td>\n",
       "      <td>23962246.57</td>\n",
       "      <td>154889</td>\n",
       "      <td>803</td>\n",
       "    </tr>\n",
       "    <tr>\n",
       "      <th>4</th>\n",
       "      <td>2019-01-02 09:35:00</td>\n",
       "      <td>09:35:00</td>\n",
       "      <td>AAPL</td>\n",
       "      <td>154.63</td>\n",
       "      <td>155.00</td>\n",
       "      <td>154.62</td>\n",
       "      <td>154.75</td>\n",
       "      <td>20637571.95</td>\n",
       "      <td>133310</td>\n",
       "      <td>672</td>\n",
       "    </tr>\n",
       "  </tbody>\n",
       "</table>\n",
       "</div>"
      ],
      "text/plain": [
       "                 Date Timestamp Ticker  OpenPrice  HighPrice  LowPrice  \\\n",
       "0 2019-01-02 09:31:00  09:31:00   AAPL     154.89     155.25    154.53   \n",
       "1 2019-01-02 09:32:00  09:32:00   AAPL     154.79     155.55    154.78   \n",
       "2 2019-01-02 09:33:00  09:33:00   AAPL     155.18     155.30    154.77   \n",
       "3 2019-01-02 09:34:00  09:34:00   AAPL     154.83     154.90    154.58   \n",
       "4 2019-01-02 09:35:00  09:35:00   AAPL     154.63     155.00    154.62   \n",
       "\n",
       "   ClosePrice  TotalVolume  TotalQuantity  TotalTradeCount  \n",
       "0      154.78  33646657.94         217411             1189  \n",
       "1      155.16  22625778.44         145750              624  \n",
       "2      154.81  21825180.18         140802              709  \n",
       "3      154.67  23962246.57         154889              803  \n",
       "4      154.75  20637571.95         133310              672  "
      ]
     },
     "execution_count": 71,
     "metadata": {},
     "output_type": "execute_result"
    }
   ],
   "source": [
    "apple_raw.head()"
   ]
  },
  {
   "cell_type": "code",
   "execution_count": 73,
   "metadata": {},
   "outputs": [],
   "source": [
    "apple = apple_raw[['Date', 'ClosePrice']]"
   ]
  },
  {
   "cell_type": "code",
   "execution_count": 74,
   "metadata": {},
   "outputs": [
    {
     "data": {
      "text/plain": [
       "ClosePrice    219.16\n",
       "dtype: float64"
      ]
     },
     "execution_count": 74,
     "metadata": {},
     "output_type": "execute_result"
    }
   ],
   "source": [
    "apple.median()"
   ]
  },
  {
   "cell_type": "code",
   "execution_count": 81,
   "metadata": {},
   "outputs": [
    {
     "name": "stdout",
     "output_type": "stream",
     "text": [
      "<class 'pandas.core.frame.DataFrame'>\n",
      "RangeIndex: 187402 entries, 0 to 187401\n",
      "Data columns (total 2 columns):\n",
      " #   Column      Non-Null Count   Dtype         \n",
      "---  ------      --------------   -----         \n",
      " 0   Date        187402 non-null  datetime64[ns]\n",
      " 1   ClosePrice  187402 non-null  float64       \n",
      "dtypes: datetime64[ns](1), float64(1)\n",
      "memory usage: 2.9 MB\n"
     ]
    }
   ],
   "source": [
    "apple.info()"
   ]
  },
  {
   "cell_type": "code",
   "execution_count": null,
   "metadata": {},
   "outputs": [],
   "source": []
  },
  {
   "cell_type": "code",
   "execution_count": 88,
   "metadata": {},
   "outputs": [
    {
     "data": {
      "image/png": "[encoded data removed]",
      "text/plain": [
       "<Figure size 432x288 with 1 Axes>"
      ]
     },
     "metadata": {
      "needs_background": "light"
     },
     "output_type": "display_data"
    }
   ],
   "source": [
    "plot.style.use('seaborn-deep')\n",
    "ax = apple.plot(x='Date',color='coral', grid=True, linewidth=3)\n",
    "ax.set_xlabel('Date')\n",
    "ax.set_ylabel('Price')\n",
    "ax.set_title('Stock Price')\n",
    "plot.show()"
   ]
  },
  {
   "cell_type": "code",
   "execution_count": 106,
   "metadata": {},
   "outputs": [],
   "source": [
    "%matplotlib inline"
   ]
  },
  {
   "cell_type": "code",
   "execution_count": 108,
   "metadata": {},
   "outputs": [
    {
     "name": "stdout",
     "output_type": "stream",
     "text": [
      "['Solarize_Light2', '_classic_test_patch', 'bmh', 'classic', 'dark_background', 'fast', 'fivethirtyeight', 'ggplot', 'grayscale', 'seaborn', 'seaborn-bright', 'seaborn-colorblind', 'seaborn-dark', 'seaborn-dark-palette', 'seaborn-darkgrid', 'seaborn-deep', 'seaborn-muted', 'seaborn-notebook', 'seaborn-paper', 'seaborn-pastel', 'seaborn-poster', 'seaborn-talk', 'seaborn-ticks', 'seaborn-white', 'seaborn-whitegrid', 'tableau-colorblind10']\n"
     ]
    }
   ],
   "source": [
    "print(plot.style.available)"
   ]
  },
  {
   "cell_type": "code",
   "execution_count": 126,
   "metadata": {},
   "outputs": [
    {
     "data": {
      "image/png": "[encoded data removed]",
      "text/plain": [
       "<Figure size 640x480 with 1 Axes>"
      ]
     },
     "metadata": {},
     "output_type": "display_data"
    }
   ],
   "source": [
    "plot.style.use('bmh')\n",
    "ax = apple_test.plot(color='red', grid=True, linewidth=3)\n",
    "ax.set_xlabel('Date')\n",
    "ax.set_ylabel('Price')\n",
    "ax.set_title('Stock Price')\n",
    "plot.show()"
   ]
  },
  {
   "cell_type": "code",
   "execution_count": 127,
   "metadata": {},
   "outputs": [
    {
     "data": {
      "text/plain": [
       "<matplotlib.axes._subplots.AxesSubplot at 0x7fdc1230f6d0>"
      ]
     },
     "execution_count": 127,
     "metadata": {},
     "output_type": "execute_result"
    },
    {
     "data": {
      "image/png": "[encoded data removed]",
      "text/plain": [
       "<Figure size 640x480 with 1 Axes>"
      ]
     },
     "metadata": {},
     "output_type": "display_data"
    }
   ],
   "source": [
    "# so apple is just a bit interesting\n",
    "apple_test.plot(kind='density', color=\"red\", grid=True, linewidth=3, fontsize=10)"
   ]
  },
  {
   "cell_type": "code",
   "execution_count": 123,
   "metadata": {},
   "outputs": [
    {
     "data": {
      "image/png": "[encoded data removed]",
      "text/plain": [
       "<Figure size 640x480 with 1 Axes>"
      ]
     },
     "metadata": {},
     "output_type": "display_data"
    }
   ],
   "source": [
    "plot.style.use('bmh')\n",
    "ax = apple.plot(color='red', grid=True, linewidth=3)\n",
    "ax.set_xlabel('Date')\n",
    "ax.set_ylabel('Price')\n",
    "ax.set_title('Stock Price')\n",
    "plot.show()"
   ]
  },
  {
   "cell_type": "code",
   "execution_count": null,
   "metadata": {},
   "outputs": [],
   "source": []
  },
  {
   "cell_type": "code",
   "execution_count": 97,
   "metadata": {},
   "outputs": [
    {
     "data": {
      "text/html": [
       "<div>\n",
       "<style scoped>\n",
       "    .dataframe tbody tr th:only-of-type {\n",
       "        vertical-align: middle;\n",
       "    }\n",
       "\n",
       "    .dataframe tbody tr th {\n",
       "        vertical-align: top;\n",
       "    }\n",
       "\n",
       "    .dataframe thead th {\n",
       "        text-align: right;\n",
       "    }\n",
       "</style>\n",
       "<table border=\"1\" class=\"dataframe\">\n",
       "  <thead>\n",
       "    <tr style=\"text-align: right;\">\n",
       "      <th></th>\n",
       "      <th>ClosePrice</th>\n",
       "    </tr>\n",
       "    <tr>\n",
       "      <th>Date</th>\n",
       "      <th></th>\n",
       "    </tr>\n",
       "  </thead>\n",
       "  <tbody>\n",
       "    <tr>\n",
       "      <th>2019-01-02 09:31:00</th>\n",
       "      <td>154.78</td>\n",
       "    </tr>\n",
       "    <tr>\n",
       "      <th>2019-01-02 09:32:00</th>\n",
       "      <td>155.16</td>\n",
       "    </tr>\n",
       "    <tr>\n",
       "      <th>2019-01-02 09:33:00</th>\n",
       "      <td>154.81</td>\n",
       "    </tr>\n",
       "    <tr>\n",
       "      <th>2019-01-02 09:34:00</th>\n",
       "      <td>154.67</td>\n",
       "    </tr>\n",
       "    <tr>\n",
       "      <th>2019-01-02 09:35:00</th>\n",
       "      <td>154.75</td>\n",
       "    </tr>\n",
       "  </tbody>\n",
       "</table>\n",
       "</div>"
      ],
      "text/plain": [
       "                     ClosePrice\n",
       "Date                           \n",
       "2019-01-02 09:31:00      154.78\n",
       "2019-01-02 09:32:00      155.16\n",
       "2019-01-02 09:33:00      154.81\n",
       "2019-01-02 09:34:00      154.67\n",
       "2019-01-02 09:35:00      154.75"
      ]
     },
     "execution_count": 97,
     "metadata": {},
     "output_type": "execute_result"
    }
   ],
   "source": [
    "apple.set_index('Date', inplace=True)\n",
    "apple.head()"
   ]
  },
  {
   "cell_type": "code",
   "execution_count": 98,
   "metadata": {
    "scrolled": true
   },
   "outputs": [
    {
     "data": {
      "text/plain": [
       "<matplotlib.axes._subplots.AxesSubplot at 0x7fdc1231a590>"
      ]
     },
     "execution_count": 98,
     "metadata": {},
     "output_type": "execute_result"
    },
    {
     "data": {
      "image/png": "[encoded data removed]",
      "text/plain": [
       "<Figure size 432x288 with 1 Axes>"
      ]
     },
     "metadata": {
      "needs_background": "light"
     },
     "output_type": "display_data"
    }
   ],
   "source": [
    "# kernel density plot - data distribution over continuous interval\n",
    "# \n",
    "apple.plot(kind='density', color=\"red\", grid=True, linewidth=3, fontsize=10)"
   ]
  },
  {
   "cell_type": "code",
   "execution_count": 101,
   "metadata": {},
   "outputs": [
    {
     "data": {
      "text/plain": [
       "<matplotlib.axes._subplots.AxesSubplot at 0x7fdc14cc7810>"
      ]
     },
     "execution_count": 101,
     "metadata": {},
     "output_type": "execute_result"
    },
    {
     "data": {
      "image/png": "[encoded data removed]",
      "text/plain": [
       "<Figure size 432x288 with 1 Axes>"
      ]
     },
     "metadata": {
      "needs_background": "light"
     },
     "output_type": "display_data"
    }
   ],
   "source": [
    "apple_2019 = apple[:'2019-12-31 16:00:00']\n",
    "apple_2019.plot(kind='density', color=\"red\", grid=True, linewidth=3, fontsize=10)"
   ]
  },
  {
   "cell_type": "markdown",
   "metadata": {},
   "source": [
    "#### Can see a large spike in the beginning the 2020"
   ]
  },
  {
   "cell_type": "code",
   "execution_count": 129,
   "metadata": {},
   "outputs": [
    {
     "data": {
      "text/plain": [
       "<matplotlib.axes._subplots.AxesSubplot at 0x7fdc081b07d0>"
      ]
     },
     "execution_count": 129,
     "metadata": {},
     "output_type": "execute_result"
    },
    {
     "data": {
      "image/png": "[encoded data removed]",
      "text/plain": [
       "<Figure size 640x480 with 1 Axes>"
      ]
     },
     "metadata": {},
     "output_type": "display_data"
    }
   ],
   "source": [
    "apple_2020 = apple['2020-01-02 09:31:00':]\n",
    "apple_2020.plot(kind='density', color=\"red\", grid=True, linewidth=3, fontsize=10)"
   ]
  },
  {
   "cell_type": "code",
   "execution_count": 128,
   "metadata": {},
   "outputs": [
    {
     "data": {
      "text/plain": [
       "<matplotlib.axes._subplots.AxesSubplot at 0x7fdc00aca3d0>"
      ]
     },
     "execution_count": 128,
     "metadata": {},
     "output_type": "execute_result"
    },
    {
     "data": {
      "image/png": "[encoded data removed]",
      "text/plain": [
       "<Figure size 640x480 with 1 Axes>"
      ]
     },
     "metadata": {},
     "output_type": "display_data"
    }
   ],
   "source": [
    "apple.plot(kind='hist', bins=50, color='violet', grid=True)"
   ]
  },
  {
   "cell_type": "code",
   "execution_count": null,
   "metadata": {},
   "outputs": [],
   "source": []
  }
 ],
 "metadata": {
  "kernelspec": {
   "display_name": "Python 3",
   "language": "python",
   "name": "python3"
  },
  "language_info": {
   "codemirror_mode": {
    "name": "ipython",
    "version": 3
   },
   "file_extension": ".py",
   "mimetype": "text/x-python",
   "name": "python",
   "nbconvert_exporter": "python",
   "pygments_lexer": "ipython3",
   "version": "3.7.6"
  }
 },
 "nbformat": 4,
 "nbformat_minor": 4
}
