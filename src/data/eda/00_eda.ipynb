{
 "cells": [
  {
   "cell_type": "code",
   "execution_count": 1,
   "metadata": {},
   "outputs": [],
   "source": [
    "import os\n",
    "import pandas as pd\n",
    "import matplotlib.pyplot as plt"
   ]
  },
  {
   "cell_type": "code",
   "execution_count": 20,
   "metadata": {},
   "outputs": [],
   "source": [
    "data_dir = '/Volumes/Seagate-Backup/financial-data/AS500-all-data/'\n",
    "file1 = '20201125.csv'\n",
    "file2 = '20201124.csv'"
   ]
  },
  {
   "cell_type": "code",
   "execution_count": 21,
   "metadata": {},
   "outputs": [],
   "source": [
    "df1 = pd.read_csv(os.path.join(data_dir, file1))\n",
    "df2 = pd.read_csv(os.path.join(data_dir, file2))"
   ]
  },
  {
   "cell_type": "code",
   "execution_count": 23,
   "metadata": {},
   "outputs": [
    {
     "data": {
      "text/plain": [
       "(Date               185333\n",
       " Timestamp          185333\n",
       " Ticker             185333\n",
       " OpenPrice          185333\n",
       " HighPrice          185333\n",
       " LowPrice           185333\n",
       " ClosePrice         185333\n",
       " TotalVolume        185333\n",
       " TotalQuantity      185333\n",
       " TotalTradeCount    185333\n",
       " dtype: int64,\n",
       " Date               193666\n",
       " Timestamp          193666\n",
       " Ticker             193666\n",
       " OpenPrice          193666\n",
       " HighPrice          193666\n",
       " LowPrice           193666\n",
       " ClosePrice         193666\n",
       " TotalVolume        193666\n",
       " TotalQuantity      193666\n",
       " TotalTradeCount    193666\n",
       " dtype: int64)"
      ]
     },
     "execution_count": 23,
     "metadata": {},
     "output_type": "execute_result"
    }
   ],
   "source": [
    "df1.count(), df2.count()"
   ]
  },
  {
   "cell_type": "code",
   "execution_count": null,
   "metadata": {},
   "outputs": [],
   "source": []
  },
  {
   "cell_type": "code",
   "execution_count": 7,
   "metadata": {},
   "outputs": [
    {
     "data": {
      "text/html": [
       "<div>\n",
       "<style scoped>\n",
       "    .dataframe tbody tr th:only-of-type {\n",
       "        vertical-align: middle;\n",
       "    }\n",
       "\n",
       "    .dataframe tbody tr th {\n",
       "        vertical-align: top;\n",
       "    }\n",
       "\n",
       "    .dataframe thead th {\n",
       "        text-align: right;\n",
       "    }\n",
       "</style>\n",
       "<table border=\"1\" class=\"dataframe\">\n",
       "  <thead>\n",
       "    <tr style=\"text-align: right;\">\n",
       "      <th></th>\n",
       "      <th>Date</th>\n",
       "      <th>Timestamp</th>\n",
       "      <th>Ticker</th>\n",
       "      <th>OpenPrice</th>\n",
       "      <th>HighPrice</th>\n",
       "      <th>LowPrice</th>\n",
       "      <th>ClosePrice</th>\n",
       "      <th>TotalVolume</th>\n",
       "      <th>TotalQuantity</th>\n",
       "      <th>TotalTradeCount</th>\n",
       "    </tr>\n",
       "  </thead>\n",
       "  <tbody>\n",
       "    <tr>\n",
       "      <th>0</th>\n",
       "      <td>20201125</td>\n",
       "      <td>09:31:00</td>\n",
       "      <td>CAH</td>\n",
       "      <td>54.13</td>\n",
       "      <td>54.13</td>\n",
       "      <td>53.86</td>\n",
       "      <td>53.97</td>\n",
       "      <td>366973.46</td>\n",
       "      <td>6790</td>\n",
       "      <td>40</td>\n",
       "    </tr>\n",
       "    <tr>\n",
       "      <th>1</th>\n",
       "      <td>20201125</td>\n",
       "      <td>09:32:00</td>\n",
       "      <td>CAH</td>\n",
       "      <td>53.97</td>\n",
       "      <td>53.97</td>\n",
       "      <td>53.97</td>\n",
       "      <td>53.97</td>\n",
       "      <td>5396.50</td>\n",
       "      <td>100</td>\n",
       "      <td>1</td>\n",
       "    </tr>\n",
       "    <tr>\n",
       "      <th>2</th>\n",
       "      <td>20201125</td>\n",
       "      <td>09:33:00</td>\n",
       "      <td>CAH</td>\n",
       "      <td>53.97</td>\n",
       "      <td>53.97</td>\n",
       "      <td>53.66</td>\n",
       "      <td>53.74</td>\n",
       "      <td>269215.57</td>\n",
       "      <td>5005</td>\n",
       "      <td>43</td>\n",
       "    </tr>\n",
       "    <tr>\n",
       "      <th>3</th>\n",
       "      <td>20201125</td>\n",
       "      <td>09:34:00</td>\n",
       "      <td>CAH</td>\n",
       "      <td>53.72</td>\n",
       "      <td>53.74</td>\n",
       "      <td>53.42</td>\n",
       "      <td>53.42</td>\n",
       "      <td>441153.07</td>\n",
       "      <td>8237</td>\n",
       "      <td>58</td>\n",
       "    </tr>\n",
       "    <tr>\n",
       "      <th>4</th>\n",
       "      <td>20201125</td>\n",
       "      <td>09:35:00</td>\n",
       "      <td>CAH</td>\n",
       "      <td>53.43</td>\n",
       "      <td>53.77</td>\n",
       "      <td>53.43</td>\n",
       "      <td>53.74</td>\n",
       "      <td>285459.60</td>\n",
       "      <td>5329</td>\n",
       "      <td>43</td>\n",
       "    </tr>\n",
       "  </tbody>\n",
       "</table>\n",
       "</div>"
      ],
      "text/plain": [
       "       Date Timestamp Ticker  OpenPrice  HighPrice  LowPrice  ClosePrice  \\\n",
       "0  20201125  09:31:00    CAH      54.13      54.13     53.86       53.97   \n",
       "1  20201125  09:32:00    CAH      53.97      53.97     53.97       53.97   \n",
       "2  20201125  09:33:00    CAH      53.97      53.97     53.66       53.74   \n",
       "3  20201125  09:34:00    CAH      53.72      53.74     53.42       53.42   \n",
       "4  20201125  09:35:00    CAH      53.43      53.77     53.43       53.74   \n",
       "\n",
       "   TotalVolume  TotalQuantity  TotalTradeCount  \n",
       "0    366973.46           6790               40  \n",
       "1      5396.50            100                1  \n",
       "2    269215.57           5005               43  \n",
       "3    441153.07           8237               58  \n",
       "4    285459.60           5329               43  "
      ]
     },
     "execution_count": 7,
     "metadata": {},
     "output_type": "execute_result"
    }
   ],
   "source": [
    "df.head()"
   ]
  },
  {
   "cell_type": "code",
   "execution_count": 25,
   "metadata": {},
   "outputs": [
    {
     "data": {
      "text/plain": [
       "(486, 486)"
      ]
     },
     "execution_count": 25,
     "metadata": {},
     "output_type": "execute_result"
    }
   ],
   "source": [
    "len(list(df1.Ticker.value_counts().index)), len(list(df2.Ticker.value_counts().index))"
   ]
  },
  {
   "cell_type": "code",
   "execution_count": 27,
   "metadata": {},
   "outputs": [
    {
     "data": {
      "text/plain": [
       "(Date               186733\n",
       " Timestamp          186733\n",
       " Ticker             186733\n",
       " OpenPrice          186733\n",
       " HighPrice          186733\n",
       " LowPrice           186733\n",
       " ClosePrice         186733\n",
       " TotalVolume        186733\n",
       " TotalQuantity      186733\n",
       " TotalTradeCount    186733\n",
       " dtype: int64,\n",
       " 500)"
      ]
     },
     "execution_count": 27,
     "metadata": {},
     "output_type": "execute_result"
    }
   ],
   "source": [
    "file3 = '20190715.csv'\n",
    "df3 = pd.read_csv(os.path.join(data_dir, file3))\n",
    "df3.count(), len(list(df3.Ticker.value_counts().index))"
   ]
  },
  {
   "cell_type": "code",
   "execution_count": 28,
   "metadata": {},
   "outputs": [
    {
     "data": {
      "text/plain": [
       "(Date               189655\n",
       " Timestamp          189655\n",
       " Ticker             189655\n",
       " OpenPrice          189655\n",
       " HighPrice          189655\n",
       " LowPrice           189655\n",
       " ClosePrice         189655\n",
       " TotalVolume        189655\n",
       " TotalQuantity      189655\n",
       " TotalTradeCount    189655\n",
       " dtype: int64,\n",
       " 499)"
      ]
     },
     "execution_count": 28,
     "metadata": {},
     "output_type": "execute_result"
    }
   ],
   "source": [
    "file4 = '20191008.csv'\n",
    "df4 = pd.read_csv(os.path.join(data_dir, file4))\n",
    "df4.count(), len(list(df4.Ticker.value_counts().index))"
   ]
  },
  {
   "cell_type": "code",
   "execution_count": 30,
   "metadata": {},
   "outputs": [
    {
     "data": {
      "text/html": [
       "<div>\n",
       "<style scoped>\n",
       "    .dataframe tbody tr th:only-of-type {\n",
       "        vertical-align: middle;\n",
       "    }\n",
       "\n",
       "    .dataframe tbody tr th {\n",
       "        vertical-align: top;\n",
       "    }\n",
       "\n",
       "    .dataframe thead th {\n",
       "        text-align: right;\n",
       "    }\n",
       "</style>\n",
       "<table border=\"1\" class=\"dataframe\">\n",
       "  <thead>\n",
       "    <tr style=\"text-align: right;\">\n",
       "      <th></th>\n",
       "      <th>Date</th>\n",
       "      <th>Timestamp</th>\n",
       "      <th>Ticker</th>\n",
       "      <th>OpenPrice</th>\n",
       "      <th>HighPrice</th>\n",
       "      <th>LowPrice</th>\n",
       "      <th>ClosePrice</th>\n",
       "      <th>TotalVolume</th>\n",
       "      <th>TotalQuantity</th>\n",
       "      <th>TotalTradeCount</th>\n",
       "    </tr>\n",
       "  </thead>\n",
       "  <tbody>\n",
       "    <tr>\n",
       "      <th>185328</th>\n",
       "      <td>20201125</td>\n",
       "      <td>15:56:00</td>\n",
       "      <td>CSCO</td>\n",
       "      <td>42.51</td>\n",
       "      <td>42.53</td>\n",
       "      <td>42.47</td>\n",
       "      <td>42.53</td>\n",
       "      <td>8128056.36</td>\n",
       "      <td>191218</td>\n",
       "      <td>633</td>\n",
       "    </tr>\n",
       "    <tr>\n",
       "      <th>185329</th>\n",
       "      <td>20201125</td>\n",
       "      <td>15:57:00</td>\n",
       "      <td>CSCO</td>\n",
       "      <td>42.53</td>\n",
       "      <td>42.54</td>\n",
       "      <td>42.51</td>\n",
       "      <td>42.51</td>\n",
       "      <td>5108879.69</td>\n",
       "      <td>120145</td>\n",
       "      <td>507</td>\n",
       "    </tr>\n",
       "    <tr>\n",
       "      <th>185330</th>\n",
       "      <td>20201125</td>\n",
       "      <td>15:58:00</td>\n",
       "      <td>CSCO</td>\n",
       "      <td>42.51</td>\n",
       "      <td>42.51</td>\n",
       "      <td>42.50</td>\n",
       "      <td>42.50</td>\n",
       "      <td>4048032.48</td>\n",
       "      <td>95238</td>\n",
       "      <td>433</td>\n",
       "    </tr>\n",
       "    <tr>\n",
       "      <th>185331</th>\n",
       "      <td>20201125</td>\n",
       "      <td>15:59:00</td>\n",
       "      <td>CSCO</td>\n",
       "      <td>42.51</td>\n",
       "      <td>42.52</td>\n",
       "      <td>42.50</td>\n",
       "      <td>42.51</td>\n",
       "      <td>5624993.13</td>\n",
       "      <td>132323</td>\n",
       "      <td>584</td>\n",
       "    </tr>\n",
       "    <tr>\n",
       "      <th>185332</th>\n",
       "      <td>20201125</td>\n",
       "      <td>16:00:00</td>\n",
       "      <td>CSCO</td>\n",
       "      <td>42.51</td>\n",
       "      <td>42.53</td>\n",
       "      <td>42.50</td>\n",
       "      <td>42.52</td>\n",
       "      <td>14091704.89</td>\n",
       "      <td>331497</td>\n",
       "      <td>1076</td>\n",
       "    </tr>\n",
       "  </tbody>\n",
       "</table>\n",
       "</div>"
      ],
      "text/plain": [
       "            Date Timestamp Ticker  OpenPrice  HighPrice  LowPrice  ClosePrice  \\\n",
       "185328  20201125  15:56:00   CSCO      42.51      42.53     42.47       42.53   \n",
       "185329  20201125  15:57:00   CSCO      42.53      42.54     42.51       42.51   \n",
       "185330  20201125  15:58:00   CSCO      42.51      42.51     42.50       42.50   \n",
       "185331  20201125  15:59:00   CSCO      42.51      42.52     42.50       42.51   \n",
       "185332  20201125  16:00:00   CSCO      42.51      42.53     42.50       42.52   \n",
       "\n",
       "        TotalVolume  TotalQuantity  TotalTradeCount  \n",
       "185328   8128056.36         191218              633  \n",
       "185329   5108879.69         120145              507  \n",
       "185330   4048032.48          95238              433  \n",
       "185331   5624993.13         132323              584  \n",
       "185332  14091704.89         331497             1076  "
      ]
     },
     "execution_count": 30,
     "metadata": {},
     "output_type": "execute_result"
    }
   ],
   "source": [
    "df1.tail()"
   ]
  },
  {
   "cell_type": "code",
   "execution_count": 31,
   "metadata": {},
   "outputs": [],
   "source": [
    "companies = list(df1.Ticker.value_counts().index)"
   ]
  },
  {
   "cell_type": "code",
   "execution_count": 36,
   "metadata": {},
   "outputs": [
    {
     "data": {
      "text/html": [
       "<div>\n",
       "<style scoped>\n",
       "    .dataframe tbody tr th:only-of-type {\n",
       "        vertical-align: middle;\n",
       "    }\n",
       "\n",
       "    .dataframe tbody tr th {\n",
       "        vertical-align: top;\n",
       "    }\n",
       "\n",
       "    .dataframe thead th {\n",
       "        text-align: right;\n",
       "    }\n",
       "</style>\n",
       "<table border=\"1\" class=\"dataframe\">\n",
       "  <thead>\n",
       "    <tr style=\"text-align: right;\">\n",
       "      <th></th>\n",
       "      <th>Date</th>\n",
       "      <th>Timestamp</th>\n",
       "      <th>Ticker</th>\n",
       "      <th>OpenPrice</th>\n",
       "      <th>HighPrice</th>\n",
       "      <th>LowPrice</th>\n",
       "      <th>ClosePrice</th>\n",
       "      <th>TotalVolume</th>\n",
       "      <th>TotalQuantity</th>\n",
       "      <th>TotalTradeCount</th>\n",
       "    </tr>\n",
       "  </thead>\n",
       "  <tbody>\n",
       "    <tr>\n",
       "      <th>38289</th>\n",
       "      <td>20201125</td>\n",
       "      <td>09:31:00</td>\n",
       "      <td>AAPL</td>\n",
       "      <td>115.55</td>\n",
       "      <td>115.85</td>\n",
       "      <td>115.50</td>\n",
       "      <td>115.71</td>\n",
       "      <td>55882181.95</td>\n",
       "      <td>482972</td>\n",
       "      <td>1973</td>\n",
       "    </tr>\n",
       "    <tr>\n",
       "      <th>38290</th>\n",
       "      <td>20201125</td>\n",
       "      <td>09:32:00</td>\n",
       "      <td>AAPL</td>\n",
       "      <td>115.72</td>\n",
       "      <td>115.75</td>\n",
       "      <td>115.32</td>\n",
       "      <td>115.35</td>\n",
       "      <td>59145420.29</td>\n",
       "      <td>512045</td>\n",
       "      <td>2010</td>\n",
       "    </tr>\n",
       "    <tr>\n",
       "      <th>38291</th>\n",
       "      <td>20201125</td>\n",
       "      <td>09:33:00</td>\n",
       "      <td>AAPL</td>\n",
       "      <td>115.35</td>\n",
       "      <td>115.45</td>\n",
       "      <td>115.17</td>\n",
       "      <td>115.43</td>\n",
       "      <td>52058312.51</td>\n",
       "      <td>451494</td>\n",
       "      <td>1821</td>\n",
       "    </tr>\n",
       "    <tr>\n",
       "      <th>38292</th>\n",
       "      <td>20201125</td>\n",
       "      <td>09:34:00</td>\n",
       "      <td>AAPL</td>\n",
       "      <td>115.42</td>\n",
       "      <td>115.73</td>\n",
       "      <td>115.42</td>\n",
       "      <td>115.55</td>\n",
       "      <td>56318234.78</td>\n",
       "      <td>487406</td>\n",
       "      <td>2049</td>\n",
       "    </tr>\n",
       "    <tr>\n",
       "      <th>38293</th>\n",
       "      <td>20201125</td>\n",
       "      <td>09:35:00</td>\n",
       "      <td>AAPL</td>\n",
       "      <td>115.55</td>\n",
       "      <td>115.78</td>\n",
       "      <td>115.35</td>\n",
       "      <td>115.74</td>\n",
       "      <td>54270169.03</td>\n",
       "      <td>469716</td>\n",
       "      <td>2184</td>\n",
       "    </tr>\n",
       "    <tr>\n",
       "      <th>38294</th>\n",
       "      <td>20201125</td>\n",
       "      <td>09:36:00</td>\n",
       "      <td>AAPL</td>\n",
       "      <td>115.74</td>\n",
       "      <td>115.99</td>\n",
       "      <td>115.70</td>\n",
       "      <td>115.93</td>\n",
       "      <td>54646782.74</td>\n",
       "      <td>471606</td>\n",
       "      <td>1879</td>\n",
       "    </tr>\n",
       "    <tr>\n",
       "      <th>38295</th>\n",
       "      <td>20201125</td>\n",
       "      <td>09:37:00</td>\n",
       "      <td>AAPL</td>\n",
       "      <td>115.94</td>\n",
       "      <td>116.27</td>\n",
       "      <td>115.92</td>\n",
       "      <td>116.26</td>\n",
       "      <td>79010367.18</td>\n",
       "      <td>680689</td>\n",
       "      <td>2832</td>\n",
       "    </tr>\n",
       "    <tr>\n",
       "      <th>38296</th>\n",
       "      <td>20201125</td>\n",
       "      <td>09:38:00</td>\n",
       "      <td>AAPL</td>\n",
       "      <td>116.26</td>\n",
       "      <td>116.44</td>\n",
       "      <td>116.25</td>\n",
       "      <td>116.38</td>\n",
       "      <td>65288749.14</td>\n",
       "      <td>561057</td>\n",
       "      <td>2362</td>\n",
       "    </tr>\n",
       "    <tr>\n",
       "      <th>38297</th>\n",
       "      <td>20201125</td>\n",
       "      <td>09:39:00</td>\n",
       "      <td>AAPL</td>\n",
       "      <td>116.38</td>\n",
       "      <td>116.50</td>\n",
       "      <td>116.30</td>\n",
       "      <td>116.33</td>\n",
       "      <td>60350209.56</td>\n",
       "      <td>518392</td>\n",
       "      <td>2302</td>\n",
       "    </tr>\n",
       "    <tr>\n",
       "      <th>38298</th>\n",
       "      <td>20201125</td>\n",
       "      <td>09:40:00</td>\n",
       "      <td>AAPL</td>\n",
       "      <td>116.33</td>\n",
       "      <td>116.51</td>\n",
       "      <td>116.21</td>\n",
       "      <td>116.23</td>\n",
       "      <td>59309255.71</td>\n",
       "      <td>509636</td>\n",
       "      <td>2186</td>\n",
       "    </tr>\n",
       "  </tbody>\n",
       "</table>\n",
       "</div>"
      ],
      "text/plain": [
       "           Date Timestamp Ticker  OpenPrice  HighPrice  LowPrice  ClosePrice  \\\n",
       "38289  20201125  09:31:00   AAPL     115.55     115.85    115.50      115.71   \n",
       "38290  20201125  09:32:00   AAPL     115.72     115.75    115.32      115.35   \n",
       "38291  20201125  09:33:00   AAPL     115.35     115.45    115.17      115.43   \n",
       "38292  20201125  09:34:00   AAPL     115.42     115.73    115.42      115.55   \n",
       "38293  20201125  09:35:00   AAPL     115.55     115.78    115.35      115.74   \n",
       "38294  20201125  09:36:00   AAPL     115.74     115.99    115.70      115.93   \n",
       "38295  20201125  09:37:00   AAPL     115.94     116.27    115.92      116.26   \n",
       "38296  20201125  09:38:00   AAPL     116.26     116.44    116.25      116.38   \n",
       "38297  20201125  09:39:00   AAPL     116.38     116.50    116.30      116.33   \n",
       "38298  20201125  09:40:00   AAPL     116.33     116.51    116.21      116.23   \n",
       "\n",
       "       TotalVolume  TotalQuantity  TotalTradeCount  \n",
       "38289  55882181.95         482972             1973  \n",
       "38290  59145420.29         512045             2010  \n",
       "38291  52058312.51         451494             1821  \n",
       "38292  56318234.78         487406             2049  \n",
       "38293  54270169.03         469716             2184  \n",
       "38294  54646782.74         471606             1879  \n",
       "38295  79010367.18         680689             2832  \n",
       "38296  65288749.14         561057             2362  \n",
       "38297  60350209.56         518392             2302  \n",
       "38298  59309255.71         509636             2186  "
      ]
     },
     "execution_count": 36,
     "metadata": {},
     "output_type": "execute_result"
    }
   ],
   "source": [
    "df1[df1['Ticker'] == 'AAPL'][:10]"
   ]
  },
  {
   "cell_type": "code",
   "execution_count": null,
   "metadata": {},
   "outputs": [],
   "source": []
  },
  {
   "cell_type": "code",
   "execution_count": null,
   "metadata": {},
   "outputs": [],
   "source": []
  },
  {
   "cell_type": "code",
   "execution_count": null,
   "metadata": {},
   "outputs": [],
   "source": []
  },
  {
   "cell_type": "code",
   "execution_count": null,
   "metadata": {},
   "outputs": [],
   "source": []
  },
  {
   "cell_type": "code",
   "execution_count": null,
   "metadata": {},
   "outputs": [],
   "source": []
  },
  {
   "cell_type": "code",
   "execution_count": null,
   "metadata": {},
   "outputs": [],
   "source": []
  },
  {
   "cell_type": "code",
   "execution_count": null,
   "metadata": {},
   "outputs": [],
   "source": []
  },
  {
   "cell_type": "code",
   "execution_count": null,
   "metadata": {},
   "outputs": [],
   "source": []
  },
  {
   "cell_type": "code",
   "execution_count": null,
   "metadata": {},
   "outputs": [],
   "source": []
  },
  {
   "cell_type": "code",
   "execution_count": null,
   "metadata": {},
   "outputs": [],
   "source": []
  },
  {
   "cell_type": "code",
   "execution_count": null,
   "metadata": {},
   "outputs": [],
   "source": []
  },
  {
   "cell_type": "code",
   "execution_count": null,
   "metadata": {},
   "outputs": [],
   "source": []
  },
  {
   "cell_type": "code",
   "execution_count": null,
   "metadata": {},
   "outputs": [],
   "source": []
  },
  {
   "cell_type": "code",
   "execution_count": null,
   "metadata": {},
   "outputs": [],
   "source": []
  },
  {
   "cell_type": "code",
   "execution_count": null,
   "metadata": {},
   "outputs": [],
   "source": []
  },
  {
   "cell_type": "code",
   "execution_count": null,
   "metadata": {},
   "outputs": [],
   "source": []
  },
  {
   "cell_type": "code",
   "execution_count": null,
   "metadata": {},
   "outputs": [],
   "source": []
  },
  {
   "cell_type": "code",
   "execution_count": null,
   "metadata": {},
   "outputs": [],
   "source": []
  },
  {
   "cell_type": "code",
   "execution_count": null,
   "metadata": {},
   "outputs": [],
   "source": []
  },
  {
   "cell_type": "code",
   "execution_count": null,
   "metadata": {},
   "outputs": [],
   "source": []
  },
  {
   "cell_type": "code",
   "execution_count": null,
   "metadata": {},
   "outputs": [],
   "source": []
  },
  {
   "cell_type": "code",
   "execution_count": null,
   "metadata": {},
   "outputs": [],
   "source": []
  },
  {
   "cell_type": "code",
   "execution_count": null,
   "metadata": {},
   "outputs": [],
   "source": []
  },
  {
   "cell_type": "code",
   "execution_count": null,
   "metadata": {},
   "outputs": [],
   "source": []
  },
  {
   "cell_type": "code",
   "execution_count": null,
   "metadata": {},
   "outputs": [],
   "source": []
  },
  {
   "cell_type": "code",
   "execution_count": null,
   "metadata": {},
   "outputs": [],
   "source": []
  },
  {
   "cell_type": "code",
   "execution_count": null,
   "metadata": {},
   "outputs": [],
   "source": []
  },
  {
   "cell_type": "code",
   "execution_count": null,
   "metadata": {},
   "outputs": [],
   "source": []
  },
  {
   "cell_type": "code",
   "execution_count": null,
   "metadata": {},
   "outputs": [],
   "source": []
  }
 ],
 "metadata": {
  "kernelspec": {
   "display_name": "Python 3",
   "language": "python",
   "name": "python3"
  },
  "language_info": {
   "codemirror_mode": {
    "name": "ipython",
    "version": 3
   },
   "file_extension": ".py",
   "mimetype": "text/x-python",
   "name": "python",
   "nbconvert_exporter": "python",
   "pygments_lexer": "ipython3",
   "version": "3.7.6"
  }
 },
 "nbformat": 4,
 "nbformat_minor": 4
}
