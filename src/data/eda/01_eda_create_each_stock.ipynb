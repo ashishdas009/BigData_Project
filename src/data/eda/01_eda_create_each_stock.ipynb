{
 "cells": [
  {
   "cell_type": "code",
   "execution_count": 1,
   "metadata": {},
   "outputs": [],
   "source": [
    "import os\n",
    "import pandas as pd\n",
    "\n",
    "from tqdm import tqdm"
   ]
  },
  {
   "cell_type": "code",
   "execution_count": null,
   "metadata": {
    "scrolled": true
   },
   "outputs": [
    {
     "name": "stderr",
     "output_type": "stream",
     "text": [
      "\r",
      "  0%|          | 0/3248 [00:00<?, ?it/s]"
     ]
    },
    {
     "name": "stdout",
     "output_type": "stream",
     "text": [
      "/Volumes/Seagate-Backup/financial-data/AS500-by-stock/08\n"
     ]
    },
    {
     "name": "stderr",
     "output_type": "stream",
     "text": [
      "\r",
      "  0%|          | 1/3248 [00:06<5:33:01,  6.15s/it]"
     ]
    },
    {
     "name": "stdout",
     "output_type": "stream",
     "text": [
      "/Volumes/Seagate-Backup/financial-data/AS500-by-stock/08\n"
     ]
    },
    {
     "name": "stderr",
     "output_type": "stream",
     "text": [
      "\r",
      "  0%|          | 2/3248 [00:12<5:33:57,  6.17s/it]"
     ]
    },
    {
     "name": "stdout",
     "output_type": "stream",
     "text": [
      "/Volumes/Seagate-Backup/financial-data/AS500-by-stock/08\n"
     ]
    },
    {
     "name": "stderr",
     "output_type": "stream",
     "text": [
      "\r",
      "  0%|          | 3/3248 [00:19<5:43:03,  6.34s/it]"
     ]
    },
    {
     "name": "stdout",
     "output_type": "stream",
     "text": [
      "/Volumes/Seagate-Backup/financial-data/AS500-by-stock/08\n"
     ]
    },
    {
     "name": "stderr",
     "output_type": "stream",
     "text": [
      "\r",
      "  0%|          | 4/3248 [00:25<5:48:17,  6.44s/it]"
     ]
    },
    {
     "name": "stdout",
     "output_type": "stream",
     "text": [
      "/Volumes/Seagate-Backup/financial-data/AS500-by-stock/08\n"
     ]
    },
    {
     "name": "stderr",
     "output_type": "stream",
     "text": [
      "\r",
      "  0%|          | 5/3248 [00:32<5:54:42,  6.56s/it]"
     ]
    },
    {
     "name": "stdout",
     "output_type": "stream",
     "text": [
      "/Volumes/Seagate-Backup/financial-data/AS500-by-stock/08\n"
     ]
    }
   ],
   "source": [
    "def write_dataframe(df, tickers: list, output_dir: str):\n",
    "    for ticker in tickers:\n",
    "        \n",
    "        \n",
    "        \n",
    "        company = df[df['Ticker'] == ticker]\n",
    "        \n",
    "        output_file = ticker + '.csv'\n",
    "        \n",
    "        # encoutered stock : NWS/A \n",
    "        if '/' in output_file:\n",
    "            output_file = output_file.replace('/', '_')\n",
    "            \n",
    "        if output_file in os.listdir(output_dir):\n",
    "            company.to_csv(os.path.join(output_dir, output_file), mode = 'a', header = False)\n",
    "        else:\n",
    "            company.to_csv(os.path.join(output_dir, output_file))\n",
    "        \n",
    "        company = None\n",
    "    df = None\n",
    "\n",
    "def create_output_dir(data_dir: str, output_folder: str, year: str):\n",
    "    folders = ['08', '09-10', '11-12', '13-14', '15-16', '17-18', '19-20']\n",
    "    \n",
    "    ret = data_dir.split('/')[:-1]\n",
    "    ret.append(output_folder)\n",
    "    year = [year_ranges for year_ranges in folders if year in year_ranges][0]\n",
    "    ret.append(year)\n",
    "    ret = '/'.join(ret)\n",
    "    print(ret)\n",
    "    return ret\n",
    "\n",
    "def create_company_files(data_dir: str, output_folder: str): # output_folder is AS500-by-stock\n",
    "\n",
    "    \n",
    "    for file in tqdm(os.listdir(data_dir)):\n",
    "        \n",
    "        # file info\n",
    "        year = file.split('.')[0][2:4]\n",
    "        output_dir = create_output_dir(data_dir, output_folder, year) # still needs filename(company)\n",
    "        \n",
    "        # load dataframe from original location\n",
    "        df = pd.read_csv(os.path.join(data_dir, file))\n",
    "        tickers = list(df.Ticker.unique())\n",
    "        \n",
    "        write_dataframe(df, tickers, output_dir)\n",
    "        \n",
    "        df = None # ensure we don't run out of memory\n",
    "        \n",
    "        \n",
    "data_dir = '/Volumes/Seagate-Backup/financial-data/AS500-all-data'\n",
    "output_folder = 'AS500-by-stock'\n",
    "create_company_files(data_dir, output_folder)"
   ]
  },
  {
   "cell_type": "code",
   "execution_count": 3,
   "metadata": {},
   "outputs": [],
   "source": [
    "data_dir = '/Volumes/Seagate-Backup/financial-data/AS500-all-data'"
   ]
  },
  {
   "cell_type": "code",
   "execution_count": 4,
   "metadata": {},
   "outputs": [],
   "source": [
    "# test with just 2 files\n",
    "file1 = '20201124.csv'\n",
    "file2 = '20201125.csv'"
   ]
  },
  {
   "cell_type": "code",
   "execution_count": 14,
   "metadata": {},
   "outputs": [
    {
     "data": {
      "text/html": [
       "<div>\n",
       "<style scoped>\n",
       "    .dataframe tbody tr th:only-of-type {\n",
       "        vertical-align: middle;\n",
       "    }\n",
       "\n",
       "    .dataframe tbody tr th {\n",
       "        vertical-align: top;\n",
       "    }\n",
       "\n",
       "    .dataframe thead th {\n",
       "        text-align: right;\n",
       "    }\n",
       "</style>\n",
       "<table border=\"1\" class=\"dataframe\">\n",
       "  <thead>\n",
       "    <tr style=\"text-align: right;\">\n",
       "      <th></th>\n",
       "      <th>Date</th>\n",
       "      <th>Timestamp</th>\n",
       "      <th>Ticker</th>\n",
       "      <th>OpenPrice</th>\n",
       "      <th>HighPrice</th>\n",
       "      <th>LowPrice</th>\n",
       "      <th>ClosePrice</th>\n",
       "      <th>TotalVolume</th>\n",
       "      <th>TotalQuantity</th>\n",
       "      <th>TotalTradeCount</th>\n",
       "    </tr>\n",
       "  </thead>\n",
       "  <tbody>\n",
       "    <tr>\n",
       "      <th>0</th>\n",
       "      <td>20201124</td>\n",
       "      <td>09:31:00</td>\n",
       "      <td>TXT</td>\n",
       "      <td>47.25</td>\n",
       "      <td>47.64</td>\n",
       "      <td>47.06</td>\n",
       "      <td>47.63</td>\n",
       "      <td>108941.13</td>\n",
       "      <td>2297</td>\n",
       "      <td>16</td>\n",
       "    </tr>\n",
       "    <tr>\n",
       "      <th>1</th>\n",
       "      <td>20201124</td>\n",
       "      <td>09:32:00</td>\n",
       "      <td>TXT</td>\n",
       "      <td>47.56</td>\n",
       "      <td>47.56</td>\n",
       "      <td>47.35</td>\n",
       "      <td>47.35</td>\n",
       "      <td>10484.85</td>\n",
       "      <td>221</td>\n",
       "      <td>2</td>\n",
       "    </tr>\n",
       "    <tr>\n",
       "      <th>2</th>\n",
       "      <td>20201124</td>\n",
       "      <td>09:34:00</td>\n",
       "      <td>TXT</td>\n",
       "      <td>47.28</td>\n",
       "      <td>47.37</td>\n",
       "      <td>47.18</td>\n",
       "      <td>47.18</td>\n",
       "      <td>93669.97</td>\n",
       "      <td>1980</td>\n",
       "      <td>12</td>\n",
       "    </tr>\n",
       "    <tr>\n",
       "      <th>3</th>\n",
       "      <td>20201124</td>\n",
       "      <td>09:35:00</td>\n",
       "      <td>TXT</td>\n",
       "      <td>47.36</td>\n",
       "      <td>47.36</td>\n",
       "      <td>47.13</td>\n",
       "      <td>47.13</td>\n",
       "      <td>42483.00</td>\n",
       "      <td>900</td>\n",
       "      <td>8</td>\n",
       "    </tr>\n",
       "    <tr>\n",
       "      <th>4</th>\n",
       "      <td>20201124</td>\n",
       "      <td>09:36:00</td>\n",
       "      <td>TXT</td>\n",
       "      <td>47.19</td>\n",
       "      <td>47.26</td>\n",
       "      <td>47.05</td>\n",
       "      <td>47.24</td>\n",
       "      <td>148775.50</td>\n",
       "      <td>3152</td>\n",
       "      <td>19</td>\n",
       "    </tr>\n",
       "  </tbody>\n",
       "</table>\n",
       "</div>"
      ],
      "text/plain": [
       "       Date Timestamp Ticker  OpenPrice  HighPrice  LowPrice  ClosePrice  \\\n",
       "0  20201124  09:31:00    TXT      47.25      47.64     47.06       47.63   \n",
       "1  20201124  09:32:00    TXT      47.56      47.56     47.35       47.35   \n",
       "2  20201124  09:34:00    TXT      47.28      47.37     47.18       47.18   \n",
       "3  20201124  09:35:00    TXT      47.36      47.36     47.13       47.13   \n",
       "4  20201124  09:36:00    TXT      47.19      47.26     47.05       47.24   \n",
       "\n",
       "   TotalVolume  TotalQuantity  TotalTradeCount  \n",
       "0    108941.13           2297               16  \n",
       "1     10484.85            221                2  \n",
       "2     93669.97           1980               12  \n",
       "3     42483.00            900                8  \n",
       "4    148775.50           3152               19  "
      ]
     },
     "execution_count": 14,
     "metadata": {},
     "output_type": "execute_result"
    }
   ],
   "source": [
    "df1 = pd.read_csv(os.path.join(data_dir, file1))\n",
    "df2 = pd.read_csv(os.path.join(data_dir, file2))\n",
    "df1.head()\n"
   ]
  },
  {
   "cell_type": "code",
   "execution_count": 16,
   "metadata": {},
   "outputs": [],
   "source": [
    "ticker1 = list(df1.Ticker.unique())\n",
    "ticker2 = list(df2.Ticker.unique())"
   ]
  },
  {
   "cell_type": "code",
   "execution_count": 23,
   "metadata": {},
   "outputs": [],
   "source": [
    "output_dir = '/Volumes/Seagate-Backup/financial-data/AS500-by-stock'"
   ]
  },
  {
   "cell_type": "code",
   "execution_count": 24,
   "metadata": {},
   "outputs": [],
   "source": [
    "files = [file1, file2]"
   ]
  },
  {
   "cell_type": "code",
   "execution_count": 27,
   "metadata": {},
   "outputs": [],
   "source": [
    "count = 0\n",
    "for file in files:\n",
    "    df = pd.read_csv(os.path.join(data_dir, file))\n",
    "    tickers = list(df.Ticker.unique())\n",
    "    for ticker in tickers:\n",
    "        df1 = df[df['Ticker'] == ticker]\n",
    "        \n",
    "        output_file = ticker + '.csv'\n",
    "#         output = os.path.join(output_dir, ticker+'.csv')\n",
    "        if output_file in os.listdir(output_dir):\n",
    "#             df2 = pd.read_csv(os.path.join(output_dir, output_file))\n",
    "            df1.to_csv(output_file, mode = 'a', header = False) # key--appending to file not loading in memory\n",
    "#             union_df = pd.concat\n",
    "        else:\n",
    "            df1.to_csv(output_file)\n",
    "            \n",
    "        count +=1\n",
    "        if count == 3:\n",
    "            break\n",
    "    break"
   ]
  },
  {
   "cell_type": "code",
   "execution_count": 25,
   "metadata": {},
   "outputs": [],
   "source": [
    "count = 0\n",
    "for filename in os.listdir(data_dir):\n",
    "    count+=1"
   ]
  },
  {
   "cell_type": "code",
   "execution_count": null,
   "metadata": {},
   "outputs": [],
   "source": []
  }
 ],
 "metadata": {
  "kernelspec": {
   "display_name": "Python 3",
   "language": "python",
   "name": "python3"
  },
  "language_info": {
   "codemirror_mode": {
    "name": "ipython",
    "version": 3
   },
   "file_extension": ".py",
   "mimetype": "text/x-python",
   "name": "python",
   "nbconvert_exporter": "python",
   "pygments_lexer": "ipython3",
   "version": "3.7.6"
  }
 },
 "nbformat": 4,
 "nbformat_minor": 4
}
